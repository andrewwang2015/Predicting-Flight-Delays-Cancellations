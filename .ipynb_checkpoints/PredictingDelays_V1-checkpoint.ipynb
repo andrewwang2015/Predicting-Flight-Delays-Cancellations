{
 "cells": [
  {
   "cell_type": "code",
   "execution_count": 1,
   "metadata": {
    "collapsed": true
   },
   "outputs": [],
   "source": [
    "import numpy as np # linear algebra\n",
    "import pandas as pd # data processing, CSV file I/O (e.g. pd.read_csv)\n",
    "import matplotlib.pyplot as plt\n",
    "import seaborn as sns\n",
    "import datetime\n",
    "%matplotlib inline"
   ]
  },
  {
   "cell_type": "code",
   "execution_count": 2,
   "metadata": {
    "collapsed": false
   },
   "outputs": [],
   "source": [
    "#airlines = pd.read_csv('airlines.csv')\n",
    "#airports = pd.read_csv('airports.csv')\n",
    "flights = pd.read_csv('Pruned_New.csv', low_memory=False)"
   ]
  },
  {
   "cell_type": "code",
   "execution_count": 3,
   "metadata": {
    "collapsed": false
   },
   "outputs": [
    {
     "data": {
      "text/html": [
       "<div>\n",
       "<table border=\"1\" class=\"dataframe\">\n",
       "  <thead>\n",
       "    <tr style=\"text-align: right;\">\n",
       "      <th></th>\n",
       "      <th>MONTH</th>\n",
       "      <th>DAY</th>\n",
       "      <th>DAY_OF_WEEK</th>\n",
       "      <th>AIRLINE</th>\n",
       "      <th>ORIGIN_AIRPORT</th>\n",
       "      <th>DESTINATION_AIRPORT</th>\n",
       "      <th>SCHEDULED_DEPARTURE</th>\n",
       "      <th>DISTANCE</th>\n",
       "      <th>SCHEDULED_ARRIVAL</th>\n",
       "      <th>ARRIVAL_DELAY</th>\n",
       "      <th>...</th>\n",
       "      <th>YEAR</th>\n",
       "      <th>DATE</th>\n",
       "      <th>DATE_STR</th>\n",
       "      <th>SCHEDULED_DEPARTURE_V1</th>\n",
       "      <th>SCHEDULED_ARRIVAL_V1</th>\n",
       "      <th>DEPARTURE_DATE_TIME_SCHEDULED</th>\n",
       "      <th>ARRIVAL_DATE_STR</th>\n",
       "      <th>ARRIVAL_DATE_TIME_SCHEDULED</th>\n",
       "      <th>ORIGIN_AIRPORT_V1</th>\n",
       "      <th>DESTINATION_AIRPORT_V1</th>\n",
       "    </tr>\n",
       "  </thead>\n",
       "  <tbody>\n",
       "    <tr>\n",
       "      <th>0</th>\n",
       "      <td>1</td>\n",
       "      <td>1</td>\n",
       "      <td>4</td>\n",
       "      <td>AS</td>\n",
       "      <td>ANC</td>\n",
       "      <td>SEA</td>\n",
       "      <td>5</td>\n",
       "      <td>1448</td>\n",
       "      <td>430</td>\n",
       "      <td>-22.0</td>\n",
       "      <td>...</td>\n",
       "      <td>2015</td>\n",
       "      <td>2015-01-01</td>\n",
       "      <td>2015-01-01</td>\n",
       "      <td>00:05</td>\n",
       "      <td>04:30</td>\n",
       "      <td>2015-01-01 00:05</td>\n",
       "      <td>2015-01-01</td>\n",
       "      <td>2015-01-01 04:30</td>\n",
       "      <td>ANC</td>\n",
       "      <td>SEA</td>\n",
       "    </tr>\n",
       "    <tr>\n",
       "      <th>1</th>\n",
       "      <td>1</td>\n",
       "      <td>1</td>\n",
       "      <td>4</td>\n",
       "      <td>AA</td>\n",
       "      <td>LAX</td>\n",
       "      <td>PBI</td>\n",
       "      <td>10</td>\n",
       "      <td>2330</td>\n",
       "      <td>750</td>\n",
       "      <td>-9.0</td>\n",
       "      <td>...</td>\n",
       "      <td>2015</td>\n",
       "      <td>2015-01-01</td>\n",
       "      <td>2015-01-01</td>\n",
       "      <td>00:10</td>\n",
       "      <td>07:50</td>\n",
       "      <td>2015-01-01 00:10</td>\n",
       "      <td>2015-01-01</td>\n",
       "      <td>2015-01-01 07:50</td>\n",
       "      <td>LAX</td>\n",
       "      <td>PBI</td>\n",
       "    </tr>\n",
       "    <tr>\n",
       "      <th>2</th>\n",
       "      <td>1</td>\n",
       "      <td>1</td>\n",
       "      <td>4</td>\n",
       "      <td>US</td>\n",
       "      <td>SFO</td>\n",
       "      <td>CLT</td>\n",
       "      <td>20</td>\n",
       "      <td>2296</td>\n",
       "      <td>806</td>\n",
       "      <td>5.0</td>\n",
       "      <td>...</td>\n",
       "      <td>2015</td>\n",
       "      <td>2015-01-01</td>\n",
       "      <td>2015-01-01</td>\n",
       "      <td>00:20</td>\n",
       "      <td>08:06</td>\n",
       "      <td>2015-01-01 00:20</td>\n",
       "      <td>2015-01-01</td>\n",
       "      <td>2015-01-01 08:06</td>\n",
       "      <td>SFO</td>\n",
       "      <td>CLT</td>\n",
       "    </tr>\n",
       "    <tr>\n",
       "      <th>3</th>\n",
       "      <td>1</td>\n",
       "      <td>1</td>\n",
       "      <td>4</td>\n",
       "      <td>AA</td>\n",
       "      <td>LAX</td>\n",
       "      <td>MIA</td>\n",
       "      <td>20</td>\n",
       "      <td>2342</td>\n",
       "      <td>805</td>\n",
       "      <td>-9.0</td>\n",
       "      <td>...</td>\n",
       "      <td>2015</td>\n",
       "      <td>2015-01-01</td>\n",
       "      <td>2015-01-01</td>\n",
       "      <td>00:20</td>\n",
       "      <td>08:05</td>\n",
       "      <td>2015-01-01 00:20</td>\n",
       "      <td>2015-01-01</td>\n",
       "      <td>2015-01-01 08:05</td>\n",
       "      <td>LAX</td>\n",
       "      <td>MIA</td>\n",
       "    </tr>\n",
       "    <tr>\n",
       "      <th>4</th>\n",
       "      <td>1</td>\n",
       "      <td>1</td>\n",
       "      <td>4</td>\n",
       "      <td>AS</td>\n",
       "      <td>SEA</td>\n",
       "      <td>ANC</td>\n",
       "      <td>25</td>\n",
       "      <td>1448</td>\n",
       "      <td>320</td>\n",
       "      <td>-21.0</td>\n",
       "      <td>...</td>\n",
       "      <td>2015</td>\n",
       "      <td>2015-01-01</td>\n",
       "      <td>2015-01-01</td>\n",
       "      <td>00:25</td>\n",
       "      <td>03:20</td>\n",
       "      <td>2015-01-01 00:25</td>\n",
       "      <td>2015-01-01</td>\n",
       "      <td>2015-01-01 03:20</td>\n",
       "      <td>SEA</td>\n",
       "      <td>ANC</td>\n",
       "    </tr>\n",
       "  </tbody>\n",
       "</table>\n",
       "<p>5 rows × 25 columns</p>\n",
       "</div>"
      ],
      "text/plain": [
       "   MONTH  DAY  DAY_OF_WEEK AIRLINE ORIGIN_AIRPORT DESTINATION_AIRPORT  \\\n",
       "0      1    1            4      AS            ANC                 SEA   \n",
       "1      1    1            4      AA            LAX                 PBI   \n",
       "2      1    1            4      US            SFO                 CLT   \n",
       "3      1    1            4      AA            LAX                 MIA   \n",
       "4      1    1            4      AS            SEA                 ANC   \n",
       "\n",
       "   SCHEDULED_DEPARTURE  DISTANCE  SCHEDULED_ARRIVAL  ARRIVAL_DELAY  \\\n",
       "0                    5      1448                430          -22.0   \n",
       "1                   10      2330                750           -9.0   \n",
       "2                   20      2296                806            5.0   \n",
       "3                   20      2342                805           -9.0   \n",
       "4                   25      1448                320          -21.0   \n",
       "\n",
       "           ...            YEAR        DATE     DATE_STR  \\\n",
       "0          ...            2015  2015-01-01  2015-01-01    \n",
       "1          ...            2015  2015-01-01  2015-01-01    \n",
       "2          ...            2015  2015-01-01  2015-01-01    \n",
       "3          ...            2015  2015-01-01  2015-01-01    \n",
       "4          ...            2015  2015-01-01  2015-01-01    \n",
       "\n",
       "  SCHEDULED_DEPARTURE_V1 SCHEDULED_ARRIVAL_V1  DEPARTURE_DATE_TIME_SCHEDULED  \\\n",
       "0                  00:05                04:30               2015-01-01 00:05   \n",
       "1                  00:10                07:50               2015-01-01 00:10   \n",
       "2                  00:20                08:06               2015-01-01 00:20   \n",
       "3                  00:20                08:05               2015-01-01 00:20   \n",
       "4                  00:25                03:20               2015-01-01 00:25   \n",
       "\n",
       "  ARRIVAL_DATE_STR ARRIVAL_DATE_TIME_SCHEDULED ORIGIN_AIRPORT_V1  \\\n",
       "0      2015-01-01             2015-01-01 04:30               ANC   \n",
       "1      2015-01-01             2015-01-01 07:50               LAX   \n",
       "2      2015-01-01             2015-01-01 08:06               SFO   \n",
       "3      2015-01-01             2015-01-01 08:05               LAX   \n",
       "4      2015-01-01             2015-01-01 03:20               SEA   \n",
       "\n",
       "  DESTINATION_AIRPORT_V1  \n",
       "0                    SEA  \n",
       "1                    PBI  \n",
       "2                    CLT  \n",
       "3                    MIA  \n",
       "4                    ANC  \n",
       "\n",
       "[5 rows x 25 columns]"
      ]
     },
     "execution_count": 3,
     "metadata": {},
     "output_type": "execute_result"
    }
   ],
   "source": [
    "flights.head()"
   ]
  },
  {
   "cell_type": "code",
   "execution_count": 5,
   "metadata": {
    "collapsed": false
   },
   "outputs": [
    {
     "data": {
      "text/plain": [
       "['MONTH',\n",
       " 'DAY',\n",
       " 'DAY_OF_WEEK',\n",
       " 'AIRLINE',\n",
       " 'ORIGIN_AIRPORT',\n",
       " 'DESTINATION_AIRPORT',\n",
       " 'SCHEDULED_DEPARTURE',\n",
       " 'DISTANCE',\n",
       " 'SCHEDULED_ARRIVAL',\n",
       " 'ARRIVAL_DELAY',\n",
       " 'DIVERTED',\n",
       " 'CANCELLED',\n",
       " 'MONTH_NAME',\n",
       " 'DOW_NAME',\n",
       " 'AIRLINE_NAME',\n",
       " 'YEAR',\n",
       " 'DATE',\n",
       " 'DATE_STR',\n",
       " 'SCHEDULED_DEPARTURE_V1',\n",
       " 'SCHEDULED_ARRIVAL_V1',\n",
       " 'DEPARTURE_DATE_TIME_SCHEDULED',\n",
       " 'ARRIVAL_DATE_STR',\n",
       " 'ARRIVAL_DATE_TIME_SCHEDULED',\n",
       " 'ORIGIN_AIRPORT_V1',\n",
       " 'DESTINATION_AIRPORT_V1']"
      ]
     },
     "execution_count": 5,
     "metadata": {},
     "output_type": "execute_result"
    }
   ],
   "source": [
    "cols = flights.columns.tolist()\n",
    "cols"
   ]
  },
  {
   "cell_type": "code",
   "execution_count": 7,
   "metadata": {
    "collapsed": true
   },
   "outputs": [],
   "source": [
    "newCols = [ 'MONTH_NAME',\n",
    " 'DOW_NAME',\n",
    " 'AIRLINE_NAME','AIRLINE','ORIGIN_AIRPORT_V1',\n",
    "            'DESTINATION_AIRPORT_V1',\n",
    " 'DEPARTURE_DATE_TIME_SCHEDULED',\n",
    " 'DISTANCE',\n",
    " 'ARRIVAL_DATE_TIME_SCHEDULED',\n",
    " 'ARRIVAL_DELAY',\n",
    " 'DIVERTED',\n",
    " 'CANCELLED',\n",
    "]"
   ]
  },
  {
   "cell_type": "code",
   "execution_count": 9,
   "metadata": {
    "collapsed": true
   },
   "outputs": [],
   "source": [
    "flights2 = flights[newCols]\n",
    "flights2.columns = [ 'MONTH_NAME',\n",
    " 'DOW_NAME',\n",
    " 'AIRLINE_NAME','AIRLINE','ORIGIN_AIRPORT',\n",
    "            'DESTINATION_AIRPORT',\n",
    " 'DEPARTURE_SCHEDULED',\n",
    " 'DISTANCE',\n",
    " 'ARRIVAL_SCHEDULED',\n",
    " 'ARRIVAL_DELAY',\n",
    " 'DIVERTED',\n",
    " 'CANCELLED',\n",
    "]"
   ]
  },
  {
   "cell_type": "code",
   "execution_count": 10,
   "metadata": {
    "collapsed": false
   },
   "outputs": [
    {
     "data": {
      "text/html": [
       "<div>\n",
       "<table border=\"1\" class=\"dataframe\">\n",
       "  <thead>\n",
       "    <tr style=\"text-align: right;\">\n",
       "      <th></th>\n",
       "      <th>MONTH_NAME</th>\n",
       "      <th>DOW_NAME</th>\n",
       "      <th>AIRLINE_NAME</th>\n",
       "      <th>AIRLINE</th>\n",
       "      <th>ORIGIN_AIRPORT</th>\n",
       "      <th>DESTINATION_AIRPORT</th>\n",
       "      <th>DEPARTURE_SCHEDULED</th>\n",
       "      <th>DISTANCE</th>\n",
       "      <th>ARRIVAL_SCHEDULED</th>\n",
       "      <th>ARRIVAL_DELAY</th>\n",
       "      <th>DIVERTED</th>\n",
       "      <th>CANCELLED</th>\n",
       "    </tr>\n",
       "  </thead>\n",
       "  <tbody>\n",
       "    <tr>\n",
       "      <th>0</th>\n",
       "      <td>01- January</td>\n",
       "      <td>Thursday</td>\n",
       "      <td>Alaska Airlines Inc.</td>\n",
       "      <td>AS</td>\n",
       "      <td>ANC</td>\n",
       "      <td>SEA</td>\n",
       "      <td>2015-01-01 00:05</td>\n",
       "      <td>1448</td>\n",
       "      <td>2015-01-01 04:30</td>\n",
       "      <td>-22.0</td>\n",
       "      <td>0</td>\n",
       "      <td>0</td>\n",
       "    </tr>\n",
       "    <tr>\n",
       "      <th>1</th>\n",
       "      <td>01- January</td>\n",
       "      <td>Thursday</td>\n",
       "      <td>American Airlines Inc.</td>\n",
       "      <td>AA</td>\n",
       "      <td>LAX</td>\n",
       "      <td>PBI</td>\n",
       "      <td>2015-01-01 00:10</td>\n",
       "      <td>2330</td>\n",
       "      <td>2015-01-01 07:50</td>\n",
       "      <td>-9.0</td>\n",
       "      <td>0</td>\n",
       "      <td>0</td>\n",
       "    </tr>\n",
       "    <tr>\n",
       "      <th>2</th>\n",
       "      <td>01- January</td>\n",
       "      <td>Thursday</td>\n",
       "      <td>US Airways Inc.</td>\n",
       "      <td>US</td>\n",
       "      <td>SFO</td>\n",
       "      <td>CLT</td>\n",
       "      <td>2015-01-01 00:20</td>\n",
       "      <td>2296</td>\n",
       "      <td>2015-01-01 08:06</td>\n",
       "      <td>5.0</td>\n",
       "      <td>0</td>\n",
       "      <td>0</td>\n",
       "    </tr>\n",
       "    <tr>\n",
       "      <th>3</th>\n",
       "      <td>01- January</td>\n",
       "      <td>Thursday</td>\n",
       "      <td>American Airlines Inc.</td>\n",
       "      <td>AA</td>\n",
       "      <td>LAX</td>\n",
       "      <td>MIA</td>\n",
       "      <td>2015-01-01 00:20</td>\n",
       "      <td>2342</td>\n",
       "      <td>2015-01-01 08:05</td>\n",
       "      <td>-9.0</td>\n",
       "      <td>0</td>\n",
       "      <td>0</td>\n",
       "    </tr>\n",
       "    <tr>\n",
       "      <th>4</th>\n",
       "      <td>01- January</td>\n",
       "      <td>Thursday</td>\n",
       "      <td>Alaska Airlines Inc.</td>\n",
       "      <td>AS</td>\n",
       "      <td>SEA</td>\n",
       "      <td>ANC</td>\n",
       "      <td>2015-01-01 00:25</td>\n",
       "      <td>1448</td>\n",
       "      <td>2015-01-01 03:20</td>\n",
       "      <td>-21.0</td>\n",
       "      <td>0</td>\n",
       "      <td>0</td>\n",
       "    </tr>\n",
       "  </tbody>\n",
       "</table>\n",
       "</div>"
      ],
      "text/plain": [
       "    MONTH_NAME  DOW_NAME            AIRLINE_NAME AIRLINE ORIGIN_AIRPORT  \\\n",
       "0  01- January  Thursday    Alaska Airlines Inc.      AS            ANC   \n",
       "1  01- January  Thursday  American Airlines Inc.      AA            LAX   \n",
       "2  01- January  Thursday         US Airways Inc.      US            SFO   \n",
       "3  01- January  Thursday  American Airlines Inc.      AA            LAX   \n",
       "4  01- January  Thursday    Alaska Airlines Inc.      AS            SEA   \n",
       "\n",
       "  DESTINATION_AIRPORT DEPARTURE_SCHEDULED  DISTANCE ARRIVAL_SCHEDULED  \\\n",
       "0                 SEA    2015-01-01 00:05      1448  2015-01-01 04:30   \n",
       "1                 PBI    2015-01-01 00:10      2330  2015-01-01 07:50   \n",
       "2                 CLT    2015-01-01 00:20      2296  2015-01-01 08:06   \n",
       "3                 MIA    2015-01-01 00:20      2342  2015-01-01 08:05   \n",
       "4                 ANC    2015-01-01 00:25      1448  2015-01-01 03:20   \n",
       "\n",
       "   ARRIVAL_DELAY  DIVERTED  CANCELLED  \n",
       "0          -22.0         0          0  \n",
       "1           -9.0         0          0  \n",
       "2            5.0         0          0  \n",
       "3           -9.0         0          0  \n",
       "4          -21.0         0          0  "
      ]
     },
     "execution_count": 10,
     "metadata": {},
     "output_type": "execute_result"
    }
   ],
   "source": [
    "flights2.head()"
   ]
  },
  {
   "cell_type": "code",
   "execution_count": null,
   "metadata": {
    "collapsed": true
   },
   "outputs": [],
   "source": [
    "flights2.to_csv(\"Flights_Modified.csv\", index = False)"
   ]
  },
  {
   "cell_type": "markdown",
   "metadata": {},
   "source": [
    "We first take a look at our airlines. We will then construct a dictionary mapping IATA_CODE to AIRLINE for future use."
   ]
  },
  {
   "cell_type": "code",
   "execution_count": null,
   "metadata": {
    "collapsed": false
   },
   "outputs": [],
   "source": [
    "airlines"
   ]
  },
  {
   "cell_type": "code",
   "execution_count": null,
   "metadata": {
    "collapsed": false
   },
   "outputs": [],
   "source": [
    "airlineMap = dict()\n",
    "for i, code in enumerate(airlines[\"IATA_CODE\"]):\n",
    "    airlineMap[code] = airlines[\"AIRLINE\"][i]"
   ]
  },
  {
   "cell_type": "code",
   "execution_count": null,
   "metadata": {
    "collapsed": false
   },
   "outputs": [],
   "source": [
    "airlineMap"
   ]
  },
  {
   "cell_type": "code",
   "execution_count": null,
   "metadata": {
    "collapsed": false
   },
   "outputs": [],
   "source": [
    "airports.head()"
   ]
  },
  {
   "cell_type": "code",
   "execution_count": null,
   "metadata": {
    "collapsed": false
   },
   "outputs": [],
   "source": [
    "flights.head()"
   ]
  },
  {
   "cell_type": "code",
   "execution_count": null,
   "metadata": {
    "collapsed": false
   },
   "outputs": [],
   "source": [
    "flights.info()"
   ]
  },
  {
   "cell_type": "code",
   "execution_count": null,
   "metadata": {
    "collapsed": false
   },
   "outputs": [],
   "source": [
    "numCancelled = sum(flights[\"CANCELLED\"])"
   ]
  },
  {
   "cell_type": "code",
   "execution_count": null,
   "metadata": {
    "collapsed": false
   },
   "outputs": [],
   "source": [
    "numDiverted = sum(flights[\"DIVERTED\"])"
   ]
  },
  {
   "cell_type": "code",
   "execution_count": null,
   "metadata": {
    "collapsed": false
   },
   "outputs": [],
   "source": [
    "totalScheduled = len(flights[\"SCHEDULED_DEPARTURE\"])"
   ]
  },
  {
   "cell_type": "code",
   "execution_count": null,
   "metadata": {
    "collapsed": true
   },
   "outputs": [],
   "source": [
    "numOperated = totalScheduled - numCancelled"
   ]
  },
  {
   "cell_type": "code",
   "execution_count": null,
   "metadata": {
    "collapsed": false
   },
   "outputs": [],
   "source": [
    "print(\"Total number of scheduled flights: \" + str(totalScheduled))\n",
    "print(\"Total number of operated flights: \" + str(numOperated))\n",
    "print(\"Total number of cancelled flights: \" + str(numCancelled))\n",
    "print()\n",
    "print(\"Percentage cancelled: \" + str(numCancelled / totalScheduled * 100) + \"%\")\n",
    "print(\"Percentage operated: \" + str(numOperated / totalScheduled * 100) + \"%\")"
   ]
  },
  {
   "cell_type": "code",
   "execution_count": null,
   "metadata": {
    "collapsed": false
   },
   "outputs": [],
   "source": [
    "monthMap={\n",
    "    1:  '01- January',\n",
    "    2:  '02- February',\n",
    "    3:  '03- March',\n",
    "    4:  '04- April',\n",
    "    5:  '05- May',\n",
    "    6:  '06- June',\n",
    "    7:  '07- July',\n",
    "    8:  '08- August',\n",
    "    9:  '09- September',\n",
    "    10: '10- October',\n",
    "    11: '11- November',\n",
    "    12: '12- December'\n",
    "}\n",
    "\n",
    "months = []\n",
    "for key in sorted(monthMap):\n",
    "    months.append(monthMap[key][3:])\n",
    "    \n",
    "\n",
    "flights['MONTH_NAME'] = flights['MONTH'].apply(lambda m: monthMap[m])\n",
    "\n",
    "daysOfWeek = []\n",
    "dayOfWeekMap = {\n",
    "    1: 'Monday',\n",
    "    2: 'Tuesday',\n",
    "    3: 'Wednesday',\n",
    "    4: 'Thursday',\n",
    "    5: 'Friday',\n",
    "    6: 'Saturday',\n",
    "    7: 'Sunday'\n",
    "}\n",
    "for key in sorted(dayOfWeekMap):\n",
    "    daysOfWeek.append(dayOfWeekMap[key])\n",
    "    \n",
    "flights['DOW_NAME'] = flights['DAY_OF_WEEK'].apply(lambda d: dayOfWeekMap[d])\n",
    "flights['AIRLINE_NAME'] = flights['AIRLINE'].apply(lambda a: airlineMap[a])\n",
    "flights.head()\n"
   ]
  },
  {
   "cell_type": "code",
   "execution_count": null,
   "metadata": {
    "collapsed": false
   },
   "outputs": [],
   "source": [
    "year = [2015 for x in range(len(flights))]\n",
    "flights[\"YEAR\"] = year\n",
    "flights['DATE'] = pd.to_datetime(flights[['YEAR','MONTH','DAY']], yearfirst=True)\n"
   ]
  },
  {
   "cell_type": "code",
   "execution_count": null,
   "metadata": {
    "collapsed": false
   },
   "outputs": [],
   "source": [
    "stringDates = []\n",
    "for i in flights['DATE']:\n",
    "    stringDates.append(str(i)[:11])\n",
    "flights['DATE_STR'] = stringDates\n",
    "flights.head()"
   ]
  },
  {
   "cell_type": "code",
   "execution_count": null,
   "metadata": {
    "collapsed": false
   },
   "outputs": [],
   "source": [
    "times = []\n",
    "times_A = []\n",
    "for i in flights[\"SCHEDULED_DEPARTURE\"]:\n",
    "    i = str(i)\n",
    "    if len(i) == 1:\n",
    "        times.append(\"00:0\" + i)\n",
    "    elif len(i) == 2:\n",
    "        times.append(\"00:\" + i)\n",
    "    elif len(i) == 3:\n",
    "        times.append(\"0\" + i[0] + \":\"+i[1:])\n",
    "    else:\n",
    "        times.append(i[:2] + \":\" + i[2:])\n",
    "for i in flights[\"SCHEDULED_ARRIVAL\"]:\n",
    "    i = str(i)\n",
    "    if len(i) == 1:\n",
    "        times_A.append(\"00:0\" + i)\n",
    "    elif len(i) == 2:\n",
    "        times_A.append(\"00:\" + i)\n",
    "    elif len(i) == 3:\n",
    "        times_A.append(\"0\" + i[0] + \":\"+i[1:])\n",
    "    else:\n",
    "        times_A.append(i[:2] + \":\" + i[2:])"
   ]
  },
  {
   "cell_type": "code",
   "execution_count": null,
   "metadata": {
    "collapsed": false
   },
   "outputs": [],
   "source": [
    "flights[\"SCHEDULED_DEPARTURE_V1\"] = times\n",
    "flights[\"SCHEDULED_ARRIVAL_V1\"] = times_A\n",
    "flights[\"DEPARTURE_DATE_TIME_SCHEDULED\"] = flights[\"DATE_STR\"] + flights[\"SCHEDULED_DEPARTURE_V1\"]\n",
    "flights.head()\n",
    "\n"
   ]
  },
  {
   "cell_type": "code",
   "execution_count": null,
   "metadata": {
    "collapsed": false
   },
   "outputs": [],
   "source": [
    "#grouped = flights.groupby('MONTH_NAME').count()"
   ]
  },
  {
   "cell_type": "code",
   "execution_count": null,
   "metadata": {
    "collapsed": false
   },
   "outputs": [],
   "source": [
    "flights[\"DATE_STR\"][0]"
   ]
  },
  {
   "cell_type": "code",
   "execution_count": null,
   "metadata": {
    "collapsed": false
   },
   "outputs": [],
   "source": [
    "flights[\"DATE\"][0] + np.timedelta64(1, 'D')"
   ]
  },
  {
   "cell_type": "code",
   "execution_count": null,
   "metadata": {
    "collapsed": false
   },
   "outputs": [],
   "source": [
    "\n",
    "arrivalDates = []\n",
    "for i in range(len(flights)):\n",
    "\n",
    "    if times_A[i] < times[i]:\n",
    "        arrivalDates.append(str(flights[\"DATE\"][i] + np.timedelta64(1, 'D'))[:11])\n",
    "    else:\n",
    "        arrivalDates.append(flights[\"DATE_STR\"][i])\n",
    "flights['ARRIVAL_DATE_STR'] = arrivalDates\n",
    "flights.head()\n",
    "    "
   ]
  },
  {
   "cell_type": "code",
   "execution_count": null,
   "metadata": {
    "collapsed": false
   },
   "outputs": [],
   "source": [
    "flights[\"ARRIVAL_DATE_TIME_SCHEDULED\"] = flights[\"ARRIVAL_DATE_STR\"] + flights[\"SCHEDULED_ARRIVAL_V1\"]"
   ]
  },
  {
   "cell_type": "code",
   "execution_count": null,
   "metadata": {
    "collapsed": false
   },
   "outputs": [],
   "source": [
    "flights.head()"
   ]
  },
  {
   "cell_type": "code",
   "execution_count": null,
   "metadata": {
    "collapsed": true
   },
   "outputs": [],
   "source": [
    "# Format the airport codes\n",
    "df_aircode1 = pd.DataFrame.from_csv('L_AIRPORT.csv')\n",
    "df_aircode2 = pd.DataFrame.from_csv('L_AIRPORT_ID.csv')\n",
    "df_aircode1 = df_aircode1.reset_index()\n",
    "df_aircode2 = df_aircode2.reset_index()\n",
    "df_aircodes = pd.merge(df_aircode1,df_aircode2,on='Description')\n",
    "aircode_dict = dict(zip(df_aircodes['Code_y'].astype(str),df_aircodes['Code_x']))"
   ]
  },
  {
   "cell_type": "code",
   "execution_count": null,
   "metadata": {
    "collapsed": true
   },
   "outputs": [],
   "source": [
    "newFlightsOrigins = []\n",
    "for i in flights['ORIGIN_AIRPORT']:\n",
    "    if i in aircode_dict:\n",
    "        newFlightsOrigins.append(aircode_dict[i])\n",
    "    else:\n",
    "        newFlightsOrigins.append(i)\n",
    "newFlightsDestinations = []\n",
    "for i in flights['DESTINATION_AIRPORT']:\n",
    "    if i in aircode_dict:\n",
    "        newFlightsDestinations.append(aircode_dict[i])\n",
    "    else:\n",
    "        newFlightsDestinations.append(i)\n",
    "flights[\"ORIGIN_AIRPORT_V1\"] = newFlightsOrigins\n",
    "flights[\"DESTINATION_AIRPORT_V1\"] = newFlightsDestinations"
   ]
  },
  {
   "cell_type": "code",
   "execution_count": null,
   "metadata": {
    "collapsed": true
   },
   "outputs": [],
   "source": [
    "flights.to_csv(\"Pruned_New.csv\", index = False)"
   ]
  },
  {
   "cell_type": "code",
   "execution_count": null,
   "metadata": {
    "collapsed": true
   },
   "outputs": [],
   "source": [
    "cols = flights.columns.tolist()"
   ]
  },
  {
   "cell_type": "code",
   "execution_count": null,
   "metadata": {
    "collapsed": false
   },
   "outputs": [],
   "source": [
    "grouped = flights.groupby('MONTH_NAME').count()\n",
    "grouped"
   ]
  },
  {
   "cell_type": "code",
   "execution_count": null,
   "metadata": {
    "collapsed": false
   },
   "outputs": [],
   "source": [
    "monthsCancelled = flights[flights['CANCELLED'] == 1].groupby('MONTH').count()['SCHEDULED_DEPARTURE']\n",
    "monthsScheduled = flights.groupby('MONTH').count()['SCHEDULED_DEPARTURE']\n",
    "\n",
    "dowCancelled = flights[flights['CANCELLED'] == 1].groupby('DAY_OF_WEEK').count()['SCHEDULED_DEPARTURE']\n",
    "dowScheduled = flights.groupby('DAY_OF_WEEK').count()['SCHEDULED_DEPARTURE']"
   ]
  },
  {
   "cell_type": "code",
   "execution_count": null,
   "metadata": {
    "collapsed": false
   },
   "outputs": [],
   "source": [
    "fig = plt.figure()\n",
    "fig.subplots_adjust(left=-0.4)\n",
    "fig.subplots_adjust(bottom=-0.4)\n",
    "plt.title('Scheduled and Cancelled Flights vs. Month', fontsize = 18)  \n",
    "plt.xticks([x for x in range(12)], months)\n",
    "plt.plot([x for x in range(12)], list(monthsCancelled), [x for x in range(12)], list(monthsScheduled), marker = '.', linewidth = 2)\n",
    "plt.legend(('Cancelled', 'Scheduled'), loc = 'best', fontsize = 12)\n",
    "plt.xlabel('Month', fontsize = 14)\n",
    "plt.ylabel('Number of Flights', fontsize = 14)\n",
    "plt.margins(y=0.02)      "
   ]
  },
  {
   "cell_type": "code",
   "execution_count": null,
   "metadata": {
    "collapsed": false
   },
   "outputs": [],
   "source": [
    "fig = plt.figure()\n",
    "fig.subplots_adjust(left=-0.4)\n",
    "fig.subplots_adjust(bottom=-0.4)\n",
    "plt.title('Scheduled and Cancelled Flights vs. Day of Week', fontsize = 18)  \n",
    "plt.xticks([x for x in range(12)], daysOfWeek)\n",
    "plt.plot([x for x in range(7)], list(dowCancelled), [x for x in range(7)], list(dowScheduled), marker = '.', linewidth = 2)\n",
    "plt.legend(('Cancelled', 'Scheduled'), loc = 'best', fontsize = 12)\n",
    "plt.xlabel('Day of Week', fontsize = 14)\n",
    "plt.ylabel('Number of Flights', fontsize = 14)\n",
    "plt.margins(y=0.02)      "
   ]
  },
  {
   "cell_type": "code",
   "execution_count": null,
   "metadata": {
    "collapsed": false
   },
   "outputs": [],
   "source": [
    "heatMapAirline = flights.pivot_table(index=\"MONTH_NAME\",columns=\"AIRLINE_NAME\",values=\"SCHEDULED_DEPARTURE\",aggfunc=lambda x: x.count())\n",
    "heatMapAirline.head()"
   ]
  },
  {
   "cell_type": "code",
   "execution_count": null,
   "metadata": {
    "collapsed": false
   },
   "outputs": [],
   "source": [
    "fig = plt.figure(figsize=(10,10))\n",
    "ax = sns.heatmap(heatMapAirline, linecolor=\"w\", linewidths=2, cmap=\"YlGnBu\")\n",
    "ax.set(xlabel=\"Airline\", ylabel = \"Month\")\n",
    "plt.show()"
   ]
  },
  {
   "cell_type": "code",
   "execution_count": null,
   "metadata": {
    "collapsed": false
   },
   "outputs": [],
   "source": [
    "uniqueAirports = pd.Series.unique(flights[\"ORIGIN_AIRPORT\"])\n",
    "uniqueAirports"
   ]
  },
  {
   "cell_type": "code",
   "execution_count": null,
   "metadata": {
    "collapsed": false
   },
   "outputs": [],
   "source": [
    "count = 0\n",
    "countGood = 0\n",
    "for i in flights[\"ORIGIN_AIRPORT\"]:\n",
    "    if i[0] == \"1\":\n",
    "        count += 1\n",
    "    else:\n",
    "        countGood +=1\n",
    "        "
   ]
  },
  {
   "cell_type": "code",
   "execution_count": null,
   "metadata": {
    "collapsed": false
   },
   "outputs": [],
   "source": [
    "count"
   ]
  },
  {
   "cell_type": "code",
   "execution_count": null,
   "metadata": {
    "collapsed": false
   },
   "outputs": [],
   "source": [
    "countGood"
   ]
  },
  {
   "cell_type": "code",
   "execution_count": null,
   "metadata": {
    "collapsed": false
   },
   "outputs": [],
   "source": [
    "len(flights)"
   ]
  },
  {
   "cell_type": "code",
   "execution_count": null,
   "metadata": {
    "collapsed": false
   },
   "outputs": [],
   "source": [
    "count + countGood"
   ]
  }
 ],
 "metadata": {
  "anaconda-cloud": {},
  "kernelspec": {
   "display_name": "Python [Root]",
   "language": "python",
   "name": "Python [Root]"
  },
  "language_info": {
   "codemirror_mode": {
    "name": "ipython",
    "version": 3
   },
   "file_extension": ".py",
   "mimetype": "text/x-python",
   "name": "python",
   "nbconvert_exporter": "python",
   "pygments_lexer": "ipython3",
   "version": "3.5.2"
  }
 },
 "nbformat": 4,
 "nbformat_minor": 0
}
