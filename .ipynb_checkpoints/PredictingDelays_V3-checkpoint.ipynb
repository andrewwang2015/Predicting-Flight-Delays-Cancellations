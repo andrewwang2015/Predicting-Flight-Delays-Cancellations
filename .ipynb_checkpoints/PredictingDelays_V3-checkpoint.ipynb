{
 "cells": [
  {
   "cell_type": "code",
   "execution_count": 1,
   "metadata": {
    "collapsed": true
   },
   "outputs": [],
   "source": [
    "import numpy as np # linear algebra\n",
    "import pandas as pd # data processing, CSV file I/O (e.g. pd.read_csv)\n",
    "import matplotlib.pyplot as plt\n",
    "import seaborn as sns\n",
    "import datetime\n",
    "%matplotlib inline"
   ]
  },
  {
   "cell_type": "code",
   "execution_count": 4,
   "metadata": {
    "collapsed": false
   },
   "outputs": [],
   "source": [
    "airlines = pd.read_csv('airlines.csv')\n",
    "airports = pd.read_csv('airports.csv')\n",
    "flights = pd.read_csv('Flights_Modified_V1.csv', low_memory=False)"
   ]
  },
  {
   "cell_type": "code",
   "execution_count": 3,
   "metadata": {
    "collapsed": false
   },
   "outputs": [
    {
     "data": {
      "text/html": [
       "<div>\n",
       "<table border=\"1\" class=\"dataframe\">\n",
       "  <thead>\n",
       "    <tr style=\"text-align: right;\">\n",
       "      <th></th>\n",
       "      <th>MONTH_NAME</th>\n",
       "      <th>DOW_NAME</th>\n",
       "      <th>AIRLINE_NAME</th>\n",
       "      <th>AIRLINE</th>\n",
       "      <th>ORIGIN_AIRPORT</th>\n",
       "      <th>DESTINATION_AIRPORT</th>\n",
       "      <th>DEPARTURE_SCHEDULED</th>\n",
       "      <th>DISTANCE</th>\n",
       "      <th>ARRIVAL_SCHEDULED</th>\n",
       "      <th>ARRIVAL_DELAY</th>\n",
       "      <th>DIVERTED</th>\n",
       "      <th>CANCELLED</th>\n",
       "    </tr>\n",
       "  </thead>\n",
       "  <tbody>\n",
       "    <tr>\n",
       "      <th>0</th>\n",
       "      <td>01- January</td>\n",
       "      <td>Thursday</td>\n",
       "      <td>Alaska Airlines Inc.</td>\n",
       "      <td>AS</td>\n",
       "      <td>ANC</td>\n",
       "      <td>SEA</td>\n",
       "      <td>2015-01-01 00:05:00</td>\n",
       "      <td>1448</td>\n",
       "      <td>2015-01-01 04:30:00</td>\n",
       "      <td>-22.0</td>\n",
       "      <td>0</td>\n",
       "      <td>0</td>\n",
       "    </tr>\n",
       "    <tr>\n",
       "      <th>1</th>\n",
       "      <td>01- January</td>\n",
       "      <td>Thursday</td>\n",
       "      <td>American Airlines Inc.</td>\n",
       "      <td>AA</td>\n",
       "      <td>LAX</td>\n",
       "      <td>PBI</td>\n",
       "      <td>2015-01-01 00:10:00</td>\n",
       "      <td>2330</td>\n",
       "      <td>2015-01-01 07:50:00</td>\n",
       "      <td>-9.0</td>\n",
       "      <td>0</td>\n",
       "      <td>0</td>\n",
       "    </tr>\n",
       "    <tr>\n",
       "      <th>2</th>\n",
       "      <td>01- January</td>\n",
       "      <td>Thursday</td>\n",
       "      <td>US Airways Inc.</td>\n",
       "      <td>US</td>\n",
       "      <td>SFO</td>\n",
       "      <td>CLT</td>\n",
       "      <td>2015-01-01 00:20:00</td>\n",
       "      <td>2296</td>\n",
       "      <td>2015-01-01 08:06:00</td>\n",
       "      <td>5.0</td>\n",
       "      <td>0</td>\n",
       "      <td>0</td>\n",
       "    </tr>\n",
       "    <tr>\n",
       "      <th>3</th>\n",
       "      <td>01- January</td>\n",
       "      <td>Thursday</td>\n",
       "      <td>American Airlines Inc.</td>\n",
       "      <td>AA</td>\n",
       "      <td>LAX</td>\n",
       "      <td>MIA</td>\n",
       "      <td>2015-01-01 00:20:00</td>\n",
       "      <td>2342</td>\n",
       "      <td>2015-01-01 08:05:00</td>\n",
       "      <td>-9.0</td>\n",
       "      <td>0</td>\n",
       "      <td>0</td>\n",
       "    </tr>\n",
       "    <tr>\n",
       "      <th>4</th>\n",
       "      <td>01- January</td>\n",
       "      <td>Thursday</td>\n",
       "      <td>Alaska Airlines Inc.</td>\n",
       "      <td>AS</td>\n",
       "      <td>SEA</td>\n",
       "      <td>ANC</td>\n",
       "      <td>2015-01-01 00:25:00</td>\n",
       "      <td>1448</td>\n",
       "      <td>2015-01-01 03:20:00</td>\n",
       "      <td>-21.0</td>\n",
       "      <td>0</td>\n",
       "      <td>0</td>\n",
       "    </tr>\n",
       "  </tbody>\n",
       "</table>\n",
       "</div>"
      ],
      "text/plain": [
       "    MONTH_NAME  DOW_NAME            AIRLINE_NAME AIRLINE ORIGIN_AIRPORT  \\\n",
       "0  01- January  Thursday    Alaska Airlines Inc.      AS            ANC   \n",
       "1  01- January  Thursday  American Airlines Inc.      AA            LAX   \n",
       "2  01- January  Thursday         US Airways Inc.      US            SFO   \n",
       "3  01- January  Thursday  American Airlines Inc.      AA            LAX   \n",
       "4  01- January  Thursday    Alaska Airlines Inc.      AS            SEA   \n",
       "\n",
       "  DESTINATION_AIRPORT  DEPARTURE_SCHEDULED  DISTANCE    ARRIVAL_SCHEDULED  \\\n",
       "0                 SEA  2015-01-01 00:05:00      1448  2015-01-01 04:30:00   \n",
       "1                 PBI  2015-01-01 00:10:00      2330  2015-01-01 07:50:00   \n",
       "2                 CLT  2015-01-01 00:20:00      2296  2015-01-01 08:06:00   \n",
       "3                 MIA  2015-01-01 00:20:00      2342  2015-01-01 08:05:00   \n",
       "4                 ANC  2015-01-01 00:25:00      1448  2015-01-01 03:20:00   \n",
       "\n",
       "   ARRIVAL_DELAY  DIVERTED  CANCELLED  \n",
       "0          -22.0         0          0  \n",
       "1           -9.0         0          0  \n",
       "2            5.0         0          0  \n",
       "3           -9.0         0          0  \n",
       "4          -21.0         0          0  "
      ]
     },
     "execution_count": 3,
     "metadata": {},
     "output_type": "execute_result"
    }
   ],
   "source": [
    "flights.head()"
   ]
  },
  {
   "cell_type": "code",
   "execution_count": 5,
   "metadata": {
    "collapsed": false
   },
   "outputs": [
    {
     "data": {
      "text/html": [
       "<div>\n",
       "<table border=\"1\" class=\"dataframe\">\n",
       "  <thead>\n",
       "    <tr style=\"text-align: right;\">\n",
       "      <th></th>\n",
       "      <th>IATA_CODE</th>\n",
       "      <th>AIRPORT</th>\n",
       "      <th>CITY</th>\n",
       "      <th>STATE</th>\n",
       "      <th>COUNTRY</th>\n",
       "      <th>LATITUDE</th>\n",
       "      <th>LONGITUDE</th>\n",
       "    </tr>\n",
       "  </thead>\n",
       "  <tbody>\n",
       "    <tr>\n",
       "      <th>0</th>\n",
       "      <td>ABE</td>\n",
       "      <td>Lehigh Valley International Airport</td>\n",
       "      <td>Allentown</td>\n",
       "      <td>PA</td>\n",
       "      <td>USA</td>\n",
       "      <td>40.65236</td>\n",
       "      <td>-75.44040</td>\n",
       "    </tr>\n",
       "    <tr>\n",
       "      <th>1</th>\n",
       "      <td>ABI</td>\n",
       "      <td>Abilene Regional Airport</td>\n",
       "      <td>Abilene</td>\n",
       "      <td>TX</td>\n",
       "      <td>USA</td>\n",
       "      <td>32.41132</td>\n",
       "      <td>-99.68190</td>\n",
       "    </tr>\n",
       "    <tr>\n",
       "      <th>2</th>\n",
       "      <td>ABQ</td>\n",
       "      <td>Albuquerque International Sunport</td>\n",
       "      <td>Albuquerque</td>\n",
       "      <td>NM</td>\n",
       "      <td>USA</td>\n",
       "      <td>35.04022</td>\n",
       "      <td>-106.60919</td>\n",
       "    </tr>\n",
       "    <tr>\n",
       "      <th>3</th>\n",
       "      <td>ABR</td>\n",
       "      <td>Aberdeen Regional Airport</td>\n",
       "      <td>Aberdeen</td>\n",
       "      <td>SD</td>\n",
       "      <td>USA</td>\n",
       "      <td>45.44906</td>\n",
       "      <td>-98.42183</td>\n",
       "    </tr>\n",
       "    <tr>\n",
       "      <th>4</th>\n",
       "      <td>ABY</td>\n",
       "      <td>Southwest Georgia Regional Airport</td>\n",
       "      <td>Albany</td>\n",
       "      <td>GA</td>\n",
       "      <td>USA</td>\n",
       "      <td>31.53552</td>\n",
       "      <td>-84.19447</td>\n",
       "    </tr>\n",
       "  </tbody>\n",
       "</table>\n",
       "</div>"
      ],
      "text/plain": [
       "  IATA_CODE                              AIRPORT         CITY STATE COUNTRY  \\\n",
       "0       ABE  Lehigh Valley International Airport    Allentown    PA     USA   \n",
       "1       ABI             Abilene Regional Airport      Abilene    TX     USA   \n",
       "2       ABQ    Albuquerque International Sunport  Albuquerque    NM     USA   \n",
       "3       ABR            Aberdeen Regional Airport     Aberdeen    SD     USA   \n",
       "4       ABY   Southwest Georgia Regional Airport       Albany    GA     USA   \n",
       "\n",
       "   LATITUDE  LONGITUDE  \n",
       "0  40.65236  -75.44040  \n",
       "1  32.41132  -99.68190  \n",
       "2  35.04022 -106.60919  \n",
       "3  45.44906  -98.42183  \n",
       "4  31.53552  -84.19447  "
      ]
     },
     "execution_count": 5,
     "metadata": {},
     "output_type": "execute_result"
    }
   ],
   "source": [
    "airports.head()"
   ]
  },
  {
   "cell_type": "code",
   "execution_count": 7,
   "metadata": {
    "collapsed": false
   },
   "outputs": [
    {
     "data": {
      "text/plain": [
       "['ABE',\n",
       " 'ABI',\n",
       " 'ABQ',\n",
       " 'ABR',\n",
       " 'ABY',\n",
       " 'ACK',\n",
       " 'ACT',\n",
       " 'ACV',\n",
       " 'ACY',\n",
       " 'ADK',\n",
       " 'ADQ',\n",
       " 'AEX',\n",
       " 'AGS',\n",
       " 'AKN',\n",
       " 'ALB',\n",
       " 'ALO',\n",
       " 'AMA',\n",
       " 'ANC',\n",
       " 'APN',\n",
       " 'ASE',\n",
       " 'ATL',\n",
       " 'ATW',\n",
       " 'AUS',\n",
       " 'AVL',\n",
       " 'AVP',\n",
       " 'AZO',\n",
       " 'BDL',\n",
       " 'BET',\n",
       " 'BFL',\n",
       " 'BGM',\n",
       " 'BGR',\n",
       " 'BHM',\n",
       " 'BIL',\n",
       " 'BIS',\n",
       " 'BJI',\n",
       " 'BLI',\n",
       " 'BMI',\n",
       " 'BNA',\n",
       " 'BOI',\n",
       " 'BOS',\n",
       " 'BPT',\n",
       " 'BQK',\n",
       " 'BQN',\n",
       " 'BRD',\n",
       " 'BRO',\n",
       " 'BRW',\n",
       " 'BTM',\n",
       " 'BTR',\n",
       " 'BTV',\n",
       " 'BUF',\n",
       " 'BUR',\n",
       " 'BWI',\n",
       " 'BZN',\n",
       " 'CAE',\n",
       " 'CAK',\n",
       " 'CDC',\n",
       " 'CDV',\n",
       " 'CEC',\n",
       " 'CHA',\n",
       " 'CHO',\n",
       " 'CHS',\n",
       " 'CID',\n",
       " 'CIU',\n",
       " 'CLD',\n",
       " 'CLE',\n",
       " 'CLL',\n",
       " 'CLT',\n",
       " 'CMH',\n",
       " 'CMI',\n",
       " 'CMX',\n",
       " 'CNY',\n",
       " 'COD',\n",
       " 'COS',\n",
       " 'COU',\n",
       " 'CPR',\n",
       " 'CRP',\n",
       " 'CRW',\n",
       " 'CSG',\n",
       " 'CVG',\n",
       " 'CWA',\n",
       " 'DAB',\n",
       " 'DAL',\n",
       " 'DAY',\n",
       " 'DBQ',\n",
       " 'DCA',\n",
       " 'DEN',\n",
       " 'DFW',\n",
       " 'DHN',\n",
       " 'DIK',\n",
       " 'DLG',\n",
       " 'DLH',\n",
       " 'DRO',\n",
       " 'DSM',\n",
       " 'DTW',\n",
       " 'DVL',\n",
       " 'EAU',\n",
       " 'ECP',\n",
       " 'EGE',\n",
       " 'EKO',\n",
       " 'ELM',\n",
       " 'ELP',\n",
       " 'ERI',\n",
       " 'ESC',\n",
       " 'EUG',\n",
       " 'EVV',\n",
       " 'EWN',\n",
       " 'EWR',\n",
       " 'EYW',\n",
       " 'FAI',\n",
       " 'FAR',\n",
       " 'FAT',\n",
       " 'FAY',\n",
       " 'FCA',\n",
       " 'FLG',\n",
       " 'FLL',\n",
       " 'FNT',\n",
       " 'FSD',\n",
       " 'FSM',\n",
       " 'FWA',\n",
       " 'GCC',\n",
       " 'GCK',\n",
       " 'GEG',\n",
       " 'GFK',\n",
       " 'GGG',\n",
       " 'GJT',\n",
       " 'GNV',\n",
       " 'GPT',\n",
       " 'GRB',\n",
       " 'GRI',\n",
       " 'GRK',\n",
       " 'GRR',\n",
       " 'GSO',\n",
       " 'GSP',\n",
       " 'GST',\n",
       " 'GTF',\n",
       " 'GTR',\n",
       " 'GUC',\n",
       " 'GUM',\n",
       " 'HDN',\n",
       " 'HIB',\n",
       " 'HLN',\n",
       " 'HNL',\n",
       " 'HOB',\n",
       " 'HOU',\n",
       " 'HPN',\n",
       " 'HRL',\n",
       " 'HSV',\n",
       " 'HYA',\n",
       " 'HYS',\n",
       " 'IAD',\n",
       " 'IAG',\n",
       " 'IAH',\n",
       " 'ICT',\n",
       " 'IDA',\n",
       " 'ILG',\n",
       " 'ILM',\n",
       " 'IMT',\n",
       " 'IND',\n",
       " 'INL',\n",
       " 'ISN',\n",
       " 'ISP',\n",
       " 'ITH',\n",
       " 'ITO',\n",
       " 'JAC',\n",
       " 'JAN',\n",
       " 'JAX',\n",
       " 'JFK',\n",
       " 'JLN',\n",
       " 'JMS',\n",
       " 'JNU',\n",
       " 'KOA',\n",
       " 'KTN',\n",
       " 'LAN',\n",
       " 'LAR',\n",
       " 'LAS',\n",
       " 'LAW',\n",
       " 'LAX',\n",
       " 'LBB',\n",
       " 'LBE',\n",
       " 'LCH',\n",
       " 'LEX',\n",
       " 'LFT',\n",
       " 'LGA',\n",
       " 'LGB',\n",
       " 'LIH',\n",
       " 'LIT',\n",
       " 'LNK',\n",
       " 'LRD',\n",
       " 'LSE',\n",
       " 'LWS',\n",
       " 'MAF',\n",
       " 'MBS',\n",
       " 'MCI',\n",
       " 'MCO',\n",
       " 'MDT',\n",
       " 'MDW',\n",
       " 'MEI',\n",
       " 'MEM',\n",
       " 'MFE',\n",
       " 'MFR',\n",
       " 'MGM',\n",
       " 'MHK',\n",
       " 'MHT',\n",
       " 'MIA',\n",
       " 'MKE',\n",
       " 'MKG',\n",
       " 'MLB',\n",
       " 'MLI',\n",
       " 'MLU',\n",
       " 'MMH',\n",
       " 'MOB',\n",
       " 'MOT',\n",
       " 'MQT',\n",
       " 'MRY',\n",
       " 'MSN',\n",
       " 'MSO',\n",
       " 'MSP',\n",
       " 'MSY',\n",
       " 'MTJ',\n",
       " 'MVY',\n",
       " 'MYR',\n",
       " 'OAJ',\n",
       " 'OAK',\n",
       " 'OGG',\n",
       " 'OKC',\n",
       " 'OMA',\n",
       " 'OME',\n",
       " 'ONT',\n",
       " 'ORD',\n",
       " 'ORF',\n",
       " 'ORH',\n",
       " 'OTH',\n",
       " 'OTZ',\n",
       " 'PAH',\n",
       " 'PBG',\n",
       " 'PBI',\n",
       " 'PDX',\n",
       " 'PHF',\n",
       " 'PHL',\n",
       " 'PHX',\n",
       " 'PIA',\n",
       " 'PIB',\n",
       " 'PIH',\n",
       " 'PIT',\n",
       " 'PLN',\n",
       " 'PNS',\n",
       " 'PPG',\n",
       " 'PSC',\n",
       " 'PSE',\n",
       " 'PSG',\n",
       " 'PSP',\n",
       " 'PUB',\n",
       " 'PVD',\n",
       " 'PWM',\n",
       " 'RAP',\n",
       " 'RDD',\n",
       " 'RDM',\n",
       " 'RDU',\n",
       " 'RHI',\n",
       " 'RIC',\n",
       " 'RKS',\n",
       " 'RNO',\n",
       " 'ROA',\n",
       " 'ROC',\n",
       " 'ROW',\n",
       " 'RST',\n",
       " 'RSW',\n",
       " 'SAF',\n",
       " 'SAN',\n",
       " 'SAT',\n",
       " 'SAV',\n",
       " 'SBA',\n",
       " 'SBN',\n",
       " 'SBP',\n",
       " 'SCC',\n",
       " 'SCE',\n",
       " 'SDF',\n",
       " 'SEA',\n",
       " 'SFO',\n",
       " 'SGF',\n",
       " 'SGU',\n",
       " 'SHV',\n",
       " 'SIT',\n",
       " 'SJC',\n",
       " 'SJT',\n",
       " 'SJU',\n",
       " 'SLC',\n",
       " 'SMF',\n",
       " 'SMX',\n",
       " 'SNA',\n",
       " 'SPI',\n",
       " 'SPS',\n",
       " 'SRQ',\n",
       " 'STC',\n",
       " 'STL',\n",
       " 'STT',\n",
       " 'STX',\n",
       " 'SUN',\n",
       " 'SUX',\n",
       " 'SWF',\n",
       " 'SYR',\n",
       " 'TLH',\n",
       " 'TOL',\n",
       " 'TPA',\n",
       " 'TRI',\n",
       " 'TTN',\n",
       " 'TUL',\n",
       " 'TUS',\n",
       " 'TVC',\n",
       " 'TWF',\n",
       " 'TXK',\n",
       " 'TYR',\n",
       " 'TYS',\n",
       " 'UST',\n",
       " 'VEL',\n",
       " 'VLD',\n",
       " 'VPS',\n",
       " 'WRG',\n",
       " 'WYS',\n",
       " 'XNA',\n",
       " 'YAK',\n",
       " 'YUM']"
      ]
     },
     "execution_count": 7,
     "metadata": {},
     "output_type": "execute_result"
    }
   ],
   "source": [
    "allAirports = airports[\"IATA_CODE\"].tolist()\n",
    "allAirports"
   ]
  },
  {
   "cell_type": "code",
   "execution_count": 8,
   "metadata": {
    "collapsed": false
   },
   "outputs": [],
   "source": [
    "flights['DEPARTURE_SCHEDULED'] = pd.to_datetime(flights['DEPARTURE_SCHEDULED'])"
   ]
  },
  {
   "cell_type": "code",
   "execution_count": 12,
   "metadata": {
    "collapsed": false
   },
   "outputs": [
    {
     "data": {
      "text/plain": [
       "'07'"
      ]
     },
     "execution_count": 12,
     "metadata": {},
     "output_type": "execute_result"
    }
   ],
   "source": [
    "flights['ARRIVAL_SCHEDULED'][140][11:13]"
   ]
  },
  {
   "cell_type": "code",
   "execution_count": 18,
   "metadata": {
    "collapsed": false
   },
   "outputs": [
    {
     "name": "stdout",
     "output_type": "stream",
     "text": [
      "1124523 2015-03-14 24:00\n",
      "1482599 2015-04-05 24:00\n"
     ]
    }
   ],
   "source": [
    "for i, e in enumerate(flights['ARRIVAL_SCHEDULED']):\n",
    "    if e[11:13] > \"23\":\n",
    "        print (i, e)\n",
    "        "
   ]
  },
  {
   "cell_type": "code",
   "execution_count": 17,
   "metadata": {
    "collapsed": false
   },
   "outputs": [
    {
     "data": {
      "text/plain": [
       "Timestamp('2015-03-14 21:35:00')"
      ]
     },
     "execution_count": 17,
     "metadata": {},
     "output_type": "execute_result"
    }
   ],
   "source": [
    "flights['DEPARTURE_SCHEDULED'][1124523]"
   ]
  },
  {
   "cell_type": "code",
   "execution_count": 20,
   "metadata": {
    "collapsed": false
   },
   "outputs": [
    {
     "data": {
      "text/plain": [
       "Timestamp('2015-04-05 21:49:00')"
      ]
     },
     "execution_count": 20,
     "metadata": {},
     "output_type": "execute_result"
    }
   ],
   "source": [
    "flights['DEPARTURE_SCHEDULED'][1482599 ]"
   ]
  },
  {
   "cell_type": "code",
   "execution_count": 21,
   "metadata": {
    "collapsed": false
   },
   "outputs": [
    {
     "name": "stderr",
     "output_type": "stream",
     "text": [
      "C:\\Users\\andre_000\\Anaconda3\\lib\\site-packages\\ipykernel\\__main__.py:1: SettingWithCopyWarning: \n",
      "A value is trying to be set on a copy of a slice from a DataFrame\n",
      "\n",
      "See the caveats in the documentation: http://pandas.pydata.org/pandas-docs/stable/indexing.html#indexing-view-versus-copy\n",
      "  if __name__ == '__main__':\n",
      "C:\\Users\\andre_000\\Anaconda3\\lib\\site-packages\\ipykernel\\__main__.py:2: SettingWithCopyWarning: \n",
      "A value is trying to be set on a copy of a slice from a DataFrame\n",
      "\n",
      "See the caveats in the documentation: http://pandas.pydata.org/pandas-docs/stable/indexing.html#indexing-view-versus-copy\n",
      "  from ipykernel import kernelapp as app\n"
     ]
    }
   ],
   "source": [
    "flights['ARRIVAL_SCHEDULED'][1124523] = \"2015-03-15 00:00\"\n",
    "flights['ARRIVAL_SCHEDULED'][1482599] = \"2015-04-06 00:00\""
   ]
  },
  {
   "cell_type": "code",
   "execution_count": 23,
   "metadata": {
    "collapsed": false
   },
   "outputs": [],
   "source": [
    "flights['ARRIVAL_SCHEDULED'] = pd.to_datetime(flights['ARRIVAL_SCHEDULED'])"
   ]
  },
  {
   "cell_type": "code",
   "execution_count": 24,
   "metadata": {
    "collapsed": true
   },
   "outputs": [],
   "source": [
    "flights.to_csv(\"Flights_Modified_V1.csv\", index = False)"
   ]
  },
  {
   "cell_type": "code",
   "execution_count": 5,
   "metadata": {
    "collapsed": false
   },
   "outputs": [
    {
     "data": {
      "text/plain": [
       "['MONTH',\n",
       " 'DAY',\n",
       " 'DAY_OF_WEEK',\n",
       " 'AIRLINE',\n",
       " 'ORIGIN_AIRPORT',\n",
       " 'DESTINATION_AIRPORT',\n",
       " 'SCHEDULED_DEPARTURE',\n",
       " 'DISTANCE',\n",
       " 'SCHEDULED_ARRIVAL',\n",
       " 'ARRIVAL_DELAY',\n",
       " 'DIVERTED',\n",
       " 'CANCELLED',\n",
       " 'MONTH_NAME',\n",
       " 'DOW_NAME',\n",
       " 'AIRLINE_NAME',\n",
       " 'YEAR',\n",
       " 'DATE',\n",
       " 'DATE_STR',\n",
       " 'SCHEDULED_DEPARTURE_V1',\n",
       " 'SCHEDULED_ARRIVAL_V1',\n",
       " 'DEPARTURE_DATE_TIME_SCHEDULED',\n",
       " 'ARRIVAL_DATE_STR',\n",
       " 'ARRIVAL_DATE_TIME_SCHEDULED',\n",
       " 'ORIGIN_AIRPORT_V1',\n",
       " 'DESTINATION_AIRPORT_V1']"
      ]
     },
     "execution_count": 5,
     "metadata": {},
     "output_type": "execute_result"
    }
   ],
   "source": [
    "cols = flights.columns.tolist()\n",
    "cols"
   ]
  },
  {
   "cell_type": "code",
   "execution_count": 7,
   "metadata": {
    "collapsed": true
   },
   "outputs": [],
   "source": [
    "newCols = [ 'MONTH_NAME',\n",
    " 'DOW_NAME',\n",
    " 'AIRLINE_NAME','AIRLINE','ORIGIN_AIRPORT_V1',\n",
    "            'DESTINATION_AIRPORT_V1',\n",
    " 'DEPARTURE_DATE_TIME_SCHEDULED',\n",
    " 'DISTANCE',\n",
    " 'ARRIVAL_DATE_TIME_SCHEDULED',\n",
    " 'ARRIVAL_DELAY',\n",
    " 'DIVERTED',\n",
    " 'CANCELLED',\n",
    "]"
   ]
  },
  {
   "cell_type": "code",
   "execution_count": 9,
   "metadata": {
    "collapsed": true
   },
   "outputs": [],
   "source": [
    "flights2 = flights[newCols]\n",
    "flights2.columns = [ 'MONTH_NAME',\n",
    " 'DOW_NAME',\n",
    " 'AIRLINE_NAME','AIRLINE','ORIGIN_AIRPORT',\n",
    "            'DESTINATION_AIRPORT',\n",
    " 'DEPARTURE_SCHEDULED',\n",
    " 'DISTANCE',\n",
    " 'ARRIVAL_SCHEDULED',\n",
    " 'ARRIVAL_DELAY',\n",
    " 'DIVERTED',\n",
    " 'CANCELLED',\n",
    "]"
   ]
  },
  {
   "cell_type": "code",
   "execution_count": 10,
   "metadata": {
    "collapsed": false
   },
   "outputs": [
    {
     "data": {
      "text/html": [
       "<div>\n",
       "<table border=\"1\" class=\"dataframe\">\n",
       "  <thead>\n",
       "    <tr style=\"text-align: right;\">\n",
       "      <th></th>\n",
       "      <th>MONTH_NAME</th>\n",
       "      <th>DOW_NAME</th>\n",
       "      <th>AIRLINE_NAME</th>\n",
       "      <th>AIRLINE</th>\n",
       "      <th>ORIGIN_AIRPORT</th>\n",
       "      <th>DESTINATION_AIRPORT</th>\n",
       "      <th>DEPARTURE_SCHEDULED</th>\n",
       "      <th>DISTANCE</th>\n",
       "      <th>ARRIVAL_SCHEDULED</th>\n",
       "      <th>ARRIVAL_DELAY</th>\n",
       "      <th>DIVERTED</th>\n",
       "      <th>CANCELLED</th>\n",
       "    </tr>\n",
       "  </thead>\n",
       "  <tbody>\n",
       "    <tr>\n",
       "      <th>0</th>\n",
       "      <td>01- January</td>\n",
       "      <td>Thursday</td>\n",
       "      <td>Alaska Airlines Inc.</td>\n",
       "      <td>AS</td>\n",
       "      <td>ANC</td>\n",
       "      <td>SEA</td>\n",
       "      <td>2015-01-01 00:05</td>\n",
       "      <td>1448</td>\n",
       "      <td>2015-01-01 04:30</td>\n",
       "      <td>-22.0</td>\n",
       "      <td>0</td>\n",
       "      <td>0</td>\n",
       "    </tr>\n",
       "    <tr>\n",
       "      <th>1</th>\n",
       "      <td>01- January</td>\n",
       "      <td>Thursday</td>\n",
       "      <td>American Airlines Inc.</td>\n",
       "      <td>AA</td>\n",
       "      <td>LAX</td>\n",
       "      <td>PBI</td>\n",
       "      <td>2015-01-01 00:10</td>\n",
       "      <td>2330</td>\n",
       "      <td>2015-01-01 07:50</td>\n",
       "      <td>-9.0</td>\n",
       "      <td>0</td>\n",
       "      <td>0</td>\n",
       "    </tr>\n",
       "    <tr>\n",
       "      <th>2</th>\n",
       "      <td>01- January</td>\n",
       "      <td>Thursday</td>\n",
       "      <td>US Airways Inc.</td>\n",
       "      <td>US</td>\n",
       "      <td>SFO</td>\n",
       "      <td>CLT</td>\n",
       "      <td>2015-01-01 00:20</td>\n",
       "      <td>2296</td>\n",
       "      <td>2015-01-01 08:06</td>\n",
       "      <td>5.0</td>\n",
       "      <td>0</td>\n",
       "      <td>0</td>\n",
       "    </tr>\n",
       "    <tr>\n",
       "      <th>3</th>\n",
       "      <td>01- January</td>\n",
       "      <td>Thursday</td>\n",
       "      <td>American Airlines Inc.</td>\n",
       "      <td>AA</td>\n",
       "      <td>LAX</td>\n",
       "      <td>MIA</td>\n",
       "      <td>2015-01-01 00:20</td>\n",
       "      <td>2342</td>\n",
       "      <td>2015-01-01 08:05</td>\n",
       "      <td>-9.0</td>\n",
       "      <td>0</td>\n",
       "      <td>0</td>\n",
       "    </tr>\n",
       "    <tr>\n",
       "      <th>4</th>\n",
       "      <td>01- January</td>\n",
       "      <td>Thursday</td>\n",
       "      <td>Alaska Airlines Inc.</td>\n",
       "      <td>AS</td>\n",
       "      <td>SEA</td>\n",
       "      <td>ANC</td>\n",
       "      <td>2015-01-01 00:25</td>\n",
       "      <td>1448</td>\n",
       "      <td>2015-01-01 03:20</td>\n",
       "      <td>-21.0</td>\n",
       "      <td>0</td>\n",
       "      <td>0</td>\n",
       "    </tr>\n",
       "  </tbody>\n",
       "</table>\n",
       "</div>"
      ],
      "text/plain": [
       "    MONTH_NAME  DOW_NAME            AIRLINE_NAME AIRLINE ORIGIN_AIRPORT  \\\n",
       "0  01- January  Thursday    Alaska Airlines Inc.      AS            ANC   \n",
       "1  01- January  Thursday  American Airlines Inc.      AA            LAX   \n",
       "2  01- January  Thursday         US Airways Inc.      US            SFO   \n",
       "3  01- January  Thursday  American Airlines Inc.      AA            LAX   \n",
       "4  01- January  Thursday    Alaska Airlines Inc.      AS            SEA   \n",
       "\n",
       "  DESTINATION_AIRPORT DEPARTURE_SCHEDULED  DISTANCE ARRIVAL_SCHEDULED  \\\n",
       "0                 SEA    2015-01-01 00:05      1448  2015-01-01 04:30   \n",
       "1                 PBI    2015-01-01 00:10      2330  2015-01-01 07:50   \n",
       "2                 CLT    2015-01-01 00:20      2296  2015-01-01 08:06   \n",
       "3                 MIA    2015-01-01 00:20      2342  2015-01-01 08:05   \n",
       "4                 ANC    2015-01-01 00:25      1448  2015-01-01 03:20   \n",
       "\n",
       "   ARRIVAL_DELAY  DIVERTED  CANCELLED  \n",
       "0          -22.0         0          0  \n",
       "1           -9.0         0          0  \n",
       "2            5.0         0          0  \n",
       "3           -9.0         0          0  \n",
       "4          -21.0         0          0  "
      ]
     },
     "execution_count": 10,
     "metadata": {},
     "output_type": "execute_result"
    }
   ],
   "source": [
    "flights2.head()"
   ]
  },
  {
   "cell_type": "code",
   "execution_count": 11,
   "metadata": {
    "collapsed": true
   },
   "outputs": [],
   "source": [
    "flights2.to_csv(\"Flights_Modified.csv\", index = False)"
   ]
  },
  {
   "cell_type": "markdown",
   "metadata": {},
   "source": [
    "We first take a look at our airlines. We will then construct a dictionary mapping IATA_CODE to AIRLINE for future use."
   ]
  },
  {
   "cell_type": "code",
   "execution_count": null,
   "metadata": {
    "collapsed": false
   },
   "outputs": [],
   "source": [
    "airlines"
   ]
  },
  {
   "cell_type": "code",
   "execution_count": null,
   "metadata": {
    "collapsed": false
   },
   "outputs": [],
   "source": [
    "airlineMap = dict()\n",
    "for i, code in enumerate(airlines[\"IATA_CODE\"]):\n",
    "    airlineMap[code] = airlines[\"AIRLINE\"][i]"
   ]
  },
  {
   "cell_type": "code",
   "execution_count": null,
   "metadata": {
    "collapsed": false
   },
   "outputs": [],
   "source": [
    "airlineMap"
   ]
  },
  {
   "cell_type": "code",
   "execution_count": null,
   "metadata": {
    "collapsed": false
   },
   "outputs": [],
   "source": [
    "airports.head()"
   ]
  },
  {
   "cell_type": "code",
   "execution_count": null,
   "metadata": {
    "collapsed": false
   },
   "outputs": [],
   "source": [
    "flights.head()"
   ]
  },
  {
   "cell_type": "code",
   "execution_count": null,
   "metadata": {
    "collapsed": false
   },
   "outputs": [],
   "source": [
    "flights.info()"
   ]
  },
  {
   "cell_type": "code",
   "execution_count": null,
   "metadata": {
    "collapsed": false
   },
   "outputs": [],
   "source": [
    "numCancelled = sum(flights[\"CANCELLED\"])"
   ]
  },
  {
   "cell_type": "code",
   "execution_count": null,
   "metadata": {
    "collapsed": false
   },
   "outputs": [],
   "source": [
    "numDiverted = sum(flights[\"DIVERTED\"])"
   ]
  },
  {
   "cell_type": "code",
   "execution_count": null,
   "metadata": {
    "collapsed": false
   },
   "outputs": [],
   "source": [
    "totalScheduled = len(flights[\"SCHEDULED_DEPARTURE\"])"
   ]
  },
  {
   "cell_type": "code",
   "execution_count": null,
   "metadata": {
    "collapsed": true
   },
   "outputs": [],
   "source": [
    "numOperated = totalScheduled - numCancelled"
   ]
  },
  {
   "cell_type": "code",
   "execution_count": null,
   "metadata": {
    "collapsed": false
   },
   "outputs": [],
   "source": [
    "print(\"Total number of scheduled flights: \" + str(totalScheduled))\n",
    "print(\"Total number of operated flights: \" + str(numOperated))\n",
    "print(\"Total number of cancelled flights: \" + str(numCancelled))\n",
    "print()\n",
    "print(\"Percentage cancelled: \" + str(numCancelled / totalScheduled * 100) + \"%\")\n",
    "print(\"Percentage operated: \" + str(numOperated / totalScheduled * 100) + \"%\")"
   ]
  },
  {
   "cell_type": "code",
   "execution_count": null,
   "metadata": {
    "collapsed": false
   },
   "outputs": [],
   "source": [
    "monthMap={\n",
    "    1:  '01- January',\n",
    "    2:  '02- February',\n",
    "    3:  '03- March',\n",
    "    4:  '04- April',\n",
    "    5:  '05- May',\n",
    "    6:  '06- June',\n",
    "    7:  '07- July',\n",
    "    8:  '08- August',\n",
    "    9:  '09- September',\n",
    "    10: '10- October',\n",
    "    11: '11- November',\n",
    "    12: '12- December'\n",
    "}\n",
    "\n",
    "months = []\n",
    "for key in sorted(monthMap):\n",
    "    months.append(monthMap[key][3:])\n",
    "    \n",
    "\n",
    "flights['MONTH_NAME'] = flights['MONTH'].apply(lambda m: monthMap[m])\n",
    "\n",
    "daysOfWeek = []\n",
    "dayOfWeekMap = {\n",
    "    1: 'Monday',\n",
    "    2: 'Tuesday',\n",
    "    3: 'Wednesday',\n",
    "    4: 'Thursday',\n",
    "    5: 'Friday',\n",
    "    6: 'Saturday',\n",
    "    7: 'Sunday'\n",
    "}\n",
    "for key in sorted(dayOfWeekMap):\n",
    "    daysOfWeek.append(dayOfWeekMap[key])\n",
    "    \n",
    "flights['DOW_NAME'] = flights['DAY_OF_WEEK'].apply(lambda d: dayOfWeekMap[d])\n",
    "flights['AIRLINE_NAME'] = flights['AIRLINE'].apply(lambda a: airlineMap[a])\n",
    "flights.head()\n"
   ]
  },
  {
   "cell_type": "code",
   "execution_count": null,
   "metadata": {
    "collapsed": false
   },
   "outputs": [],
   "source": [
    "year = [2015 for x in range(len(flights))]\n",
    "flights[\"YEAR\"] = year\n",
    "flights['DATE'] = pd.to_datetime(flights[['YEAR','MONTH','DAY']], yearfirst=True)\n"
   ]
  },
  {
   "cell_type": "code",
   "execution_count": null,
   "metadata": {
    "collapsed": false
   },
   "outputs": [],
   "source": [
    "stringDates = []\n",
    "for i in flights['DATE']:\n",
    "    stringDates.append(str(i)[:11])\n",
    "flights['DATE_STR'] = stringDates\n",
    "flights.head()"
   ]
  },
  {
   "cell_type": "code",
   "execution_count": null,
   "metadata": {
    "collapsed": false
   },
   "outputs": [],
   "source": [
    "times = []\n",
    "times_A = []\n",
    "for i in flights[\"SCHEDULED_DEPARTURE\"]:\n",
    "    i = str(i)\n",
    "    if len(i) == 1:\n",
    "        times.append(\"00:0\" + i)\n",
    "    elif len(i) == 2:\n",
    "        times.append(\"00:\" + i)\n",
    "    elif len(i) == 3:\n",
    "        times.append(\"0\" + i[0] + \":\"+i[1:])\n",
    "    else:\n",
    "        times.append(i[:2] + \":\" + i[2:])\n",
    "for i in flights[\"SCHEDULED_ARRIVAL\"]:\n",
    "    i = str(i)\n",
    "    if len(i) == 1:\n",
    "        times_A.append(\"00:0\" + i)\n",
    "    elif len(i) == 2:\n",
    "        times_A.append(\"00:\" + i)\n",
    "    elif len(i) == 3:\n",
    "        times_A.append(\"0\" + i[0] + \":\"+i[1:])\n",
    "    else:\n",
    "        times_A.append(i[:2] + \":\" + i[2:])"
   ]
  },
  {
   "cell_type": "code",
   "execution_count": null,
   "metadata": {
    "collapsed": false
   },
   "outputs": [],
   "source": [
    "flights[\"SCHEDULED_DEPARTURE_V1\"] = times\n",
    "flights[\"SCHEDULED_ARRIVAL_V1\"] = times_A\n",
    "flights[\"DEPARTURE_DATE_TIME_SCHEDULED\"] = flights[\"DATE_STR\"] + flights[\"SCHEDULED_DEPARTURE_V1\"]\n",
    "flights.head()\n",
    "\n"
   ]
  },
  {
   "cell_type": "code",
   "execution_count": null,
   "metadata": {
    "collapsed": false
   },
   "outputs": [],
   "source": [
    "#grouped = flights.groupby('MONTH_NAME').count()"
   ]
  },
  {
   "cell_type": "code",
   "execution_count": null,
   "metadata": {
    "collapsed": false
   },
   "outputs": [],
   "source": [
    "flights[\"DATE_STR\"][0]"
   ]
  },
  {
   "cell_type": "code",
   "execution_count": null,
   "metadata": {
    "collapsed": false
   },
   "outputs": [],
   "source": [
    "flights[\"DATE\"][0] + np.timedelta64(1, 'D')"
   ]
  },
  {
   "cell_type": "code",
   "execution_count": null,
   "metadata": {
    "collapsed": false
   },
   "outputs": [],
   "source": [
    "\n",
    "arrivalDates = []\n",
    "for i in range(len(flights)):\n",
    "\n",
    "    if times_A[i] < times[i]:\n",
    "        arrivalDates.append(str(flights[\"DATE\"][i] + np.timedelta64(1, 'D'))[:11])\n",
    "    else:\n",
    "        arrivalDates.append(flights[\"DATE_STR\"][i])\n",
    "flights['ARRIVAL_DATE_STR'] = arrivalDates\n",
    "flights.head()\n",
    "    "
   ]
  },
  {
   "cell_type": "code",
   "execution_count": null,
   "metadata": {
    "collapsed": false
   },
   "outputs": [],
   "source": [
    "flights[\"ARRIVAL_DATE_TIME_SCHEDULED\"] = flights[\"ARRIVAL_DATE_STR\"] + flights[\"SCHEDULED_ARRIVAL_V1\"]"
   ]
  },
  {
   "cell_type": "code",
   "execution_count": null,
   "metadata": {
    "collapsed": false
   },
   "outputs": [],
   "source": [
    "flights.head()"
   ]
  },
  {
   "cell_type": "code",
   "execution_count": null,
   "metadata": {
    "collapsed": true
   },
   "outputs": [],
   "source": [
    "# Format the airport codes\n",
    "df_aircode1 = pd.DataFrame.from_csv('L_AIRPORT.csv')\n",
    "df_aircode2 = pd.DataFrame.from_csv('L_AIRPORT_ID.csv')\n",
    "df_aircode1 = df_aircode1.reset_index()\n",
    "df_aircode2 = df_aircode2.reset_index()\n",
    "df_aircodes = pd.merge(df_aircode1,df_aircode2,on='Description')\n",
    "aircode_dict = dict(zip(df_aircodes['Code_y'].astype(str),df_aircodes['Code_x']))"
   ]
  },
  {
   "cell_type": "code",
   "execution_count": null,
   "metadata": {
    "collapsed": true
   },
   "outputs": [],
   "source": [
    "newFlightsOrigins = []\n",
    "for i in flights['ORIGIN_AIRPORT']:\n",
    "    if i in aircode_dict:\n",
    "        newFlightsOrigins.append(aircode_dict[i])\n",
    "    else:\n",
    "        newFlightsOrigins.append(i)\n",
    "newFlightsDestinations = []\n",
    "for i in flights['DESTINATION_AIRPORT']:\n",
    "    if i in aircode_dict:\n",
    "        newFlightsDestinations.append(aircode_dict[i])\n",
    "    else:\n",
    "        newFlightsDestinations.append(i)\n",
    "flights[\"ORIGIN_AIRPORT_V1\"] = newFlightsOrigins\n",
    "flights[\"DESTINATION_AIRPORT_V1\"] = newFlightsDestinations"
   ]
  },
  {
   "cell_type": "code",
   "execution_count": null,
   "metadata": {
    "collapsed": true
   },
   "outputs": [],
   "source": [
    "flights.to_csv(\"Pruned_New.csv\", index = False)"
   ]
  },
  {
   "cell_type": "code",
   "execution_count": null,
   "metadata": {
    "collapsed": true
   },
   "outputs": [],
   "source": [
    "cols = flights.columns.tolist()"
   ]
  },
  {
   "cell_type": "code",
   "execution_count": null,
   "metadata": {
    "collapsed": false
   },
   "outputs": [],
   "source": [
    "grouped = flights.groupby('MONTH_NAME').count()\n",
    "grouped"
   ]
  },
  {
   "cell_type": "code",
   "execution_count": null,
   "metadata": {
    "collapsed": false
   },
   "outputs": [],
   "source": [
    "monthsCancelled = flights[flights['CANCELLED'] == 1].groupby('MONTH').count()['SCHEDULED_DEPARTURE']\n",
    "monthsScheduled = flights.groupby('MONTH').count()['SCHEDULED_DEPARTURE']\n",
    "\n",
    "dowCancelled = flights[flights['CANCELLED'] == 1].groupby('DAY_OF_WEEK').count()['SCHEDULED_DEPARTURE']\n",
    "dowScheduled = flights.groupby('DAY_OF_WEEK').count()['SCHEDULED_DEPARTURE']"
   ]
  },
  {
   "cell_type": "code",
   "execution_count": null,
   "metadata": {
    "collapsed": false
   },
   "outputs": [],
   "source": [
    "fig = plt.figure()\n",
    "fig.subplots_adjust(left=-0.4)\n",
    "fig.subplots_adjust(bottom=-0.4)\n",
    "plt.title('Scheduled and Cancelled Flights vs. Month', fontsize = 18)  \n",
    "plt.xticks([x for x in range(12)], months)\n",
    "plt.plot([x for x in range(12)], list(monthsCancelled), [x for x in range(12)], list(monthsScheduled), marker = '.', linewidth = 2)\n",
    "plt.legend(('Cancelled', 'Scheduled'), loc = 'best', fontsize = 12)\n",
    "plt.xlabel('Month', fontsize = 14)\n",
    "plt.ylabel('Number of Flights', fontsize = 14)\n",
    "plt.margins(y=0.02)      "
   ]
  },
  {
   "cell_type": "code",
   "execution_count": null,
   "metadata": {
    "collapsed": false
   },
   "outputs": [],
   "source": [
    "fig = plt.figure()\n",
    "fig.subplots_adjust(left=-0.4)\n",
    "fig.subplots_adjust(bottom=-0.4)\n",
    "plt.title('Scheduled and Cancelled Flights vs. Day of Week', fontsize = 18)  \n",
    "plt.xticks([x for x in range(12)], daysOfWeek)\n",
    "plt.plot([x for x in range(7)], list(dowCancelled), [x for x in range(7)], list(dowScheduled), marker = '.', linewidth = 2)\n",
    "plt.legend(('Cancelled', 'Scheduled'), loc = 'best', fontsize = 12)\n",
    "plt.xlabel('Day of Week', fontsize = 14)\n",
    "plt.ylabel('Number of Flights', fontsize = 14)\n",
    "plt.margins(y=0.02)      "
   ]
  },
  {
   "cell_type": "code",
   "execution_count": null,
   "metadata": {
    "collapsed": false
   },
   "outputs": [],
   "source": [
    "heatMapAirline = flights.pivot_table(index=\"MONTH_NAME\",columns=\"AIRLINE_NAME\",values=\"SCHEDULED_DEPARTURE\",aggfunc=lambda x: x.count())\n",
    "heatMapAirline.head()"
   ]
  },
  {
   "cell_type": "code",
   "execution_count": null,
   "metadata": {
    "collapsed": false
   },
   "outputs": [],
   "source": [
    "fig = plt.figure(figsize=(10,10))\n",
    "ax = sns.heatmap(heatMapAirline, linecolor=\"w\", linewidths=2, cmap=\"YlGnBu\")\n",
    "ax.set(xlabel=\"Airline\", ylabel = \"Month\")\n",
    "plt.show()"
   ]
  },
  {
   "cell_type": "code",
   "execution_count": null,
   "metadata": {
    "collapsed": false
   },
   "outputs": [],
   "source": [
    "uniqueAirports = pd.Series.unique(flights[\"ORIGIN_AIRPORT\"])\n",
    "uniqueAirports"
   ]
  },
  {
   "cell_type": "code",
   "execution_count": null,
   "metadata": {
    "collapsed": false
   },
   "outputs": [],
   "source": [
    "count = 0\n",
    "countGood = 0\n",
    "for i in flights[\"ORIGIN_AIRPORT\"]:\n",
    "    if i[0] == \"1\":\n",
    "        count += 1\n",
    "    else:\n",
    "        countGood +=1\n",
    "        "
   ]
  },
  {
   "cell_type": "code",
   "execution_count": null,
   "metadata": {
    "collapsed": false
   },
   "outputs": [],
   "source": [
    "count"
   ]
  },
  {
   "cell_type": "code",
   "execution_count": null,
   "metadata": {
    "collapsed": false
   },
   "outputs": [],
   "source": [
    "countGood"
   ]
  },
  {
   "cell_type": "code",
   "execution_count": null,
   "metadata": {
    "collapsed": false
   },
   "outputs": [],
   "source": [
    "len(flights)"
   ]
  },
  {
   "cell_type": "code",
   "execution_count": null,
   "metadata": {
    "collapsed": false
   },
   "outputs": [],
   "source": [
    "count + countGood"
   ]
  }
 ],
 "metadata": {
  "anaconda-cloud": {},
  "kernelspec": {
   "display_name": "Python [Root]",
   "language": "python",
   "name": "Python [Root]"
  },
  "language_info": {
   "codemirror_mode": {
    "name": "ipython",
    "version": 3
   },
   "file_extension": ".py",
   "mimetype": "text/x-python",
   "name": "python",
   "nbconvert_exporter": "python",
   "pygments_lexer": "ipython3",
   "version": "3.5.2"
  }
 },
 "nbformat": 4,
 "nbformat_minor": 0
}
