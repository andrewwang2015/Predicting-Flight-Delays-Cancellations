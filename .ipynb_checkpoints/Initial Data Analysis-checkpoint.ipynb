{
 "cells": [
  {
   "cell_type": "code",
   "execution_count": 1,
   "metadata": {
    "collapsed": true
   },
   "outputs": [],
   "source": [
    "import numpy as np # linear algebra\n",
    "import pandas as pd # data processing, CSV file I/O (e.g. pd.read_csv)\n",
    "import matplotlib.pyplot as plt\n",
    "import seaborn as sns\n",
    "import glob\n",
    "%matplotlib inline"
   ]
  },
  {
   "cell_type": "code",
   "execution_count": 2,
   "metadata": {
    "collapsed": false
   },
   "outputs": [
    {
     "data": {
      "text/html": [
       "<div>\n",
       "<table border=\"1\" class=\"dataframe\">\n",
       "  <thead>\n",
       "    <tr style=\"text-align: right;\">\n",
       "      <th></th>\n",
       "      <th>MONTH</th>\n",
       "      <th>DOW</th>\n",
       "      <th>AIRLINE</th>\n",
       "      <th>ORIGIN_AIRPORT</th>\n",
       "      <th>DESTINATION_AIRPORT</th>\n",
       "      <th>DISTANCE</th>\n",
       "      <th>ARRIVAL_DELAY</th>\n",
       "      <th>DIVERTED</th>\n",
       "      <th>CANCELLED</th>\n",
       "      <th>dept_temp</th>\n",
       "      <th>...</th>\n",
       "      <th>arr_precip</th>\n",
       "      <th>arr_alti</th>\n",
       "      <th>arr_vsby</th>\n",
       "      <th>arr_sky</th>\n",
       "      <th>CertificateDate</th>\n",
       "      <th>Manu</th>\n",
       "      <th>Model</th>\n",
       "      <th>DAYS</th>\n",
       "      <th>DEPARTURE_HOUR</th>\n",
       "      <th>ARRIVAL_HOUR</th>\n",
       "    </tr>\n",
       "  </thead>\n",
       "  <tbody>\n",
       "    <tr>\n",
       "      <th>0</th>\n",
       "      <td>1</td>\n",
       "      <td>4</td>\n",
       "      <td>AS</td>\n",
       "      <td>ANC</td>\n",
       "      <td>SEA</td>\n",
       "      <td>1448</td>\n",
       "      <td>-22</td>\n",
       "      <td>0</td>\n",
       "      <td>0</td>\n",
       "      <td>33.80</td>\n",
       "      <td>...</td>\n",
       "      <td>0</td>\n",
       "      <td>30.32</td>\n",
       "      <td>10</td>\n",
       "      <td>CLR</td>\n",
       "      <td>2012.0</td>\n",
       "      <td>BOEING</td>\n",
       "      <td>737-990ER</td>\n",
       "      <td>0</td>\n",
       "      <td>9.1</td>\n",
       "      <td>13.5</td>\n",
       "    </tr>\n",
       "    <tr>\n",
       "      <th>1</th>\n",
       "      <td>1</td>\n",
       "      <td>4</td>\n",
       "      <td>DL</td>\n",
       "      <td>ANC</td>\n",
       "      <td>SEA</td>\n",
       "      <td>1448</td>\n",
       "      <td>-24</td>\n",
       "      <td>0</td>\n",
       "      <td>0</td>\n",
       "      <td>33.80</td>\n",
       "      <td>...</td>\n",
       "      <td>0</td>\n",
       "      <td>30.32</td>\n",
       "      <td>10</td>\n",
       "      <td>CLR</td>\n",
       "      <td>2001.0</td>\n",
       "      <td>AIRBUS</td>\n",
       "      <td>A321-211</td>\n",
       "      <td>0</td>\n",
       "      <td>9.8</td>\n",
       "      <td>14.2</td>\n",
       "    </tr>\n",
       "    <tr>\n",
       "      <th>2</th>\n",
       "      <td>1</td>\n",
       "      <td>4</td>\n",
       "      <td>AA</td>\n",
       "      <td>LAX</td>\n",
       "      <td>PBI</td>\n",
       "      <td>2330</td>\n",
       "      <td>-9</td>\n",
       "      <td>0</td>\n",
       "      <td>0</td>\n",
       "      <td>46.04</td>\n",
       "      <td>...</td>\n",
       "      <td>0</td>\n",
       "      <td>30.21</td>\n",
       "      <td>10</td>\n",
       "      <td>FEW</td>\n",
       "      <td>2009.0</td>\n",
       "      <td>BOEING</td>\n",
       "      <td>737-890</td>\n",
       "      <td>0</td>\n",
       "      <td>8.2</td>\n",
       "      <td>15.8</td>\n",
       "    </tr>\n",
       "    <tr>\n",
       "      <th>3</th>\n",
       "      <td>1</td>\n",
       "      <td>4</td>\n",
       "      <td>DL</td>\n",
       "      <td>DTW</td>\n",
       "      <td>PBI</td>\n",
       "      <td>1086</td>\n",
       "      <td>-8</td>\n",
       "      <td>0</td>\n",
       "      <td>0</td>\n",
       "      <td>17.96</td>\n",
       "      <td>...</td>\n",
       "      <td>0</td>\n",
       "      <td>30.21</td>\n",
       "      <td>10</td>\n",
       "      <td>FEW</td>\n",
       "      <td>2000.0</td>\n",
       "      <td>BOEING</td>\n",
       "      <td>737-832</td>\n",
       "      <td>0</td>\n",
       "      <td>13.0</td>\n",
       "      <td>16.1</td>\n",
       "    </tr>\n",
       "    <tr>\n",
       "      <th>4</th>\n",
       "      <td>1</td>\n",
       "      <td>4</td>\n",
       "      <td>AA</td>\n",
       "      <td>LGA</td>\n",
       "      <td>PBI</td>\n",
       "      <td>1035</td>\n",
       "      <td>-12</td>\n",
       "      <td>0</td>\n",
       "      <td>0</td>\n",
       "      <td>28.04</td>\n",
       "      <td>...</td>\n",
       "      <td>0</td>\n",
       "      <td>30.21</td>\n",
       "      <td>10</td>\n",
       "      <td>FEW</td>\n",
       "      <td>2014.0</td>\n",
       "      <td>AIRBUS</td>\n",
       "      <td>A320-232</td>\n",
       "      <td>0</td>\n",
       "      <td>12.5</td>\n",
       "      <td>15.5</td>\n",
       "    </tr>\n",
       "  </tbody>\n",
       "</table>\n",
       "<p>5 rows × 31 columns</p>\n",
       "</div>"
      ],
      "text/plain": [
       "   MONTH  DOW AIRLINE ORIGIN_AIRPORT DESTINATION_AIRPORT  DISTANCE  \\\n",
       "0      1    4      AS            ANC                 SEA      1448   \n",
       "1      1    4      DL            ANC                 SEA      1448   \n",
       "2      1    4      AA            LAX                 PBI      2330   \n",
       "3      1    4      DL            DTW                 PBI      1086   \n",
       "4      1    4      AA            LGA                 PBI      1035   \n",
       "\n",
       "   ARRIVAL_DELAY  DIVERTED  CANCELLED  dept_temp      ...       arr_precip  \\\n",
       "0            -22         0          0      33.80      ...                0   \n",
       "1            -24         0          0      33.80      ...                0   \n",
       "2             -9         0          0      46.04      ...                0   \n",
       "3             -8         0          0      17.96      ...                0   \n",
       "4            -12         0          0      28.04      ...                0   \n",
       "\n",
       "   arr_alti  arr_vsby  arr_sky  CertificateDate    Manu      Model  DAYS  \\\n",
       "0     30.32        10      CLR           2012.0  BOEING  737-990ER     0   \n",
       "1     30.32        10      CLR           2001.0  AIRBUS   A321-211     0   \n",
       "2     30.21        10      FEW           2009.0  BOEING    737-890     0   \n",
       "3     30.21        10      FEW           2000.0  BOEING    737-832     0   \n",
       "4     30.21        10      FEW           2014.0  AIRBUS   A320-232     0   \n",
       "\n",
       "   DEPARTURE_HOUR  ARRIVAL_HOUR  \n",
       "0             9.1          13.5  \n",
       "1             9.8          14.2  \n",
       "2             8.2          15.8  \n",
       "3            13.0          16.1  \n",
       "4            12.5          15.5  \n",
       "\n",
       "[5 rows x 31 columns]"
      ]
     },
     "execution_count": 2,
     "metadata": {},
     "output_type": "execute_result"
    }
   ],
   "source": [
    "flights = pd.read_csv('BigData_Pruned_Drop.csv')\n",
    "flights.head()"
   ]
  },
  {
   "cell_type": "code",
   "execution_count": 3,
   "metadata": {
    "collapsed": false
   },
   "outputs": [],
   "source": [
    "delayed = []\n",
    "for i, j in enumerate(flights[\"ARRIVAL_DELAY\"]):\n",
    "    if (j > 15):\n",
    "        delayed.append(1)\n",
    "    else:\n",
    "        delayed.append(0)\n",
    "        "
   ]
  },
  {
   "cell_type": "code",
   "execution_count": 4,
   "metadata": {
    "collapsed": true
   },
   "outputs": [],
   "source": [
    "flights[\"DELAYED\"] = delayed"
   ]
  },
  {
   "cell_type": "code",
   "execution_count": 6,
   "metadata": {
    "collapsed": false
   },
   "outputs": [],
   "source": [
    "month_dict={\n",
    "    1:  '01- January',\n",
    "    2:  '02- February',\n",
    "    3:  '03- March',\n",
    "    4:  '04- April',\n",
    "    5:  '05- May',\n",
    "    6:  '06- June',\n",
    "    7:  '07- July',\n",
    "    8:  '08- August',\n",
    "    9:  '09- September',\n",
    "    10: '10- October',\n",
    "    11: '11- November',\n",
    "    12: '12- December'\n",
    "}\n",
    "flights['MONTH_desc'] = flights['MONTH'].apply(lambda m: month_dict[m])\n",
    "\n",
    "# 3. Day of the week name\n",
    "dow_dict = {\n",
    "    2: 'Tuesday',\n",
    "    3: 'Wednesday',\n",
    "    4: 'Thursday',\n",
    "    5: 'Friday',\n",
    "    6: 'Saturday',\n",
    "    7: 'Sunday',\n",
    "    1: 'Monday'\n",
    "}\n",
    "flights['DOW_desc'] = flights['DOW'].apply(lambda d: dow_dict[d])"
   ]
  },
  {
   "cell_type": "code",
   "execution_count": 11,
   "metadata": {
    "collapsed": true
   },
   "outputs": [],
   "source": [
    "import datetime\n",
    "def serial_date_to_string(srl_no):\n",
    "    new_date = datetime.datetime(2015,1,1,0,0) + datetime.timedelta(srl_no)\n",
    "    return new_date.strftime(\"%Y-%m-%d\")"
   ]
  },
  {
   "cell_type": "code",
   "execution_count": 28,
   "metadata": {
    "collapsed": true
   },
   "outputs": [],
   "source": [
    "airlines = pd.read_csv('airlines.csv')"
   ]
  },
  {
   "cell_type": "code",
   "execution_count": 29,
   "metadata": {
    "collapsed": true
   },
   "outputs": [],
   "source": [
    "airlines_dict = dict(zip(airlines['IATA_CODE'],airlines['AIRLINE']))"
   ]
  },
  {
   "cell_type": "code",
   "execution_count": 30,
   "metadata": {
    "collapsed": false
   },
   "outputs": [],
   "source": [
    "flights['AIRLINE_desc'] = flights['AIRLINE'].apply(lambda a: airlines_dict[a])"
   ]
  },
  {
   "cell_type": "code",
   "execution_count": 12,
   "metadata": {
    "collapsed": false
   },
   "outputs": [],
   "source": [
    "flights['SCHEDULED_DEPARTURE'] = flights['DAYS'].apply(lambda x: serial_date_to_string(x))"
   ]
  },
  {
   "cell_type": "code",
   "execution_count": 13,
   "metadata": {
    "collapsed": false
   },
   "outputs": [
    {
     "data": {
      "text/plain": [
       "0    2015-01-01\n",
       "1    2015-01-01\n",
       "2    2015-01-01\n",
       "3    2015-01-01\n",
       "4    2015-01-01\n",
       "Name: SCHEDULED_DEPARTURE, dtype: object"
      ]
     },
     "execution_count": 13,
     "metadata": {},
     "output_type": "execute_result"
    }
   ],
   "source": [
    "flights['SCHEDULED_DEPARTURE'].head()"
   ]
  },
  {
   "cell_type": "code",
   "execution_count": 18,
   "metadata": {
    "collapsed": true
   },
   "outputs": [],
   "source": [
    "flights['DATE'] = pd.to_datetime(flights['SCHEDULED_DEPARTURE'], yearfirst=True)"
   ]
  },
  {
   "cell_type": "code",
   "execution_count": null,
   "metadata": {
    "collapsed": true
   },
   "outputs": [],
   "source": [
    "flights['DATE'].head()"
   ]
  },
  {
   "cell_type": "code",
   "execution_count": 20,
   "metadata": {
    "collapsed": false
   },
   "outputs": [
    {
     "data": {
      "image/png": "[encoded data removed]",
      "text/plain": [
       "<matplotlib.figure.Figure at 0xe993c15da0>"
      ]
     },
     "metadata": {},
     "output_type": "display_data"
    }
   ],
   "source": [
    "fig = plt.figure(figsize=(10,4));\n",
    "\n",
    "ax = fig.add_axes([0,0,1,1]);\n",
    "\n",
    "flights.groupby('DATE').count()['SCHEDULED_DEPARTURE'].plot.line(c='b', label=\"scheduled\");\n",
    "#flights[flights['CANCELLED'] == 0].groupby('DATE').count()['SCHEDULED_DEPARTURE'].plot.line(c='b', label=\"operated\");\n",
    "flights[flights['CANCELLED'] == 1].groupby('DATE').count()['SCHEDULED_DEPARTURE'].plot.line(c='r', label=\"cancelled\");\n",
    "flights[flights['DELAYED'] == 1].groupby('DATE').count()['SCHEDULED_DEPARTURE'].plot.line(c='g', label=\"delayed\");\n",
    "\n",
    "ax.legend();"
   ]
  },
  {
   "cell_type": "code",
   "execution_count": 31,
   "metadata": {
    "collapsed": false
   },
   "outputs": [
    {
     "data": {
      "text/html": [
       "<div>\n",
       "<table border=\"1\" class=\"dataframe\">\n",
       "  <thead>\n",
       "    <tr style=\"text-align: right;\">\n",
       "      <th>AIRLINE_desc</th>\n",
       "      <th>Alaska Airlines Inc.</th>\n",
       "      <th>American Airlines Inc.</th>\n",
       "      <th>American Eagle Airlines Inc.</th>\n",
       "      <th>Atlantic Southeast Airlines</th>\n",
       "      <th>Delta Air Lines Inc.</th>\n",
       "      <th>Frontier Airlines Inc.</th>\n",
       "      <th>Hawaiian Airlines Inc.</th>\n",
       "      <th>JetBlue Airways</th>\n",
       "      <th>Skywest Airlines Inc.</th>\n",
       "      <th>Southwest Airlines Co.</th>\n",
       "      <th>Spirit Air Lines</th>\n",
       "      <th>US Airways Inc.</th>\n",
       "      <th>United Air Lines Inc.</th>\n",
       "      <th>Virgin America</th>\n",
       "    </tr>\n",
       "    <tr>\n",
       "      <th>MONTH_desc</th>\n",
       "      <th></th>\n",
       "      <th></th>\n",
       "      <th></th>\n",
       "      <th></th>\n",
       "      <th></th>\n",
       "      <th></th>\n",
       "      <th></th>\n",
       "      <th></th>\n",
       "      <th></th>\n",
       "      <th></th>\n",
       "      <th></th>\n",
       "      <th></th>\n",
       "      <th></th>\n",
       "      <th></th>\n",
       "    </tr>\n",
       "  </thead>\n",
       "  <tbody>\n",
       "    <tr>\n",
       "      <th>01- January</th>\n",
       "      <td>11035.0</td>\n",
       "      <td>36916.0</td>\n",
       "      <td>25020.0</td>\n",
       "      <td>41820.0</td>\n",
       "      <td>53886.0</td>\n",
       "      <td>5663.0</td>\n",
       "      <td>5276.0</td>\n",
       "      <td>18115.0</td>\n",
       "      <td>40223.0</td>\n",
       "      <td>84111.0</td>\n",
       "      <td>7314.0</td>\n",
       "      <td>28052.0</td>\n",
       "      <td>32315.0</td>\n",
       "      <td>3970.0</td>\n",
       "    </tr>\n",
       "    <tr>\n",
       "      <th>02- February</th>\n",
       "      <td>10147.0</td>\n",
       "      <td>33575.0</td>\n",
       "      <td>22771.0</td>\n",
       "      <td>37992.0</td>\n",
       "      <td>51446.0</td>\n",
       "      <td>4850.0</td>\n",
       "      <td>4840.0</td>\n",
       "      <td>16581.0</td>\n",
       "      <td>36899.0</td>\n",
       "      <td>75994.0</td>\n",
       "      <td>6778.0</td>\n",
       "      <td>25177.0</td>\n",
       "      <td>30544.0</td>\n",
       "      <td>3533.0</td>\n",
       "    </tr>\n",
       "    <tr>\n",
       "      <th>03- March</th>\n",
       "      <td>12024.0</td>\n",
       "      <td>39217.0</td>\n",
       "      <td>23900.0</td>\n",
       "      <td>45970.0</td>\n",
       "      <td>63194.0</td>\n",
       "      <td>5900.0</td>\n",
       "      <td>5418.0</td>\n",
       "      <td>19270.0</td>\n",
       "      <td>42541.0</td>\n",
       "      <td>92913.0</td>\n",
       "      <td>8004.0</td>\n",
       "      <td>29338.0</td>\n",
       "      <td>37063.0</td>\n",
       "      <td>4179.0</td>\n",
       "    </tr>\n",
       "    <tr>\n",
       "      <th>04- April</th>\n",
       "      <td>11923.0</td>\n",
       "      <td>38268.0</td>\n",
       "      <td>21861.0</td>\n",
       "      <td>41965.0</td>\n",
       "      <td>61659.0</td>\n",
       "      <td>6097.0</td>\n",
       "      <td>5167.0</td>\n",
       "      <td>18690.0</td>\n",
       "      <td>41986.0</td>\n",
       "      <td>90415.0</td>\n",
       "      <td>8025.0</td>\n",
       "      <td>27635.0</td>\n",
       "      <td>35341.0</td>\n",
       "      <td>4183.0</td>\n",
       "    </tr>\n",
       "    <tr>\n",
       "      <th>05- May</th>\n",
       "      <td>12704.0</td>\n",
       "      <td>38283.0</td>\n",
       "      <td>21781.0</td>\n",
       "      <td>41966.0</td>\n",
       "      <td>63869.0</td>\n",
       "      <td>6960.0</td>\n",
       "      <td>5485.0</td>\n",
       "      <td>19231.0</td>\n",
       "      <td>42497.0</td>\n",
       "      <td>92117.0</td>\n",
       "      <td>8563.0</td>\n",
       "      <td>28932.0</td>\n",
       "      <td>38078.0</td>\n",
       "      <td>4513.0</td>\n",
       "    </tr>\n",
       "  </tbody>\n",
       "</table>\n",
       "</div>"
      ],
      "text/plain": [
       "AIRLINE_desc  Alaska Airlines Inc.  American Airlines Inc.  \\\n",
       "MONTH_desc                                                   \n",
       "01- January                11035.0                 36916.0   \n",
       "02- February               10147.0                 33575.0   \n",
       "03- March                  12024.0                 39217.0   \n",
       "04- April                  11923.0                 38268.0   \n",
       "05- May                    12704.0                 38283.0   \n",
       "\n",
       "AIRLINE_desc  American Eagle Airlines Inc.  Atlantic Southeast Airlines  \\\n",
       "MONTH_desc                                                                \n",
       "01- January                        25020.0                      41820.0   \n",
       "02- February                       22771.0                      37992.0   \n",
       "03- March                          23900.0                      45970.0   \n",
       "04- April                          21861.0                      41965.0   \n",
       "05- May                            21781.0                      41966.0   \n",
       "\n",
       "AIRLINE_desc  Delta Air Lines Inc.  Frontier Airlines Inc.  \\\n",
       "MONTH_desc                                                   \n",
       "01- January                53886.0                  5663.0   \n",
       "02- February               51446.0                  4850.0   \n",
       "03- March                  63194.0                  5900.0   \n",
       "04- April                  61659.0                  6097.0   \n",
       "05- May                    63869.0                  6960.0   \n",
       "\n",
       "AIRLINE_desc  Hawaiian Airlines Inc.  JetBlue Airways  Skywest Airlines Inc.  \\\n",
       "MONTH_desc                                                                     \n",
       "01- January                   5276.0          18115.0                40223.0   \n",
       "02- February                  4840.0          16581.0                36899.0   \n",
       "03- March                     5418.0          19270.0                42541.0   \n",
       "04- April                     5167.0          18690.0                41986.0   \n",
       "05- May                       5485.0          19231.0                42497.0   \n",
       "\n",
       "AIRLINE_desc  Southwest Airlines Co.  Spirit Air Lines  US Airways Inc.  \\\n",
       "MONTH_desc                                                                \n",
       "01- January                  84111.0            7314.0          28052.0   \n",
       "02- February                 75994.0            6778.0          25177.0   \n",
       "03- March                    92913.0            8004.0          29338.0   \n",
       "04- April                    90415.0            8025.0          27635.0   \n",
       "05- May                      92117.0            8563.0          28932.0   \n",
       "\n",
       "AIRLINE_desc  United Air Lines Inc.  Virgin America  \n",
       "MONTH_desc                                           \n",
       "01- January                 32315.0          3970.0  \n",
       "02- February                30544.0          3533.0  \n",
       "03- March                   37063.0          4179.0  \n",
       "04- April                   35341.0          4183.0  \n",
       "05- May                     38078.0          4513.0  "
      ]
     },
     "execution_count": 31,
     "metadata": {},
     "output_type": "execute_result"
    }
   ],
   "source": [
    "pvt_scheduled_airline_date = flights.pivot_table(index=\"MONTH_desc\",columns=\"AIRLINE_desc\",values=\"SCHEDULED_DEPARTURE\",aggfunc=lambda x: x.count())\n",
    "pvt_scheduled_airline_date.head()"
   ]
  },
  {
   "cell_type": "code",
   "execution_count": 38,
   "metadata": {
    "collapsed": false
   },
   "outputs": [],
   "source": [
    "x = airlines['AIRLINE']"
   ]
  },
  {
   "cell_type": "code",
   "execution_count": 39,
   "metadata": {
    "collapsed": true
   },
   "outputs": [],
   "source": [
    "lol = []\n",
    "for i in x:\n",
    "    lol.append(i)"
   ]
  },
  {
   "cell_type": "code",
   "execution_count": 41,
   "metadata": {
    "collapsed": false
   },
   "outputs": [
    {
     "data": {
      "text/plain": [
       "['Alaska Airlines Inc.',\n",
       " 'American Airlines Inc.',\n",
       " 'American Eagle Airlines Inc.',\n",
       " 'Atlantic Southeast Airlines',\n",
       " 'Delta Air Lines Inc.',\n",
       " 'Frontier Airlines Inc.',\n",
       " 'Hawaiian Airlines Inc.',\n",
       " 'JetBlue Airways',\n",
       " 'Skywest Airlines Inc.',\n",
       " 'Southwest Airlines Co.',\n",
       " 'Spirit Air Lines',\n",
       " 'US Airways Inc.',\n",
       " 'United Air Lines Inc.',\n",
       " 'Virgin America']"
      ]
     },
     "execution_count": 41,
     "metadata": {},
     "output_type": "execute_result"
    }
   ],
   "source": [
    "lol = sorted(lol)\n",
    "lol"
   ]
  },
  {
   "cell_type": "code",
   "execution_count": 24,
   "metadata": {
    "collapsed": false
   },
   "outputs": [
    {
     "data": {
      "text/plain": [
       "964036"
      ]
     },
     "execution_count": 24,
     "metadata": {},
     "output_type": "execute_result"
    }
   ],
   "source": [
    "count = 0\n",
    "for i in flights[\"DELAYED\"]:\n",
    "    if i == 1:\n",
    "        count += 1\n",
    "count\n",
    "        "
   ]
  },
  {
   "cell_type": "code",
   "execution_count": 32,
   "metadata": {
    "collapsed": false
   },
   "outputs": [
    {
     "data": {
      "text/plain": [
       "76376"
      ]
     },
     "execution_count": 32,
     "metadata": {},
     "output_type": "execute_result"
    }
   ],
   "source": [
    "count1 = 0\n",
    "for i in flights[\"CANCELLED\"]:\n",
    "    if i == 1:\n",
    "        count1 += 1\n",
    "count1\n",
    "        "
   ]
  },
  {
   "cell_type": "code",
   "execution_count": 33,
   "metadata": {
    "collapsed": false
   },
   "outputs": [
    {
     "data": {
      "text/plain": [
       "0.015344924266883867"
      ]
     },
     "execution_count": 33,
     "metadata": {},
     "output_type": "execute_result"
    }
   ],
   "source": [
    "count1 / len(flights)"
   ]
  },
  {
   "cell_type": "code",
   "execution_count": 21,
   "metadata": {
    "collapsed": true
   },
   "outputs": [],
   "source": [
    "fig.savefig(\"DOW.png\", bbox_inches = 'tight')"
   ]
  },
  {
   "cell_type": "code",
   "execution_count": 11,
   "metadata": {
    "collapsed": false
   },
   "outputs": [
    {
     "data": {
      "text/plain": [
       "4.3610979932543756"
      ]
     },
     "execution_count": 11,
     "metadata": {},
     "output_type": "execute_result"
    }
   ],
   "source": [
    "sum(flights[\"ARRIVAL_DELAY\"]) / len(flights[\"ARRIVAL_DELAY\"])"
   ]
  },
  {
   "cell_type": "code",
   "execution_count": 53,
   "metadata": {
    "collapsed": false
   },
   "outputs": [
    {
     "data": {
      "text/plain": [
       "<matplotlib.text.Text at 0xe98caddfd0>"
      ]
     },
     "execution_count": 53,
     "metadata": {},
     "output_type": "execute_result"
    },
    {
     "data": {
      "image/png": "[encoded data removed]",
      "text/plain": [
       "<matplotlib.figure.Figure at 0xe98ca72c18>"
      ]
     },
     "metadata": {},
     "output_type": "display_data"
    }
   ],
   "source": [
    "fig = plt.figure(figsize=(10,10))\n",
    "sns.heatmap(pvt_scheduled_airline_date, linecolor=\"w\", linewidths=1);\n",
    "ax.set_xticklabels(labels = lol, rotation =40, fontsize = 12)\n",
    "locs, labels = plt.xticks()\n",
    "plt.setp(labels, rotation=90)\n",
    "plt.xlabel(\"Airline\", fontsize = 20)\n",
    "plt.ylabel(\"Month\", fontsize = 20)\n"
   ]
  },
  {
   "cell_type": "code",
   "execution_count": null,
   "metadata": {
    "collapsed": true
   },
   "outputs": [],
   "source": [
    "orig_airports = flights['ORIGIN_AIRPORT'].tolist()\n",
    "dest_airports = flights['DESTINATION_AIRPORT'].tolist()"
   ]
  },
  {
   "cell_type": "code",
   "execution_count": null,
   "metadata": {
    "collapsed": false
   },
   "outputs": [],
   "source": [
    "le_airports = preprocessing.LabelEncoder()\n",
    "le_airports.fit(orig_airports)\n",
    "#print(le_airports.classes_)\n",
    "enc_orig_airports = le_airports.transform(orig_airports)\n",
    "enc_dest_airports = le_airports.transform(dest_airports) \n",
    "\n",
    "enc_dest_airports"
   ]
  },
  {
   "cell_type": "code",
   "execution_count": null,
   "metadata": {
    "collapsed": false
   },
   "outputs": [],
   "source": [
    "flights['ORIGIN_AIRPORT'] = enc_orig_airports\n",
    "flights['DESTINATION_AIRPORT'] = enc_dest_airports\n",
    "flights.head()"
   ]
  },
  {
   "cell_type": "code",
   "execution_count": 6,
   "metadata": {
    "collapsed": false
   },
   "outputs": [
    {
     "data": {
      "text/html": [
       "<div>\n",
       "<table border=\"1\" class=\"dataframe\">\n",
       "  <thead>\n",
       "    <tr style=\"text-align: right;\">\n",
       "      <th></th>\n",
       "      <th>MONTH</th>\n",
       "      <th>DOW</th>\n",
       "      <th>AIRLINE</th>\n",
       "      <th>ORIGIN_AIRPORT</th>\n",
       "      <th>DESTINATION_AIRPORT</th>\n",
       "      <th>DISTANCE</th>\n",
       "      <th>ARRIVAL_DELAY</th>\n",
       "      <th>dept_temp</th>\n",
       "      <th>dept_dew</th>\n",
       "      <th>dept_hum</th>\n",
       "      <th>...</th>\n",
       "      <th>arr_precip</th>\n",
       "      <th>arr_alti</th>\n",
       "      <th>arr_vsby</th>\n",
       "      <th>arr_sky</th>\n",
       "      <th>CertificateDate</th>\n",
       "      <th>Manu</th>\n",
       "      <th>Model</th>\n",
       "      <th>DAYS</th>\n",
       "      <th>DEPARTURE_HOUR</th>\n",
       "      <th>ARRIVAL_HOUR</th>\n",
       "    </tr>\n",
       "  </thead>\n",
       "  <tbody>\n",
       "    <tr>\n",
       "      <th>0</th>\n",
       "      <td>1</td>\n",
       "      <td>4</td>\n",
       "      <td>AS</td>\n",
       "      <td>17</td>\n",
       "      <td>277</td>\n",
       "      <td>1448</td>\n",
       "      <td>-22</td>\n",
       "      <td>33.80</td>\n",
       "      <td>30.20</td>\n",
       "      <td>86.49</td>\n",
       "      <td>...</td>\n",
       "      <td>0</td>\n",
       "      <td>30.32</td>\n",
       "      <td>10</td>\n",
       "      <td>CLR</td>\n",
       "      <td>2012.0</td>\n",
       "      <td>6</td>\n",
       "      <td>737-990ER</td>\n",
       "      <td>0</td>\n",
       "      <td>9.1</td>\n",
       "      <td>13.5</td>\n",
       "    </tr>\n",
       "    <tr>\n",
       "      <th>1</th>\n",
       "      <td>1</td>\n",
       "      <td>4</td>\n",
       "      <td>DL</td>\n",
       "      <td>17</td>\n",
       "      <td>277</td>\n",
       "      <td>1448</td>\n",
       "      <td>-24</td>\n",
       "      <td>33.80</td>\n",
       "      <td>32.00</td>\n",
       "      <td>93.03</td>\n",
       "      <td>...</td>\n",
       "      <td>0</td>\n",
       "      <td>30.32</td>\n",
       "      <td>10</td>\n",
       "      <td>CLR</td>\n",
       "      <td>2001.0</td>\n",
       "      <td>1</td>\n",
       "      <td>A321-211</td>\n",
       "      <td>0</td>\n",
       "      <td>9.8</td>\n",
       "      <td>14.2</td>\n",
       "    </tr>\n",
       "    <tr>\n",
       "      <th>2</th>\n",
       "      <td>1</td>\n",
       "      <td>4</td>\n",
       "      <td>AA</td>\n",
       "      <td>176</td>\n",
       "      <td>235</td>\n",
       "      <td>2330</td>\n",
       "      <td>-9</td>\n",
       "      <td>46.04</td>\n",
       "      <td>19.94</td>\n",
       "      <td>35.05</td>\n",
       "      <td>...</td>\n",
       "      <td>0</td>\n",
       "      <td>30.21</td>\n",
       "      <td>10</td>\n",
       "      <td>FEW</td>\n",
       "      <td>2009.0</td>\n",
       "      <td>6</td>\n",
       "      <td>737-890</td>\n",
       "      <td>0</td>\n",
       "      <td>8.2</td>\n",
       "      <td>15.8</td>\n",
       "    </tr>\n",
       "    <tr>\n",
       "      <th>3</th>\n",
       "      <td>1</td>\n",
       "      <td>4</td>\n",
       "      <td>DL</td>\n",
       "      <td>93</td>\n",
       "      <td>235</td>\n",
       "      <td>1086</td>\n",
       "      <td>-8</td>\n",
       "      <td>17.96</td>\n",
       "      <td>6.98</td>\n",
       "      <td>61.57</td>\n",
       "      <td>...</td>\n",
       "      <td>0</td>\n",
       "      <td>30.21</td>\n",
       "      <td>10</td>\n",
       "      <td>FEW</td>\n",
       "      <td>2000.0</td>\n",
       "      <td>6</td>\n",
       "      <td>737-832</td>\n",
       "      <td>0</td>\n",
       "      <td>13.0</td>\n",
       "      <td>16.1</td>\n",
       "    </tr>\n",
       "    <tr>\n",
       "      <th>4</th>\n",
       "      <td>1</td>\n",
       "      <td>4</td>\n",
       "      <td>AA</td>\n",
       "      <td>182</td>\n",
       "      <td>235</td>\n",
       "      <td>1035</td>\n",
       "      <td>-12</td>\n",
       "      <td>28.04</td>\n",
       "      <td>6.08</td>\n",
       "      <td>38.69</td>\n",
       "      <td>...</td>\n",
       "      <td>0</td>\n",
       "      <td>30.21</td>\n",
       "      <td>10</td>\n",
       "      <td>FEW</td>\n",
       "      <td>2014.0</td>\n",
       "      <td>1</td>\n",
       "      <td>A320-232</td>\n",
       "      <td>0</td>\n",
       "      <td>12.5</td>\n",
       "      <td>15.5</td>\n",
       "    </tr>\n",
       "  </tbody>\n",
       "</table>\n",
       "<p>5 rows × 29 columns</p>\n",
       "</div>"
      ],
      "text/plain": [
       "   MONTH  DOW AIRLINE  ORIGIN_AIRPORT  DESTINATION_AIRPORT  DISTANCE  \\\n",
       "0      1    4      AS              17                  277      1448   \n",
       "1      1    4      DL              17                  277      1448   \n",
       "2      1    4      AA             176                  235      2330   \n",
       "3      1    4      DL              93                  235      1086   \n",
       "4      1    4      AA             182                  235      1035   \n",
       "\n",
       "   ARRIVAL_DELAY  dept_temp  dept_dew  dept_hum      ...       arr_precip  \\\n",
       "0            -22      33.80     30.20     86.49      ...                0   \n",
       "1            -24      33.80     32.00     93.03      ...                0   \n",
       "2             -9      46.04     19.94     35.05      ...                0   \n",
       "3             -8      17.96      6.98     61.57      ...                0   \n",
       "4            -12      28.04      6.08     38.69      ...                0   \n",
       "\n",
       "   arr_alti  arr_vsby  arr_sky CertificateDate  Manu      Model  DAYS  \\\n",
       "0     30.32        10      CLR          2012.0     6  737-990ER     0   \n",
       "1     30.32        10      CLR          2001.0     1   A321-211     0   \n",
       "2     30.21        10      FEW          2009.0     6    737-890     0   \n",
       "3     30.21        10      FEW          2000.0     6    737-832     0   \n",
       "4     30.21        10      FEW          2014.0     1   A320-232     0   \n",
       "\n",
       "   DEPARTURE_HOUR  ARRIVAL_HOUR  \n",
       "0             9.1          13.5  \n",
       "1             9.8          14.2  \n",
       "2             8.2          15.8  \n",
       "3            13.0          16.1  \n",
       "4            12.5          15.5  \n",
       "\n",
       "[5 rows x 29 columns]"
      ]
     },
     "execution_count": 6,
     "metadata": {},
     "output_type": "execute_result"
    }
   ],
   "source": [
    "manufacts = flights['Manu'].tolist()\n",
    "\n",
    "le_manu = preprocessing.LabelEncoder()\n",
    "le_manu.fit(manufacts)\n",
    "#print(le_airports.classes_)\n",
    "enc_manufacts = le_manu.transform(manufacts)\n",
    "\n",
    "flights['Manu'] = enc_manufacts\n",
    "flights.head()"
   ]
  },
  {
   "cell_type": "code",
   "execution_count": 7,
   "metadata": {
    "collapsed": false
   },
   "outputs": [
    {
     "data": {
      "text/html": [
       "<div>\n",
       "<table border=\"1\" class=\"dataframe\">\n",
       "  <thead>\n",
       "    <tr style=\"text-align: right;\">\n",
       "      <th></th>\n",
       "      <th>MONTH</th>\n",
       "      <th>DOW</th>\n",
       "      <th>AIRLINE</th>\n",
       "      <th>ORIGIN_AIRPORT</th>\n",
       "      <th>DESTINATION_AIRPORT</th>\n",
       "      <th>DISTANCE</th>\n",
       "      <th>ARRIVAL_DELAY</th>\n",
       "      <th>dept_temp</th>\n",
       "      <th>dept_dew</th>\n",
       "      <th>dept_hum</th>\n",
       "      <th>...</th>\n",
       "      <th>arr_precip</th>\n",
       "      <th>arr_alti</th>\n",
       "      <th>arr_vsby</th>\n",
       "      <th>arr_sky</th>\n",
       "      <th>CertificateDate</th>\n",
       "      <th>Manu</th>\n",
       "      <th>Model</th>\n",
       "      <th>DAYS</th>\n",
       "      <th>DEPARTURE_HOUR</th>\n",
       "      <th>ARRIVAL_HOUR</th>\n",
       "    </tr>\n",
       "  </thead>\n",
       "  <tbody>\n",
       "    <tr>\n",
       "      <th>0</th>\n",
       "      <td>1</td>\n",
       "      <td>4</td>\n",
       "      <td>AS</td>\n",
       "      <td>17</td>\n",
       "      <td>277</td>\n",
       "      <td>1448</td>\n",
       "      <td>-22</td>\n",
       "      <td>33.80</td>\n",
       "      <td>30.20</td>\n",
       "      <td>86.49</td>\n",
       "      <td>...</td>\n",
       "      <td>0</td>\n",
       "      <td>30.32</td>\n",
       "      <td>10</td>\n",
       "      <td>CLR</td>\n",
       "      <td>2012.0</td>\n",
       "      <td>6</td>\n",
       "      <td>53</td>\n",
       "      <td>0</td>\n",
       "      <td>9.1</td>\n",
       "      <td>13.5</td>\n",
       "    </tr>\n",
       "    <tr>\n",
       "      <th>1</th>\n",
       "      <td>1</td>\n",
       "      <td>4</td>\n",
       "      <td>DL</td>\n",
       "      <td>17</td>\n",
       "      <td>277</td>\n",
       "      <td>1448</td>\n",
       "      <td>-24</td>\n",
       "      <td>33.80</td>\n",
       "      <td>32.00</td>\n",
       "      <td>93.03</td>\n",
       "      <td>...</td>\n",
       "      <td>0</td>\n",
       "      <td>30.32</td>\n",
       "      <td>10</td>\n",
       "      <td>CLR</td>\n",
       "      <td>2001.0</td>\n",
       "      <td>1</td>\n",
       "      <td>103</td>\n",
       "      <td>0</td>\n",
       "      <td>9.8</td>\n",
       "      <td>14.2</td>\n",
       "    </tr>\n",
       "    <tr>\n",
       "      <th>2</th>\n",
       "      <td>1</td>\n",
       "      <td>4</td>\n",
       "      <td>AA</td>\n",
       "      <td>176</td>\n",
       "      <td>235</td>\n",
       "      <td>2330</td>\n",
       "      <td>-9</td>\n",
       "      <td>46.04</td>\n",
       "      <td>19.94</td>\n",
       "      <td>35.05</td>\n",
       "      <td>...</td>\n",
       "      <td>0</td>\n",
       "      <td>30.21</td>\n",
       "      <td>10</td>\n",
       "      <td>FEW</td>\n",
       "      <td>2009.0</td>\n",
       "      <td>6</td>\n",
       "      <td>46</td>\n",
       "      <td>0</td>\n",
       "      <td>8.2</td>\n",
       "      <td>15.8</td>\n",
       "    </tr>\n",
       "    <tr>\n",
       "      <th>3</th>\n",
       "      <td>1</td>\n",
       "      <td>4</td>\n",
       "      <td>DL</td>\n",
       "      <td>93</td>\n",
       "      <td>235</td>\n",
       "      <td>1086</td>\n",
       "      <td>-8</td>\n",
       "      <td>17.96</td>\n",
       "      <td>6.98</td>\n",
       "      <td>61.57</td>\n",
       "      <td>...</td>\n",
       "      <td>0</td>\n",
       "      <td>30.21</td>\n",
       "      <td>10</td>\n",
       "      <td>FEW</td>\n",
       "      <td>2000.0</td>\n",
       "      <td>6</td>\n",
       "      <td>45</td>\n",
       "      <td>0</td>\n",
       "      <td>13.0</td>\n",
       "      <td>16.1</td>\n",
       "    </tr>\n",
       "    <tr>\n",
       "      <th>4</th>\n",
       "      <td>1</td>\n",
       "      <td>4</td>\n",
       "      <td>AA</td>\n",
       "      <td>182</td>\n",
       "      <td>235</td>\n",
       "      <td>1035</td>\n",
       "      <td>-12</td>\n",
       "      <td>28.04</td>\n",
       "      <td>6.08</td>\n",
       "      <td>38.69</td>\n",
       "      <td>...</td>\n",
       "      <td>0</td>\n",
       "      <td>30.21</td>\n",
       "      <td>10</td>\n",
       "      <td>FEW</td>\n",
       "      <td>2014.0</td>\n",
       "      <td>1</td>\n",
       "      <td>102</td>\n",
       "      <td>0</td>\n",
       "      <td>12.5</td>\n",
       "      <td>15.5</td>\n",
       "    </tr>\n",
       "  </tbody>\n",
       "</table>\n",
       "<p>5 rows × 29 columns</p>\n",
       "</div>"
      ],
      "text/plain": [
       "   MONTH  DOW AIRLINE  ORIGIN_AIRPORT  DESTINATION_AIRPORT  DISTANCE  \\\n",
       "0      1    4      AS              17                  277      1448   \n",
       "1      1    4      DL              17                  277      1448   \n",
       "2      1    4      AA             176                  235      2330   \n",
       "3      1    4      DL              93                  235      1086   \n",
       "4      1    4      AA             182                  235      1035   \n",
       "\n",
       "   ARRIVAL_DELAY  dept_temp  dept_dew  dept_hum      ...       arr_precip  \\\n",
       "0            -22      33.80     30.20     86.49      ...                0   \n",
       "1            -24      33.80     32.00     93.03      ...                0   \n",
       "2             -9      46.04     19.94     35.05      ...                0   \n",
       "3             -8      17.96      6.98     61.57      ...                0   \n",
       "4            -12      28.04      6.08     38.69      ...                0   \n",
       "\n",
       "   arr_alti  arr_vsby  arr_sky CertificateDate  Manu  Model  DAYS  \\\n",
       "0     30.32        10      CLR          2012.0     6     53     0   \n",
       "1     30.32        10      CLR          2001.0     1    103     0   \n",
       "2     30.21        10      FEW          2009.0     6     46     0   \n",
       "3     30.21        10      FEW          2000.0     6     45     0   \n",
       "4     30.21        10      FEW          2014.0     1    102     0   \n",
       "\n",
       "   DEPARTURE_HOUR  ARRIVAL_HOUR  \n",
       "0             9.1          13.5  \n",
       "1             9.8          14.2  \n",
       "2             8.2          15.8  \n",
       "3            13.0          16.1  \n",
       "4            12.5          15.5  \n",
       "\n",
       "[5 rows x 29 columns]"
      ]
     },
     "execution_count": 7,
     "metadata": {},
     "output_type": "execute_result"
    }
   ],
   "source": [
    "models = flights['Model'].tolist()\n",
    "\n",
    "le_model = preprocessing.LabelEncoder()\n",
    "le_model.fit(models)\n",
    "#print(le_airports.classes_)\n",
    "enc_models = le_model.transform(models)\n",
    "\n",
    "flights['Model'] = enc_models\n",
    "flights.head()"
   ]
  },
  {
   "cell_type": "code",
   "execution_count": 8,
   "metadata": {
    "collapsed": false
   },
   "outputs": [
    {
     "data": {
      "text/html": [
       "<div>\n",
       "<table border=\"1\" class=\"dataframe\">\n",
       "  <thead>\n",
       "    <tr style=\"text-align: right;\">\n",
       "      <th></th>\n",
       "      <th>MONTH</th>\n",
       "      <th>DOW</th>\n",
       "      <th>AIRLINE</th>\n",
       "      <th>ORIGIN_AIRPORT</th>\n",
       "      <th>DESTINATION_AIRPORT</th>\n",
       "      <th>DISTANCE</th>\n",
       "      <th>ARRIVAL_DELAY</th>\n",
       "      <th>dept_temp</th>\n",
       "      <th>dept_dew</th>\n",
       "      <th>dept_hum</th>\n",
       "      <th>...</th>\n",
       "      <th>arr_precip</th>\n",
       "      <th>arr_alti</th>\n",
       "      <th>arr_vsby</th>\n",
       "      <th>arr_sky</th>\n",
       "      <th>CertificateDate</th>\n",
       "      <th>Manu</th>\n",
       "      <th>Model</th>\n",
       "      <th>DAYS</th>\n",
       "      <th>DEPARTURE_HOUR</th>\n",
       "      <th>ARRIVAL_HOUR</th>\n",
       "    </tr>\n",
       "  </thead>\n",
       "  <tbody>\n",
       "    <tr>\n",
       "      <th>0</th>\n",
       "      <td>1</td>\n",
       "      <td>4</td>\n",
       "      <td>AS</td>\n",
       "      <td>17</td>\n",
       "      <td>277</td>\n",
       "      <td>1448</td>\n",
       "      <td>-22</td>\n",
       "      <td>33.80</td>\n",
       "      <td>30.20</td>\n",
       "      <td>86.49</td>\n",
       "      <td>...</td>\n",
       "      <td>0</td>\n",
       "      <td>30.32</td>\n",
       "      <td>10</td>\n",
       "      <td>1</td>\n",
       "      <td>2012.0</td>\n",
       "      <td>6</td>\n",
       "      <td>53</td>\n",
       "      <td>0</td>\n",
       "      <td>9.1</td>\n",
       "      <td>13.5</td>\n",
       "    </tr>\n",
       "    <tr>\n",
       "      <th>1</th>\n",
       "      <td>1</td>\n",
       "      <td>4</td>\n",
       "      <td>DL</td>\n",
       "      <td>17</td>\n",
       "      <td>277</td>\n",
       "      <td>1448</td>\n",
       "      <td>-24</td>\n",
       "      <td>33.80</td>\n",
       "      <td>32.00</td>\n",
       "      <td>93.03</td>\n",
       "      <td>...</td>\n",
       "      <td>0</td>\n",
       "      <td>30.32</td>\n",
       "      <td>10</td>\n",
       "      <td>1</td>\n",
       "      <td>2001.0</td>\n",
       "      <td>1</td>\n",
       "      <td>103</td>\n",
       "      <td>0</td>\n",
       "      <td>9.8</td>\n",
       "      <td>14.2</td>\n",
       "    </tr>\n",
       "    <tr>\n",
       "      <th>2</th>\n",
       "      <td>1</td>\n",
       "      <td>4</td>\n",
       "      <td>AA</td>\n",
       "      <td>176</td>\n",
       "      <td>235</td>\n",
       "      <td>2330</td>\n",
       "      <td>-9</td>\n",
       "      <td>46.04</td>\n",
       "      <td>19.94</td>\n",
       "      <td>35.05</td>\n",
       "      <td>...</td>\n",
       "      <td>0</td>\n",
       "      <td>30.21</td>\n",
       "      <td>10</td>\n",
       "      <td>2</td>\n",
       "      <td>2009.0</td>\n",
       "      <td>6</td>\n",
       "      <td>46</td>\n",
       "      <td>0</td>\n",
       "      <td>8.2</td>\n",
       "      <td>15.8</td>\n",
       "    </tr>\n",
       "    <tr>\n",
       "      <th>3</th>\n",
       "      <td>1</td>\n",
       "      <td>4</td>\n",
       "      <td>DL</td>\n",
       "      <td>93</td>\n",
       "      <td>235</td>\n",
       "      <td>1086</td>\n",
       "      <td>-8</td>\n",
       "      <td>17.96</td>\n",
       "      <td>6.98</td>\n",
       "      <td>61.57</td>\n",
       "      <td>...</td>\n",
       "      <td>0</td>\n",
       "      <td>30.21</td>\n",
       "      <td>10</td>\n",
       "      <td>2</td>\n",
       "      <td>2000.0</td>\n",
       "      <td>6</td>\n",
       "      <td>45</td>\n",
       "      <td>0</td>\n",
       "      <td>13.0</td>\n",
       "      <td>16.1</td>\n",
       "    </tr>\n",
       "    <tr>\n",
       "      <th>4</th>\n",
       "      <td>1</td>\n",
       "      <td>4</td>\n",
       "      <td>AA</td>\n",
       "      <td>182</td>\n",
       "      <td>235</td>\n",
       "      <td>1035</td>\n",
       "      <td>-12</td>\n",
       "      <td>28.04</td>\n",
       "      <td>6.08</td>\n",
       "      <td>38.69</td>\n",
       "      <td>...</td>\n",
       "      <td>0</td>\n",
       "      <td>30.21</td>\n",
       "      <td>10</td>\n",
       "      <td>2</td>\n",
       "      <td>2014.0</td>\n",
       "      <td>1</td>\n",
       "      <td>102</td>\n",
       "      <td>0</td>\n",
       "      <td>12.5</td>\n",
       "      <td>15.5</td>\n",
       "    </tr>\n",
       "  </tbody>\n",
       "</table>\n",
       "<p>5 rows × 29 columns</p>\n",
       "</div>"
      ],
      "text/plain": [
       "   MONTH  DOW AIRLINE  ORIGIN_AIRPORT  DESTINATION_AIRPORT  DISTANCE  \\\n",
       "0      1    4      AS              17                  277      1448   \n",
       "1      1    4      DL              17                  277      1448   \n",
       "2      1    4      AA             176                  235      2330   \n",
       "3      1    4      DL              93                  235      1086   \n",
       "4      1    4      AA             182                  235      1035   \n",
       "\n",
       "   ARRIVAL_DELAY  dept_temp  dept_dew  dept_hum      ...       arr_precip  \\\n",
       "0            -22      33.80     30.20     86.49      ...                0   \n",
       "1            -24      33.80     32.00     93.03      ...                0   \n",
       "2             -9      46.04     19.94     35.05      ...                0   \n",
       "3             -8      17.96      6.98     61.57      ...                0   \n",
       "4            -12      28.04      6.08     38.69      ...                0   \n",
       "\n",
       "   arr_alti  arr_vsby  arr_sky  CertificateDate  Manu  Model  DAYS  \\\n",
       "0     30.32        10        1           2012.0     6     53     0   \n",
       "1     30.32        10        1           2001.0     1    103     0   \n",
       "2     30.21        10        2           2009.0     6     46     0   \n",
       "3     30.21        10        2           2000.0     6     45     0   \n",
       "4     30.21        10        2           2014.0     1    102     0   \n",
       "\n",
       "   DEPARTURE_HOUR  ARRIVAL_HOUR  \n",
       "0             9.1          13.5  \n",
       "1             9.8          14.2  \n",
       "2             8.2          15.8  \n",
       "3            13.0          16.1  \n",
       "4            12.5          15.5  \n",
       "\n",
       "[5 rows x 29 columns]"
      ]
     },
     "execution_count": 8,
     "metadata": {},
     "output_type": "execute_result"
    }
   ],
   "source": [
    "arr_sky = flights['arr_sky'].tolist()\n",
    "dept_sky = flights['dept_sky'].tolist()\n",
    "\n",
    "le_sky = preprocessing.LabelEncoder()\n",
    "le_sky.fit(arr_sky)\n",
    "#print(le_airports.classes_)\n",
    "enc_arr_sky = le_sky.transform(arr_sky)\n",
    "enc_dept_sky = le_sky.transform(dept_sky)\n",
    "\n",
    "flights['dept_sky'] = enc_dept_sky\n",
    "flights['arr_sky'] = enc_arr_sky\n",
    "flights.head()"
   ]
  },
  {
   "cell_type": "code",
   "execution_count": 5,
   "metadata": {
    "collapsed": false
   },
   "outputs": [
    {
     "data": {
      "text/html": [
       "<div>\n",
       "<table border=\"1\" class=\"dataframe\">\n",
       "  <thead>\n",
       "    <tr style=\"text-align: right;\">\n",
       "      <th></th>\n",
       "      <th>AIRLINE</th>\n",
       "      <th>dept_temp</th>\n",
       "      <th>dept_dew</th>\n",
       "      <th>dept_hum</th>\n",
       "      <th>dept_alti</th>\n",
       "      <th>dept_vsby</th>\n",
       "      <th>arr_hum</th>\n",
       "      <th>DAYS</th>\n",
       "      <th>DEPARTURE_HOUR</th>\n",
       "      <th>ARRIVAL_HOUR</th>\n",
       "      <th>ARRIVAL_DELAY</th>\n",
       "    </tr>\n",
       "  </thead>\n",
       "  <tbody>\n",
       "    <tr>\n",
       "      <th>0</th>\n",
       "      <td>1</td>\n",
       "      <td>33.80</td>\n",
       "      <td>30.20</td>\n",
       "      <td>86.49</td>\n",
       "      <td>30.18</td>\n",
       "      <td>1</td>\n",
       "      <td>74.70</td>\n",
       "      <td>0</td>\n",
       "      <td>9.1</td>\n",
       "      <td>13.5</td>\n",
       "      <td>-22</td>\n",
       "    </tr>\n",
       "    <tr>\n",
       "      <th>1</th>\n",
       "      <td>3</td>\n",
       "      <td>33.80</td>\n",
       "      <td>32.00</td>\n",
       "      <td>93.03</td>\n",
       "      <td>30.16</td>\n",
       "      <td>1</td>\n",
       "      <td>74.70</td>\n",
       "      <td>0</td>\n",
       "      <td>9.8</td>\n",
       "      <td>14.2</td>\n",
       "      <td>-24</td>\n",
       "    </tr>\n",
       "    <tr>\n",
       "      <th>2</th>\n",
       "      <td>0</td>\n",
       "      <td>46.04</td>\n",
       "      <td>19.94</td>\n",
       "      <td>35.05</td>\n",
       "      <td>30.06</td>\n",
       "      <td>10</td>\n",
       "      <td>81.85</td>\n",
       "      <td>0</td>\n",
       "      <td>8.2</td>\n",
       "      <td>15.8</td>\n",
       "      <td>-9</td>\n",
       "    </tr>\n",
       "    <tr>\n",
       "      <th>3</th>\n",
       "      <td>3</td>\n",
       "      <td>17.96</td>\n",
       "      <td>6.98</td>\n",
       "      <td>61.57</td>\n",
       "      <td>30.00</td>\n",
       "      <td>10</td>\n",
       "      <td>81.85</td>\n",
       "      <td>0</td>\n",
       "      <td>13.0</td>\n",
       "      <td>16.1</td>\n",
       "      <td>-8</td>\n",
       "    </tr>\n",
       "    <tr>\n",
       "      <th>4</th>\n",
       "      <td>0</td>\n",
       "      <td>28.04</td>\n",
       "      <td>6.08</td>\n",
       "      <td>38.69</td>\n",
       "      <td>30.17</td>\n",
       "      <td>10</td>\n",
       "      <td>81.85</td>\n",
       "      <td>0</td>\n",
       "      <td>12.5</td>\n",
       "      <td>15.5</td>\n",
       "      <td>-12</td>\n",
       "    </tr>\n",
       "  </tbody>\n",
       "</table>\n",
       "</div>"
      ],
      "text/plain": [
       "   AIRLINE  dept_temp  dept_dew  dept_hum  dept_alti  dept_vsby  arr_hum  \\\n",
       "0        1      33.80     30.20     86.49      30.18          1    74.70   \n",
       "1        3      33.80     32.00     93.03      30.16          1    74.70   \n",
       "2        0      46.04     19.94     35.05      30.06         10    81.85   \n",
       "3        3      17.96      6.98     61.57      30.00         10    81.85   \n",
       "4        0      28.04      6.08     38.69      30.17         10    81.85   \n",
       "\n",
       "   DAYS  DEPARTURE_HOUR  ARRIVAL_HOUR  ARRIVAL_DELAY  \n",
       "0     0             9.1          13.5            -22  \n",
       "1     0             9.8          14.2            -24  \n",
       "2     0             8.2          15.8             -9  \n",
       "3     0            13.0          16.1             -8  \n",
       "4     0            12.5          15.5            -12  "
      ]
     },
     "execution_count": 5,
     "metadata": {},
     "output_type": "execute_result"
    }
   ],
   "source": [
    "airlines = flights['AIRLINE'].tolist()\n",
    "le_airline = preprocessing.LabelEncoder()\n",
    "le_airline.fit(airlines)\n",
    "#print(le_airports.classes_)\n",
    "enc_airlines = le_airline.transform(airlines)\n",
    "\n",
    "flights['AIRLINE'] = enc_airlines\n",
    "flights.head()"
   ]
  },
  {
   "cell_type": "code",
   "execution_count": 4,
   "metadata": {
    "collapsed": false
   },
   "outputs": [
    {
     "data": {
      "text/plain": [
       "['AIRLINE',\n",
       " 'dept_temp',\n",
       " 'dept_dew',\n",
       " 'dept_hum',\n",
       " 'dept_alti',\n",
       " 'dept_vsby',\n",
       " 'arr_hum',\n",
       " 'DAYS',\n",
       " 'DEPARTURE_HOUR',\n",
       " 'ARRIVAL_HOUR',\n",
       " 'ARRIVAL_DELAY']"
      ]
     },
     "execution_count": 4,
     "metadata": {},
     "output_type": "execute_result"
    }
   ],
   "source": [
    "list(flights)"
   ]
  },
  {
   "cell_type": "code",
   "execution_count": 6,
   "metadata": {
    "collapsed": false
   },
   "outputs": [],
   "source": [
    "features = [i for i in list(flights) if i != \"ARRIVAL_DELAY\"]"
   ]
  },
  {
   "cell_type": "code",
   "execution_count": 7,
   "metadata": {
    "collapsed": false
   },
   "outputs": [
    {
     "data": {
      "text/plain": [
       "['AIRLINE',\n",
       " 'dept_temp',\n",
       " 'dept_dew',\n",
       " 'dept_hum',\n",
       " 'dept_alti',\n",
       " 'dept_vsby',\n",
       " 'arr_hum',\n",
       " 'DAYS',\n",
       " 'DEPARTURE_HOUR',\n",
       " 'ARRIVAL_HOUR']"
      ]
     },
     "execution_count": 7,
     "metadata": {},
     "output_type": "execute_result"
    }
   ],
   "source": [
    "features"
   ]
  },
  {
   "cell_type": "code",
   "execution_count": 32,
   "metadata": {
    "collapsed": false
   },
   "outputs": [
    {
     "data": {
      "text/plain": [
       "['dept_dew',\n",
       " 'dept_alti',\n",
       " 'AIRLINE',\n",
       " 'dept_hum',\n",
       " 'dept_vsby',\n",
       " 'ARRIVAL_HOUR',\n",
       " 'DEPARTURE_HOUR',\n",
       " 'arr_hum',\n",
       " 'dept_temp',\n",
       " 'DAYS']"
      ]
     },
     "execution_count": 32,
     "metadata": {},
     "output_type": "execute_result"
    }
   ],
   "source": [
    "featuresKeep = [features[i] for i in top10]\n",
    "featuresKeep"
   ]
  },
  {
   "cell_type": "code",
   "execution_count": 7,
   "metadata": {
    "collapsed": true
   },
   "outputs": [],
   "source": [
    "X = flights[features]\n",
    "y = flights[\"ARRIVAL_DELAY\"]"
   ]
  },
  {
   "cell_type": "code",
   "execution_count": 8,
   "metadata": {
    "collapsed": false
   },
   "outputs": [],
   "source": [
    "X_train, X_test, y_train, y_test = train_test_split(X, y, test_size=0.1)"
   ]
  },
  {
   "cell_type": "code",
   "execution_count": 13,
   "metadata": {
    "collapsed": false
   },
   "outputs": [
    {
     "data": {
      "text/plain": [
       "4.3705694832700708"
      ]
     },
     "execution_count": 13,
     "metadata": {},
     "output_type": "execute_result"
    }
   ],
   "source": [
    "sum(y_train)/ len(y_train)"
   ]
  },
  {
   "cell_type": "code",
   "execution_count": 15,
   "metadata": {
    "collapsed": false
   },
   "outputs": [],
   "source": [
    "x = [4.3705694832700708 for i in range(len(y_test))]"
   ]
  },
  {
   "cell_type": "code",
   "execution_count": 16,
   "metadata": {
    "collapsed": false
   },
   "outputs": [
    {
     "data": {
      "text/plain": [
       "21.155373297833648"
      ]
     },
     "execution_count": 16,
     "metadata": {},
     "output_type": "execute_result"
    }
   ],
   "source": [
    "mean_absolute_error(y_test, x)"
   ]
  },
  {
   "cell_type": "markdown",
   "metadata": {
    "collapsed": false
   },
   "source": [
    "#parameters = {'criterion': [\"mae\"], 'min_samples_split' : [0.05, .15, .2], 'max_depth': [10,20,30,40], 'min_impurity_split' : [.00001, 0.0001, .001, .01]}"
   ]
  },
  {
   "cell_type": "code",
   "execution_count": 15,
   "metadata": {
    "collapsed": true
   },
   "outputs": [],
   "source": [
    "parameters = {'min_samples_split' : [0.05, .1, .15, .2]}"
   ]
  },
  {
   "cell_type": "code",
   "execution_count": 9,
   "metadata": {
    "collapsed": false
   },
   "outputs": [
    {
     "data": {
      "text/plain": [
       "DecisionTreeRegressor(criterion='mse', max_depth=None, max_features=None,\n",
       "           max_leaf_nodes=None, min_impurity_split=1e-07,\n",
       "           min_samples_leaf=1, min_samples_split=0.0001,\n",
       "           min_weight_fraction_leaf=0.0, presort=False, random_state=None,\n",
       "           splitter='best')"
      ]
     },
     "execution_count": 9,
     "metadata": {},
     "output_type": "execute_result"
    }
   ],
   "source": [
    "regressor = DecisionTreeRegressor(min_samples_split = 0.0001)\n",
    "regressor.fit(X_train, y_train)"
   ]
  },
  {
   "cell_type": "code",
   "execution_count": 10,
   "metadata": {
    "collapsed": true
   },
   "outputs": [],
   "source": [
    "a = regressor.predict(X_test)"
   ]
  },
  {
   "cell_type": "code",
   "execution_count": 11,
   "metadata": {
    "collapsed": false
   },
   "outputs": [
    {
     "data": {
      "text/plain": [
       "array([ 16.73747017,   2.27675277,  -5.2345679 , ...,   5.82232346,\n",
       "        -7.29277567,   4.10552764])"
      ]
     },
     "execution_count": 11,
     "metadata": {},
     "output_type": "execute_result"
    }
   ],
   "source": [
    "a"
   ]
  },
  {
   "cell_type": "code",
   "execution_count": null,
   "metadata": {
    "collapsed": true
   },
   "outputs": [],
   "source": [
    "regressor = DecisionTreeRegressor()\n",
    "clf = GridSearchCV(regressor, parameters)\n",
    "clf.fit(X_train, y_train)"
   ]
  },
  {
   "cell_type": "code",
   "execution_count": 16,
   "metadata": {
    "collapsed": false
   },
   "outputs": [
    {
     "ename": "ValueError",
     "evalue": "Input X must be non-negative.",
     "output_type": "error",
     "traceback": [
      "\u001b[0;31m---------------------------------------------------------------------------\u001b[0m",
      "\u001b[0;31mValueError\u001b[0m                                Traceback (most recent call last)",
      "\u001b[0;32m<ipython-input-16-1051df31b69d>\u001b[0m in \u001b[0;36m<module>\u001b[0;34m()\u001b[0m\n\u001b[0;32m----> 1\u001b[0;31m \u001b[0mX_new\u001b[0m \u001b[1;33m=\u001b[0m \u001b[0mSelectKBest\u001b[0m\u001b[1;33m(\u001b[0m\u001b[0mchi2\u001b[0m\u001b[1;33m,\u001b[0m \u001b[0mk\u001b[0m\u001b[1;33m=\u001b[0m\u001b[1;36m5\u001b[0m\u001b[1;33m)\u001b[0m\u001b[1;33m.\u001b[0m\u001b[0mfit_transform\u001b[0m\u001b[1;33m(\u001b[0m\u001b[0mX\u001b[0m\u001b[1;33m,\u001b[0m \u001b[0my\u001b[0m\u001b[1;33m)\u001b[0m\u001b[1;33m\u001b[0m\u001b[0m\n\u001b[0m",
      "\u001b[0;32mC:\\Users\\andre_000\\Anaconda3\\lib\\site-packages\\sklearn\\base.py\u001b[0m in \u001b[0;36mfit_transform\u001b[0;34m(self, X, y, **fit_params)\u001b[0m\n\u001b[1;32m    495\u001b[0m         \u001b[1;32melse\u001b[0m\u001b[1;33m:\u001b[0m\u001b[1;33m\u001b[0m\u001b[0m\n\u001b[1;32m    496\u001b[0m             \u001b[1;31m# fit method of arity 2 (supervised transformation)\u001b[0m\u001b[1;33m\u001b[0m\u001b[1;33m\u001b[0m\u001b[0m\n\u001b[0;32m--> 497\u001b[0;31m             \u001b[1;32mreturn\u001b[0m \u001b[0mself\u001b[0m\u001b[1;33m.\u001b[0m\u001b[0mfit\u001b[0m\u001b[1;33m(\u001b[0m\u001b[0mX\u001b[0m\u001b[1;33m,\u001b[0m \u001b[0my\u001b[0m\u001b[1;33m,\u001b[0m \u001b[1;33m**\u001b[0m\u001b[0mfit_params\u001b[0m\u001b[1;33m)\u001b[0m\u001b[1;33m.\u001b[0m\u001b[0mtransform\u001b[0m\u001b[1;33m(\u001b[0m\u001b[0mX\u001b[0m\u001b[1;33m)\u001b[0m\u001b[1;33m\u001b[0m\u001b[0m\n\u001b[0m\u001b[1;32m    498\u001b[0m \u001b[1;33m\u001b[0m\u001b[0m\n\u001b[1;32m    499\u001b[0m \u001b[1;33m\u001b[0m\u001b[0m\n",
      "\u001b[0;32mC:\\Users\\andre_000\\Anaconda3\\lib\\site-packages\\sklearn\\feature_selection\\univariate_selection.py\u001b[0m in \u001b[0;36mfit\u001b[0;34m(self, X, y)\u001b[0m\n\u001b[1;32m    328\u001b[0m \u001b[1;33m\u001b[0m\u001b[0m\n\u001b[1;32m    329\u001b[0m         \u001b[0mself\u001b[0m\u001b[1;33m.\u001b[0m\u001b[0m_check_params\u001b[0m\u001b[1;33m(\u001b[0m\u001b[0mX\u001b[0m\u001b[1;33m,\u001b[0m \u001b[0my\u001b[0m\u001b[1;33m)\u001b[0m\u001b[1;33m\u001b[0m\u001b[0m\n\u001b[0;32m--> 330\u001b[0;31m         \u001b[0mscore_func_ret\u001b[0m \u001b[1;33m=\u001b[0m \u001b[0mself\u001b[0m\u001b[1;33m.\u001b[0m\u001b[0mscore_func\u001b[0m\u001b[1;33m(\u001b[0m\u001b[0mX\u001b[0m\u001b[1;33m,\u001b[0m \u001b[0my\u001b[0m\u001b[1;33m)\u001b[0m\u001b[1;33m\u001b[0m\u001b[0m\n\u001b[0m\u001b[1;32m    331\u001b[0m         \u001b[1;32mif\u001b[0m \u001b[0misinstance\u001b[0m\u001b[1;33m(\u001b[0m\u001b[0mscore_func_ret\u001b[0m\u001b[1;33m,\u001b[0m \u001b[1;33m(\u001b[0m\u001b[0mlist\u001b[0m\u001b[1;33m,\u001b[0m \u001b[0mtuple\u001b[0m\u001b[1;33m)\u001b[0m\u001b[1;33m)\u001b[0m\u001b[1;33m:\u001b[0m\u001b[1;33m\u001b[0m\u001b[0m\n\u001b[1;32m    332\u001b[0m             \u001b[0mself\u001b[0m\u001b[1;33m.\u001b[0m\u001b[0mscores_\u001b[0m\u001b[1;33m,\u001b[0m \u001b[0mself\u001b[0m\u001b[1;33m.\u001b[0m\u001b[0mpvalues_\u001b[0m \u001b[1;33m=\u001b[0m \u001b[0mscore_func_ret\u001b[0m\u001b[1;33m\u001b[0m\u001b[0m\n",
      "\u001b[0;32mC:\\Users\\andre_000\\Anaconda3\\lib\\site-packages\\sklearn\\feature_selection\\univariate_selection.py\u001b[0m in \u001b[0;36mchi2\u001b[0;34m(X, y)\u001b[0m\n\u001b[1;32m    213\u001b[0m     \u001b[0mX\u001b[0m \u001b[1;33m=\u001b[0m \u001b[0mcheck_array\u001b[0m\u001b[1;33m(\u001b[0m\u001b[0mX\u001b[0m\u001b[1;33m,\u001b[0m \u001b[0maccept_sparse\u001b[0m\u001b[1;33m=\u001b[0m\u001b[1;34m'csr'\u001b[0m\u001b[1;33m)\u001b[0m\u001b[1;33m\u001b[0m\u001b[0m\n\u001b[1;32m    214\u001b[0m     \u001b[1;32mif\u001b[0m \u001b[0mnp\u001b[0m\u001b[1;33m.\u001b[0m\u001b[0many\u001b[0m\u001b[1;33m(\u001b[0m\u001b[1;33m(\u001b[0m\u001b[0mX\u001b[0m\u001b[1;33m.\u001b[0m\u001b[0mdata\u001b[0m \u001b[1;32mif\u001b[0m \u001b[0missparse\u001b[0m\u001b[1;33m(\u001b[0m\u001b[0mX\u001b[0m\u001b[1;33m)\u001b[0m \u001b[1;32melse\u001b[0m \u001b[0mX\u001b[0m\u001b[1;33m)\u001b[0m \u001b[1;33m<\u001b[0m \u001b[1;36m0\u001b[0m\u001b[1;33m)\u001b[0m\u001b[1;33m:\u001b[0m\u001b[1;33m\u001b[0m\u001b[0m\n\u001b[0;32m--> 215\u001b[0;31m         \u001b[1;32mraise\u001b[0m \u001b[0mValueError\u001b[0m\u001b[1;33m(\u001b[0m\u001b[1;34m\"Input X must be non-negative.\"\u001b[0m\u001b[1;33m)\u001b[0m\u001b[1;33m\u001b[0m\u001b[0m\n\u001b[0m\u001b[1;32m    216\u001b[0m \u001b[1;33m\u001b[0m\u001b[0m\n\u001b[1;32m    217\u001b[0m     \u001b[0mY\u001b[0m \u001b[1;33m=\u001b[0m \u001b[0mLabelBinarizer\u001b[0m\u001b[1;33m(\u001b[0m\u001b[1;33m)\u001b[0m\u001b[1;33m.\u001b[0m\u001b[0mfit_transform\u001b[0m\u001b[1;33m(\u001b[0m\u001b[0my\u001b[0m\u001b[1;33m)\u001b[0m\u001b[1;33m\u001b[0m\u001b[0m\n",
      "\u001b[0;31mValueError\u001b[0m: Input X must be non-negative."
     ]
    }
   ],
   "source": [
    "X_new = SelectKBest(chi2, k=5).fit_transform(X, y)"
   ]
  },
  {
   "cell_type": "code",
   "execution_count": 38,
   "metadata": {
    "collapsed": false
   },
   "outputs": [
    {
     "data": {
      "text/plain": [
       "DecisionTreeRegressor(criterion='mse', max_depth=None, max_features=None,\n",
       "           max_leaf_nodes=None, min_impurity_split=1e-07,\n",
       "           min_samples_leaf=1, min_samples_split=2,\n",
       "           min_weight_fraction_leaf=0.0, presort=False, random_state=None,\n",
       "           splitter='best')"
      ]
     },
     "execution_count": 38,
     "metadata": {},
     "output_type": "execute_result"
    }
   ],
   "source": [
    "regressor = DecisionTreeRegressor()\n",
    "regressor.fit(X_train, y_train)"
   ]
  },
  {
   "cell_type": "code",
   "execution_count": 58,
   "metadata": {
    "collapsed": false
   },
   "outputs": [
    {
     "data": {
      "text/plain": [
       "28"
      ]
     },
     "execution_count": 58,
     "metadata": {},
     "output_type": "execute_result"
    }
   ],
   "source": [
    "b = regressor.feature_importances_\n",
    "len(b)"
   ]
  },
  {
   "cell_type": "code",
   "execution_count": 63,
   "metadata": {
    "collapsed": false
   },
   "outputs": [
    {
     "name": "stdout",
     "output_type": "stream",
     "text": [
      "('MONTH', 0.0028100704301275933)\n",
      "('DOW', 0.032658328300337318)\n",
      "('AIRLINE', 0.050680050818507578)\n",
      "('ORIGIN_AIRPORT', 0.038426403646046228)\n",
      "('DESTINATION_AIRPORT', 0.027173389702918691)\n",
      "('DISTANCE', 0.036077817191289982)\n",
      "('dept_temp', 0.068062365716839296)\n",
      "('dept_dew', 0.044342529725505786)\n",
      "('dept_hum', 0.055112870799337563)\n",
      "('dept_windspd', 0.027000582263818781)\n",
      "('dept_precip', 0.0013496610122443276)\n",
      "('dept_alti', 0.049617084016962361)\n",
      "('dept_vsby', 0.05627456231408981)\n",
      "('dept_sky', 0.0028689084398587361)\n",
      "('arr_temp', 0.033419968827261365)\n",
      "('arr_dew', 0.022251442120310671)\n",
      "('arr_hum', 0.064925925750954072)\n",
      "('arr_windspd', 0.02225563924963414)\n",
      "('arr_precip', 0.00080274111876291339)\n",
      "('arr_alti', 0.03571745933336095)\n",
      "('arr_vsby', 0.018865218917167415)\n",
      "('arr_sky', 0.0029945573085534008)\n",
      "('CertificateDate', 0.0062441727612615695)\n",
      "('Manu', 0.0014216957010039903)\n",
      "('Model', 0.0059102467085538086)\n",
      "('DAYS', 0.17102452590773745)\n",
      "('DEPARTURE_HOUR', 0.064065611445151008)\n",
      "('ARRIVAL_HOUR', 0.057646170472403162)\n"
     ]
    }
   ],
   "source": [
    "a = zip(X.columns, regressor.feature_importances_)\n",
    "for i in a:\n",
    "    print (i)"
   ]
  },
  {
   "cell_type": "code",
   "execution_count": 57,
   "metadata": {
    "collapsed": false
   },
   "outputs": [
    {
     "ename": "NameError",
     "evalue": "name 'names' is not defined",
     "output_type": "error",
     "traceback": [
      "\u001b[0;31m---------------------------------------------------------------------------\u001b[0m",
      "\u001b[0;31mNameError\u001b[0m                                 Traceback (most recent call last)",
      "\u001b[0;32m<ipython-input-57-c031585eb536>\u001b[0m in \u001b[0;36m<module>\u001b[0;34m()\u001b[0m\n\u001b[0;32m----> 1\u001b[0;31m sorted(zip(map(lambda x: round(x, 4), regressor.feature_importances_), names), \n\u001b[0m\u001b[1;32m      2\u001b[0m              reverse=True)\n",
      "\u001b[0;31mNameError\u001b[0m: name 'names' is not defined"
     ]
    }
   ],
   "source": [
    "sorted(zip(map(lambda x: round(x, 4), regressor.feature_importances_), names), \n",
    "             reverse=True)"
   ]
  },
  {
   "cell_type": "code",
   "execution_count": 65,
   "metadata": {
    "collapsed": false
   },
   "outputs": [
    {
     "data": {
      "text/plain": [
       "array([ 0.00281007,  0.03265833,  0.05068005,  0.0384264 ,  0.02717339,\n",
       "        0.03607782,  0.06806237,  0.04434253,  0.05511287,  0.02700058,\n",
       "        0.00134966,  0.04961708,  0.05627456,  0.00286891,  0.03341997,\n",
       "        0.02225144,  0.06492593,  0.02225564,  0.00080274,  0.03571746,\n",
       "        0.01886522,  0.00299456,  0.00624417,  0.0014217 ,  0.00591025,\n",
       "        0.17102453,  0.06406561,  0.05764617])"
      ]
     },
     "execution_count": 65,
     "metadata": {},
     "output_type": "execute_result"
    }
   ],
   "source": [
    "a = regressor.feature_importances_\n",
    "a"
   ]
  },
  {
   "cell_type": "code",
   "execution_count": 52,
   "metadata": {
    "collapsed": false
   },
   "outputs": [
    {
     "data": {
      "text/plain": [
       "[0.17102452590773745,\n",
       " 0.068062365716839296,\n",
       " 0.064925925750954072,\n",
       " 0.064065611445151008,\n",
       " 0.057646170472403162,\n",
       " 0.05627456231408981,\n",
       " 0.055112870799337563,\n",
       " 0.050680050818507578,\n",
       " 0.049617084016962361,\n",
       " 0.044342529725505786]"
      ]
     },
     "execution_count": 52,
     "metadata": {},
     "output_type": "execute_result"
    }
   ],
   "source": [
    "b = a[:]\n",
    "b = sorted(b)\n",
    "c = b[::-1]\n",
    "c[:10]"
   ]
  },
  {
   "cell_type": "code",
   "execution_count": 51,
   "metadata": {
    "collapsed": false
   },
   "outputs": [
    {
     "data": {
      "text/plain": [
       "array([ 0.00281007,  0.03265833,  0.05068005,  0.0384264 ,  0.02717339,\n",
       "        0.03607782,  0.06806237,  0.04434253,  0.05511287,  0.02700058,\n",
       "        0.00134966,  0.04961708,  0.05627456,  0.00286891,  0.03341997,\n",
       "        0.02225144,  0.06492593,  0.02225564,  0.00080274,  0.03571746,\n",
       "        0.01886522,  0.00299456,  0.00624417,  0.0014217 ,  0.00591025,\n",
       "        0.17102453,  0.06406561,  0.05764617])"
      ]
     },
     "execution_count": 51,
     "metadata": {},
     "output_type": "execute_result"
    }
   ],
   "source": [
    "a"
   ]
  },
  {
   "cell_type": "code",
   "execution_count": 66,
   "metadata": {
    "collapsed": false
   },
   "outputs": [
    {
     "data": {
      "text/plain": [
       "['AIRLINE',\n",
       " 'dept_temp',\n",
       " 'dept_dew',\n",
       " 'dept_hum',\n",
       " 'dept_alti',\n",
       " 'dept_vsby',\n",
       " 'arr_hum',\n",
       " 'DAYS',\n",
       " 'DEPARTURE_HOUR',\n",
       " 'ARRIVAL_HOUR']"
      ]
     },
     "execution_count": 66,
     "metadata": {},
     "output_type": "execute_result"
    }
   ],
   "source": [
    "cols = []\n",
    "for i, j in enumerate(a):\n",
    "    if j in c[:10]:\n",
    "        cols.append(features[i])\n",
    "cols\n",
    "#BEST WAY TO FIND MAPPING"
   ]
  },
  {
   "cell_type": "code",
   "execution_count": 40,
   "metadata": {
    "collapsed": false
   },
   "outputs": [
    {
     "ename": "KeyboardInterrupt",
     "evalue": "",
     "output_type": "error",
     "traceback": [
      "\u001b[0;31m---------------------------------------------------------------------------\u001b[0m",
      "\u001b[0;31mKeyboardInterrupt\u001b[0m                         Traceback (most recent call last)",
      "\u001b[0;32m<ipython-input-40-35c5de33e1c7>\u001b[0m in \u001b[0;36m<module>\u001b[0;34m()\u001b[0m\n\u001b[1;32m      1\u001b[0m \u001b[0mclf\u001b[0m \u001b[1;33m=\u001b[0m \u001b[0mExtraTreesClassifier\u001b[0m\u001b[1;33m(\u001b[0m\u001b[1;33m)\u001b[0m\u001b[1;33m\u001b[0m\u001b[0m\n\u001b[0;32m----> 2\u001b[0;31m \u001b[0mclf\u001b[0m \u001b[1;33m=\u001b[0m \u001b[0mclf\u001b[0m\u001b[1;33m.\u001b[0m\u001b[0mfit\u001b[0m\u001b[1;33m(\u001b[0m\u001b[0mX_train\u001b[0m\u001b[1;33m,\u001b[0m \u001b[0my_train\u001b[0m\u001b[1;33m)\u001b[0m\u001b[1;33m\u001b[0m\u001b[0m\n\u001b[0m",
      "\u001b[0;32mC:\\Users\\andre_000\\Anaconda3\\lib\\site-packages\\sklearn\\ensemble\\forest.py\u001b[0m in \u001b[0;36mfit\u001b[0;34m(self, X, y, sample_weight)\u001b[0m\n\u001b[1;32m    269\u001b[0m         \u001b[0mself\u001b[0m\u001b[1;33m.\u001b[0m\u001b[0mn_outputs_\u001b[0m \u001b[1;33m=\u001b[0m \u001b[0my\u001b[0m\u001b[1;33m.\u001b[0m\u001b[0mshape\u001b[0m\u001b[1;33m[\u001b[0m\u001b[1;36m1\u001b[0m\u001b[1;33m]\u001b[0m\u001b[1;33m\u001b[0m\u001b[0m\n\u001b[1;32m    270\u001b[0m \u001b[1;33m\u001b[0m\u001b[0m\n\u001b[0;32m--> 271\u001b[0;31m         \u001b[0my\u001b[0m\u001b[1;33m,\u001b[0m \u001b[0mexpanded_class_weight\u001b[0m \u001b[1;33m=\u001b[0m \u001b[0mself\u001b[0m\u001b[1;33m.\u001b[0m\u001b[0m_validate_y_class_weight\u001b[0m\u001b[1;33m(\u001b[0m\u001b[0my\u001b[0m\u001b[1;33m)\u001b[0m\u001b[1;33m\u001b[0m\u001b[0m\n\u001b[0m\u001b[1;32m    272\u001b[0m \u001b[1;33m\u001b[0m\u001b[0m\n\u001b[1;32m    273\u001b[0m         \u001b[1;32mif\u001b[0m \u001b[0mgetattr\u001b[0m\u001b[1;33m(\u001b[0m\u001b[0my\u001b[0m\u001b[1;33m,\u001b[0m \u001b[1;34m\"dtype\"\u001b[0m\u001b[1;33m,\u001b[0m \u001b[1;32mNone\u001b[0m\u001b[1;33m)\u001b[0m \u001b[1;33m!=\u001b[0m \u001b[0mDOUBLE\u001b[0m \u001b[1;32mor\u001b[0m \u001b[1;32mnot\u001b[0m \u001b[0my\u001b[0m\u001b[1;33m.\u001b[0m\u001b[0mflags\u001b[0m\u001b[1;33m.\u001b[0m\u001b[0mcontiguous\u001b[0m\u001b[1;33m:\u001b[0m\u001b[1;33m\u001b[0m\u001b[0m\n",
      "\u001b[0;32mC:\\Users\\andre_000\\Anaconda3\\lib\\site-packages\\sklearn\\ensemble\\forest.py\u001b[0m in \u001b[0;36m_validate_y_class_weight\u001b[0;34m(self, y)\u001b[0m\n\u001b[1;32m    468\u001b[0m         \u001b[0my_store_unique_indices\u001b[0m \u001b[1;33m=\u001b[0m \u001b[0mnp\u001b[0m\u001b[1;33m.\u001b[0m\u001b[0mzeros\u001b[0m\u001b[1;33m(\u001b[0m\u001b[0my\u001b[0m\u001b[1;33m.\u001b[0m\u001b[0mshape\u001b[0m\u001b[1;33m,\u001b[0m \u001b[0mdtype\u001b[0m\u001b[1;33m=\u001b[0m\u001b[0mnp\u001b[0m\u001b[1;33m.\u001b[0m\u001b[0mint\u001b[0m\u001b[1;33m)\u001b[0m\u001b[1;33m\u001b[0m\u001b[0m\n\u001b[1;32m    469\u001b[0m         \u001b[1;32mfor\u001b[0m \u001b[0mk\u001b[0m \u001b[1;32min\u001b[0m \u001b[0mrange\u001b[0m\u001b[1;33m(\u001b[0m\u001b[0mself\u001b[0m\u001b[1;33m.\u001b[0m\u001b[0mn_outputs_\u001b[0m\u001b[1;33m)\u001b[0m\u001b[1;33m:\u001b[0m\u001b[1;33m\u001b[0m\u001b[0m\n\u001b[0;32m--> 470\u001b[0;31m             \u001b[0mclasses_k\u001b[0m\u001b[1;33m,\u001b[0m \u001b[0my_store_unique_indices\u001b[0m\u001b[1;33m[\u001b[0m\u001b[1;33m:\u001b[0m\u001b[1;33m,\u001b[0m \u001b[0mk\u001b[0m\u001b[1;33m]\u001b[0m \u001b[1;33m=\u001b[0m \u001b[0mnp\u001b[0m\u001b[1;33m.\u001b[0m\u001b[0munique\u001b[0m\u001b[1;33m(\u001b[0m\u001b[0my\u001b[0m\u001b[1;33m[\u001b[0m\u001b[1;33m:\u001b[0m\u001b[1;33m,\u001b[0m \u001b[0mk\u001b[0m\u001b[1;33m]\u001b[0m\u001b[1;33m,\u001b[0m \u001b[0mreturn_inverse\u001b[0m\u001b[1;33m=\u001b[0m\u001b[1;32mTrue\u001b[0m\u001b[1;33m)\u001b[0m\u001b[1;33m\u001b[0m\u001b[0m\n\u001b[0m\u001b[1;32m    471\u001b[0m             \u001b[0mself\u001b[0m\u001b[1;33m.\u001b[0m\u001b[0mclasses_\u001b[0m\u001b[1;33m.\u001b[0m\u001b[0mappend\u001b[0m\u001b[1;33m(\u001b[0m\u001b[0mclasses_k\u001b[0m\u001b[1;33m)\u001b[0m\u001b[1;33m\u001b[0m\u001b[0m\n\u001b[1;32m    472\u001b[0m             \u001b[0mself\u001b[0m\u001b[1;33m.\u001b[0m\u001b[0mn_classes_\u001b[0m\u001b[1;33m.\u001b[0m\u001b[0mappend\u001b[0m\u001b[1;33m(\u001b[0m\u001b[0mclasses_k\u001b[0m\u001b[1;33m.\u001b[0m\u001b[0mshape\u001b[0m\u001b[1;33m[\u001b[0m\u001b[1;36m0\u001b[0m\u001b[1;33m]\u001b[0m\u001b[1;33m)\u001b[0m\u001b[1;33m\u001b[0m\u001b[0m\n",
      "\u001b[0;32mC:\\Users\\andre_000\\Anaconda3\\lib\\site-packages\\numpy\\lib\\arraysetops.py\u001b[0m in \u001b[0;36munique\u001b[0;34m(ar, return_index, return_inverse, return_counts)\u001b[0m\n\u001b[1;32m    209\u001b[0m             \u001b[0miflag\u001b[0m \u001b[1;33m=\u001b[0m \u001b[0mnp\u001b[0m\u001b[1;33m.\u001b[0m\u001b[0mcumsum\u001b[0m\u001b[1;33m(\u001b[0m\u001b[0mflag\u001b[0m\u001b[1;33m)\u001b[0m \u001b[1;33m-\u001b[0m \u001b[1;36m1\u001b[0m\u001b[1;33m\u001b[0m\u001b[0m\n\u001b[1;32m    210\u001b[0m             \u001b[0minv_idx\u001b[0m \u001b[1;33m=\u001b[0m \u001b[0mnp\u001b[0m\u001b[1;33m.\u001b[0m\u001b[0mempty\u001b[0m\u001b[1;33m(\u001b[0m\u001b[0mar\u001b[0m\u001b[1;33m.\u001b[0m\u001b[0mshape\u001b[0m\u001b[1;33m,\u001b[0m \u001b[0mdtype\u001b[0m\u001b[1;33m=\u001b[0m\u001b[0mnp\u001b[0m\u001b[1;33m.\u001b[0m\u001b[0mintp\u001b[0m\u001b[1;33m)\u001b[0m\u001b[1;33m\u001b[0m\u001b[0m\n\u001b[0;32m--> 211\u001b[0;31m             \u001b[0minv_idx\u001b[0m\u001b[1;33m[\u001b[0m\u001b[0mperm\u001b[0m\u001b[1;33m]\u001b[0m \u001b[1;33m=\u001b[0m \u001b[0miflag\u001b[0m\u001b[1;33m\u001b[0m\u001b[0m\n\u001b[0m\u001b[1;32m    212\u001b[0m             \u001b[0mret\u001b[0m \u001b[1;33m+=\u001b[0m \u001b[1;33m(\u001b[0m\u001b[0minv_idx\u001b[0m\u001b[1;33m,\u001b[0m\u001b[1;33m)\u001b[0m\u001b[1;33m\u001b[0m\u001b[0m\n\u001b[1;32m    213\u001b[0m         \u001b[1;32mif\u001b[0m \u001b[0mreturn_counts\u001b[0m\u001b[1;33m:\u001b[0m\u001b[1;33m\u001b[0m\u001b[0m\n",
      "\u001b[0;31mKeyboardInterrupt\u001b[0m: "
     ]
    }
   ],
   "source": [
    "clf = ExtraTreesClassifier()\n",
    "clf = clf.fit(X_train, y_train)"
   ]
  },
  {
   "cell_type": "code",
   "execution_count": 25,
   "metadata": {
    "collapsed": true
   },
   "outputs": [],
   "source": [
    "y_pred = regressor.predict(X_test)"
   ]
  },
  {
   "cell_type": "code",
   "execution_count": 26,
   "metadata": {
    "collapsed": false
   },
   "outputs": [
    {
     "data": {
      "text/plain": [
       "19.913205296315109"
      ]
     },
     "execution_count": 26,
     "metadata": {},
     "output_type": "execute_result"
    }
   ],
   "source": [
    "mean_absolute_error(y_test, y_pred)"
   ]
  },
  {
   "cell_type": "markdown",
   "metadata": {
    "collapsed": true
   },
   "source": [
    "Mean_absolute_error if just using average: 21.155373297833648"
   ]
  },
  {
   "cell_type": "code",
   "execution_count": 74,
   "metadata": {
    "collapsed": true
   },
   "outputs": [],
   "source": [
    "df1 = flights[['AIRLINE',\n",
    " 'dept_temp',\n",
    " 'dept_dew',\n",
    " 'dept_hum',\n",
    " 'dept_alti',\n",
    " 'dept_vsby',\n",
    " 'arr_hum',\n",
    " 'DAYS',\n",
    " 'DEPARTURE_HOUR',\n",
    " 'ARRIVAL_HOUR', 'ARRIVAL_DELAY']]"
   ]
  },
  {
   "cell_type": "code",
   "execution_count": 75,
   "metadata": {
    "collapsed": false
   },
   "outputs": [
    {
     "data": {
      "text/plain": [
       "['AIRLINE',\n",
       " 'dept_temp',\n",
       " 'dept_dew',\n",
       " 'dept_hum',\n",
       " 'dept_alti',\n",
       " 'dept_vsby',\n",
       " 'arr_hum',\n",
       " 'DAYS',\n",
       " 'DEPARTURE_HOUR',\n",
       " 'ARRIVAL_HOUR',\n",
       " 'ARRIVAL_DELAY']"
      ]
     },
     "execution_count": 75,
     "metadata": {},
     "output_type": "execute_result"
    }
   ],
   "source": [
    "list(df1)"
   ]
  },
  {
   "cell_type": "code",
   "execution_count": 76,
   "metadata": {
    "collapsed": false
   },
   "outputs": [
    {
     "data": {
      "text/html": [
       "<div>\n",
       "<table border=\"1\" class=\"dataframe\">\n",
       "  <thead>\n",
       "    <tr style=\"text-align: right;\">\n",
       "      <th></th>\n",
       "      <th>AIRLINE</th>\n",
       "      <th>dept_temp</th>\n",
       "      <th>dept_dew</th>\n",
       "      <th>dept_hum</th>\n",
       "      <th>dept_alti</th>\n",
       "      <th>dept_vsby</th>\n",
       "      <th>arr_hum</th>\n",
       "      <th>DAYS</th>\n",
       "      <th>DEPARTURE_HOUR</th>\n",
       "      <th>ARRIVAL_HOUR</th>\n",
       "      <th>ARRIVAL_DELAY</th>\n",
       "    </tr>\n",
       "  </thead>\n",
       "  <tbody>\n",
       "    <tr>\n",
       "      <th>0</th>\n",
       "      <td>1</td>\n",
       "      <td>33.80</td>\n",
       "      <td>30.20</td>\n",
       "      <td>86.49</td>\n",
       "      <td>30.18</td>\n",
       "      <td>1</td>\n",
       "      <td>74.70</td>\n",
       "      <td>0</td>\n",
       "      <td>9.1</td>\n",
       "      <td>13.5</td>\n",
       "      <td>-22</td>\n",
       "    </tr>\n",
       "    <tr>\n",
       "      <th>1</th>\n",
       "      <td>3</td>\n",
       "      <td>33.80</td>\n",
       "      <td>32.00</td>\n",
       "      <td>93.03</td>\n",
       "      <td>30.16</td>\n",
       "      <td>1</td>\n",
       "      <td>74.70</td>\n",
       "      <td>0</td>\n",
       "      <td>9.8</td>\n",
       "      <td>14.2</td>\n",
       "      <td>-24</td>\n",
       "    </tr>\n",
       "    <tr>\n",
       "      <th>2</th>\n",
       "      <td>0</td>\n",
       "      <td>46.04</td>\n",
       "      <td>19.94</td>\n",
       "      <td>35.05</td>\n",
       "      <td>30.06</td>\n",
       "      <td>10</td>\n",
       "      <td>81.85</td>\n",
       "      <td>0</td>\n",
       "      <td>8.2</td>\n",
       "      <td>15.8</td>\n",
       "      <td>-9</td>\n",
       "    </tr>\n",
       "    <tr>\n",
       "      <th>3</th>\n",
       "      <td>3</td>\n",
       "      <td>17.96</td>\n",
       "      <td>6.98</td>\n",
       "      <td>61.57</td>\n",
       "      <td>30.00</td>\n",
       "      <td>10</td>\n",
       "      <td>81.85</td>\n",
       "      <td>0</td>\n",
       "      <td>13.0</td>\n",
       "      <td>16.1</td>\n",
       "      <td>-8</td>\n",
       "    </tr>\n",
       "    <tr>\n",
       "      <th>4</th>\n",
       "      <td>0</td>\n",
       "      <td>28.04</td>\n",
       "      <td>6.08</td>\n",
       "      <td>38.69</td>\n",
       "      <td>30.17</td>\n",
       "      <td>10</td>\n",
       "      <td>81.85</td>\n",
       "      <td>0</td>\n",
       "      <td>12.5</td>\n",
       "      <td>15.5</td>\n",
       "      <td>-12</td>\n",
       "    </tr>\n",
       "  </tbody>\n",
       "</table>\n",
       "</div>"
      ],
      "text/plain": [
       "   AIRLINE  dept_temp  dept_dew  dept_hum  dept_alti  dept_vsby  arr_hum  \\\n",
       "0        1      33.80     30.20     86.49      30.18          1    74.70   \n",
       "1        3      33.80     32.00     93.03      30.16          1    74.70   \n",
       "2        0      46.04     19.94     35.05      30.06         10    81.85   \n",
       "3        3      17.96      6.98     61.57      30.00         10    81.85   \n",
       "4        0      28.04      6.08     38.69      30.17         10    81.85   \n",
       "\n",
       "   DAYS  DEPARTURE_HOUR  ARRIVAL_HOUR  ARRIVAL_DELAY  \n",
       "0     0             9.1          13.5            -22  \n",
       "1     0             9.8          14.2            -24  \n",
       "2     0             8.2          15.8             -9  \n",
       "3     0            13.0          16.1             -8  \n",
       "4     0            12.5          15.5            -12  "
      ]
     },
     "execution_count": 76,
     "metadata": {},
     "output_type": "execute_result"
    }
   ],
   "source": [
    "df1.head()"
   ]
  },
  {
   "cell_type": "code",
   "execution_count": 77,
   "metadata": {
    "collapsed": true
   },
   "outputs": [],
   "source": [
    "df1.to_csv(\"BigData_Pruned_Top10.csv\", index = False)"
   ]
  },
  {
   "cell_type": "code",
   "execution_count": null,
   "metadata": {
    "collapsed": true
   },
   "outputs": [],
   "source": []
  }
 ],
 "metadata": {
  "kernelspec": {
   "display_name": "Python 3",
   "language": "python",
   "name": "python3"
  },
  "language_info": {
   "codemirror_mode": {
    "name": "ipython",
    "version": 3
   },
   "file_extension": ".py",
   "mimetype": "text/x-python",
   "name": "python",
   "nbconvert_exporter": "python",
   "pygments_lexer": "ipython3",
   "version": "3.6.0"
  }
 },
 "nbformat": 4,
 "nbformat_minor": 2
}
