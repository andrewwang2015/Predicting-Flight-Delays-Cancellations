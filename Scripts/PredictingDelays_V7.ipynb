{
 "cells": [
  {
   "cell_type": "code",
   "execution_count": 1,
   "metadata": {
    "collapsed": true
   },
   "outputs": [],
   "source": [
    "import numpy as np # linear algebra\n",
    "import pandas as pd # data processing, CSV file I/O (e.g. pd.read_csv)\n",
    "import matplotlib.pyplot as plt\n",
    "import seaborn as sns\n",
    "import datetime\n",
    "import pytz\n",
    "from tzwhere import tzwhere\n",
    "%matplotlib inline"
   ]
  },
  {
   "cell_type": "code",
   "execution_count": 2,
   "metadata": {
    "collapsed": false
   },
   "outputs": [],
   "source": [
    "airlines = pd.read_csv('airlines.csv')\n",
    "airports = pd.read_csv('airports_v2.csv')\n",
    "flights = pd.read_csv('Flights_Modified_V6.csv', low_memory=False)"
   ]
  },
  {
   "cell_type": "code",
   "execution_count": 3,
   "metadata": {
    "collapsed": false
   },
   "outputs": [],
   "source": [
    "tzwhere = tzwhere.tzwhere()"
   ]
  },
  {
   "cell_type": "code",
   "execution_count": 4,
   "metadata": {
    "collapsed": false
   },
   "outputs": [
    {
     "data": {
      "text/plain": [
       "{'ABE': 'America/New_York',\n",
       " 'ABI': 'America/Chicago',\n",
       " 'ABQ': 'America/Denver',\n",
       " 'ABR': 'America/Chicago',\n",
       " 'ABY': 'America/New_York',\n",
       " 'ACK': 'America/New_York',\n",
       " 'ACT': 'America/Chicago',\n",
       " 'ACV': 'America/Los_Angeles',\n",
       " 'ACY': 'America/New_York',\n",
       " 'ADK': 'America/Adak',\n",
       " 'ADQ': 'America/Anchorage',\n",
       " 'AEX': 'America/Chicago',\n",
       " 'AGS': 'America/New_York',\n",
       " 'AKN': 'America/Anchorage',\n",
       " 'ALB': 'America/New_York',\n",
       " 'ALO': 'America/Chicago',\n",
       " 'AMA': 'America/Chicago',\n",
       " 'ANC': 'America/Anchorage',\n",
       " 'APN': 'America/Detroit',\n",
       " 'ASE': 'America/Denver',\n",
       " 'ATL': 'America/New_York',\n",
       " 'ATW': 'America/Chicago',\n",
       " 'AUS': 'America/Chicago',\n",
       " 'AVL': 'America/New_York',\n",
       " 'AVP': 'America/New_York',\n",
       " 'AZO': 'America/Detroit',\n",
       " 'BDL': 'America/New_York',\n",
       " 'BET': 'America/Anchorage',\n",
       " 'BFL': 'America/Los_Angeles',\n",
       " 'BGM': 'America/New_York',\n",
       " 'BGR': 'America/New_York',\n",
       " 'BHM': 'America/Chicago',\n",
       " 'BIL': 'America/Denver',\n",
       " 'BIS': 'America/Chicago',\n",
       " 'BJI': 'America/Chicago',\n",
       " 'BLI': 'America/Los_Angeles',\n",
       " 'BMI': 'America/Chicago',\n",
       " 'BNA': 'America/Chicago',\n",
       " 'BOI': 'America/Boise',\n",
       " 'BOS': 'America/New_York',\n",
       " 'BPT': 'America/Chicago',\n",
       " 'BQK': 'America/New_York',\n",
       " 'BQN': 'America/Puerto_Rico',\n",
       " 'BRD': 'America/Chicago',\n",
       " 'BRO': 'America/Chicago',\n",
       " 'BRW': 'America/Anchorage',\n",
       " 'BTM': 'America/Denver',\n",
       " 'BTR': 'America/Chicago',\n",
       " 'BTV': 'America/New_York',\n",
       " 'BUF': 'America/New_York',\n",
       " 'BUR': 'America/Los_Angeles',\n",
       " 'BWI': 'America/New_York',\n",
       " 'BZN': 'America/Denver',\n",
       " 'CAE': 'America/New_York',\n",
       " 'CAK': 'America/New_York',\n",
       " 'CDC': 'America/Denver',\n",
       " 'CDV': 'America/Anchorage',\n",
       " 'CEC': 'America/Los_Angeles',\n",
       " 'CHA': 'America/New_York',\n",
       " 'CHO': 'America/New_York',\n",
       " 'CHS': 'America/New_York',\n",
       " 'CID': 'America/Chicago',\n",
       " 'CIU': 'America/Detroit',\n",
       " 'CLD': 'America/Los_Angeles',\n",
       " 'CLE': 'America/New_York',\n",
       " 'CLL': 'America/Chicago',\n",
       " 'CLT': 'America/New_York',\n",
       " 'CMH': 'America/New_York',\n",
       " 'CMI': 'America/Chicago',\n",
       " 'CMX': 'America/Detroit',\n",
       " 'CNY': 'America/Denver',\n",
       " 'COD': 'America/Denver',\n",
       " 'COS': 'America/Denver',\n",
       " 'COU': 'America/Chicago',\n",
       " 'CPR': 'America/Denver',\n",
       " 'CRP': 'America/Chicago',\n",
       " 'CRW': 'America/New_York',\n",
       " 'CSG': 'America/New_York',\n",
       " 'CVG': 'America/New_York',\n",
       " 'CWA': 'America/Chicago',\n",
       " 'DAB': 'America/New_York',\n",
       " 'DAL': 'America/Chicago',\n",
       " 'DAY': 'America/New_York',\n",
       " 'DBQ': 'America/Chicago',\n",
       " 'DCA': 'America/New_York',\n",
       " 'DEN': 'America/Denver',\n",
       " 'DFW': 'America/Chicago',\n",
       " 'DHN': 'America/Chicago',\n",
       " 'DIK': 'America/Denver',\n",
       " 'DLG': 'America/Anchorage',\n",
       " 'DLH': 'America/Chicago',\n",
       " 'DRO': 'America/Denver',\n",
       " 'DSM': 'America/Chicago',\n",
       " 'DTW': 'America/Detroit',\n",
       " 'DVL': 'America/Chicago',\n",
       " 'EAU': 'America/Chicago',\n",
       " 'ECP': 'Asia/Urumqi',\n",
       " 'EGE': 'America/Denver',\n",
       " 'EKO': 'America/Los_Angeles',\n",
       " 'ELM': 'America/New_York',\n",
       " 'ELP': 'America/Denver',\n",
       " 'ERI': 'America/New_York',\n",
       " 'ESC': 'America/Detroit',\n",
       " 'EUG': 'America/Los_Angeles',\n",
       " 'EVV': 'America/Chicago',\n",
       " 'EWN': 'America/New_York',\n",
       " 'EWR': 'America/New_York',\n",
       " 'EYW': 'America/New_York',\n",
       " 'FAI': 'America/Anchorage',\n",
       " 'FAR': 'America/Chicago',\n",
       " 'FAT': 'America/Los_Angeles',\n",
       " 'FAY': 'America/New_York',\n",
       " 'FCA': 'America/Denver',\n",
       " 'FLG': 'America/Phoenix',\n",
       " 'FLL': 'America/New_York',\n",
       " 'FNT': 'America/Detroit',\n",
       " 'FSD': 'America/Chicago',\n",
       " 'FSM': 'America/Chicago',\n",
       " 'FWA': 'America/Indiana/Indianapolis',\n",
       " 'GCC': 'America/Denver',\n",
       " 'GCK': 'America/Chicago',\n",
       " 'GEG': 'America/Los_Angeles',\n",
       " 'GFK': 'America/Chicago',\n",
       " 'GGG': 'America/Chicago',\n",
       " 'GJT': 'America/Denver',\n",
       " 'GNV': 'America/New_York',\n",
       " 'GPT': 'America/Chicago',\n",
       " 'GRB': 'America/Chicago',\n",
       " 'GRI': 'America/Chicago',\n",
       " 'GRK': 'America/Chicago',\n",
       " 'GRR': 'America/Detroit',\n",
       " 'GSO': 'America/New_York',\n",
       " 'GSP': 'America/New_York',\n",
       " 'GST': 'America/Juneau',\n",
       " 'GTF': 'America/Denver',\n",
       " 'GTR': 'America/Chicago',\n",
       " 'GUC': 'America/Denver',\n",
       " 'GUM': 'Pacific/Guam',\n",
       " 'HDN': 'America/Denver',\n",
       " 'HIB': 'America/Chicago',\n",
       " 'HLN': 'America/Denver',\n",
       " 'HNL': 'Pacific/Honolulu',\n",
       " 'HOB': 'America/Denver',\n",
       " 'HOU': 'America/Chicago',\n",
       " 'HPN': 'America/New_York',\n",
       " 'HRL': 'America/Chicago',\n",
       " 'HSV': 'America/Chicago',\n",
       " 'HYA': 'America/New_York',\n",
       " 'HYS': 'America/Chicago',\n",
       " 'IAD': 'America/New_York',\n",
       " 'IAG': 'America/New_York',\n",
       " 'IAH': 'America/Chicago',\n",
       " 'ICT': 'America/Chicago',\n",
       " 'IDA': 'America/Boise',\n",
       " 'ILG': 'America/New_York',\n",
       " 'ILM': 'America/New_York',\n",
       " 'IMT': 'America/Menominee',\n",
       " 'IND': 'America/Indiana/Indianapolis',\n",
       " 'INL': 'America/Chicago',\n",
       " 'ISN': 'America/Chicago',\n",
       " 'ISP': 'America/New_York',\n",
       " 'ITH': 'America/New_York',\n",
       " 'ITO': 'Pacific/Honolulu',\n",
       " 'JAC': 'America/Denver',\n",
       " 'JAN': 'America/Chicago',\n",
       " 'JAX': 'America/New_York',\n",
       " 'JFK': 'America/New_York',\n",
       " 'JLN': 'America/Chicago',\n",
       " 'JMS': 'America/Chicago',\n",
       " 'JNU': 'America/Juneau',\n",
       " 'KOA': 'Pacific/Honolulu',\n",
       " 'KTN': 'America/Juneau',\n",
       " 'LAN': 'America/Detroit',\n",
       " 'LAR': 'America/Denver',\n",
       " 'LAS': 'America/Los_Angeles',\n",
       " 'LAW': 'America/Chicago',\n",
       " 'LAX': 'America/Los_Angeles',\n",
       " 'LBB': 'America/Chicago',\n",
       " 'LBE': 'America/New_York',\n",
       " 'LCH': 'America/Chicago',\n",
       " 'LEX': 'America/New_York',\n",
       " 'LFT': 'America/Chicago',\n",
       " 'LGA': 'America/New_York',\n",
       " 'LGB': 'America/Los_Angeles',\n",
       " 'LIH': 'Pacific/Honolulu',\n",
       " 'LIT': 'America/Chicago',\n",
       " 'LNK': 'America/Chicago',\n",
       " 'LRD': 'America/Chicago',\n",
       " 'LSE': 'America/Chicago',\n",
       " 'LWS': 'America/Los_Angeles',\n",
       " 'MAF': 'America/Chicago',\n",
       " 'MBS': 'America/Detroit',\n",
       " 'MCI': 'America/Chicago',\n",
       " 'MCO': 'America/New_York',\n",
       " 'MDT': 'America/New_York',\n",
       " 'MDW': 'America/Chicago',\n",
       " 'MEI': 'America/Chicago',\n",
       " 'MEM': 'America/Chicago',\n",
       " 'MFE': 'America/Chicago',\n",
       " 'MFR': 'America/Los_Angeles',\n",
       " 'MGM': 'America/Chicago',\n",
       " 'MHK': 'America/Chicago',\n",
       " 'MHT': 'America/New_York',\n",
       " 'MIA': 'America/New_York',\n",
       " 'MKE': 'America/Chicago',\n",
       " 'MKG': 'America/Detroit',\n",
       " 'MLB': 'America/New_York',\n",
       " 'MLI': 'America/Chicago',\n",
       " 'MLU': 'America/Chicago',\n",
       " 'MMH': 'America/Los_Angeles',\n",
       " 'MOB': 'America/Chicago',\n",
       " 'MOT': 'America/Chicago',\n",
       " 'MQT': 'America/Detroit',\n",
       " 'MRY': 'America/Los_Angeles',\n",
       " 'MSN': 'America/Chicago',\n",
       " 'MSO': 'America/Denver',\n",
       " 'MSP': 'America/Chicago',\n",
       " 'MSY': 'America/Chicago',\n",
       " 'MTJ': 'America/Denver',\n",
       " 'MVY': 'America/New_York',\n",
       " 'MYR': 'America/New_York',\n",
       " 'OAJ': 'America/New_York',\n",
       " 'OAK': 'America/Los_Angeles',\n",
       " 'OGG': 'Pacific/Honolulu',\n",
       " 'OKC': 'America/Chicago',\n",
       " 'OMA': 'America/Chicago',\n",
       " 'OME': 'America/Nome',\n",
       " 'ONT': 'America/Los_Angeles',\n",
       " 'ORD': 'America/Chicago',\n",
       " 'ORF': 'America/New_York',\n",
       " 'ORH': 'America/New_York',\n",
       " 'OTH': 'America/Los_Angeles',\n",
       " 'OTZ': 'America/Nome',\n",
       " 'PAH': 'America/Chicago',\n",
       " 'PBG': 'Asia/Almaty',\n",
       " 'PBI': 'America/New_York',\n",
       " 'PDX': 'America/Los_Angeles',\n",
       " 'PHF': 'America/New_York',\n",
       " 'PHL': 'America/New_York',\n",
       " 'PHX': 'America/Phoenix',\n",
       " 'PIA': 'America/Chicago',\n",
       " 'PIB': 'America/Chicago',\n",
       " 'PIH': 'America/Boise',\n",
       " 'PIT': 'America/New_York',\n",
       " 'PLN': 'America/Detroit',\n",
       " 'PNS': 'America/Chicago',\n",
       " 'PPG': 'Pacific/Pago_Pago',\n",
       " 'PSC': 'America/Los_Angeles',\n",
       " 'PSE': 'America/Puerto_Rico',\n",
       " 'PSG': 'America/Sitka',\n",
       " 'PSP': 'America/Los_Angeles',\n",
       " 'PUB': 'America/Denver',\n",
       " 'PVD': 'America/New_York',\n",
       " 'PWM': 'America/New_York',\n",
       " 'RAP': 'America/Denver',\n",
       " 'RDD': 'America/Los_Angeles',\n",
       " 'RDM': 'America/Los_Angeles',\n",
       " 'RDU': 'America/New_York',\n",
       " 'RHI': 'America/Chicago',\n",
       " 'RIC': 'America/New_York',\n",
       " 'RKS': 'America/Denver',\n",
       " 'RNO': 'America/Los_Angeles',\n",
       " 'ROA': 'America/New_York',\n",
       " 'ROC': 'America/New_York',\n",
       " 'ROW': 'America/Denver',\n",
       " 'RST': 'America/Chicago',\n",
       " 'RSW': 'America/New_York',\n",
       " 'SAF': 'America/Denver',\n",
       " 'SAN': 'America/Los_Angeles',\n",
       " 'SAT': 'America/Chicago',\n",
       " 'SAV': 'America/New_York',\n",
       " 'SBA': 'America/Los_Angeles',\n",
       " 'SBN': 'America/Indiana/Indianapolis',\n",
       " 'SBP': 'America/Los_Angeles',\n",
       " 'SCC': 'America/Anchorage',\n",
       " 'SCE': 'America/New_York',\n",
       " 'SDF': 'America/New_York',\n",
       " 'SEA': 'America/Los_Angeles',\n",
       " 'SFO': 'America/Los_Angeles',\n",
       " 'SGF': 'America/Chicago',\n",
       " 'SGU': 'America/Denver',\n",
       " 'SHV': 'America/Chicago',\n",
       " 'SIT': 'America/Sitka',\n",
       " 'SJC': 'America/Los_Angeles',\n",
       " 'SJT': 'America/Chicago',\n",
       " 'SJU': 'America/Puerto_Rico',\n",
       " 'SLC': 'America/Denver',\n",
       " 'SMF': 'America/Los_Angeles',\n",
       " 'SMX': 'America/Los_Angeles',\n",
       " 'SNA': 'America/Los_Angeles',\n",
       " 'SPI': 'America/Chicago',\n",
       " 'SPS': 'America/Chicago',\n",
       " 'SRQ': 'America/New_York',\n",
       " 'STC': 'America/Chicago',\n",
       " 'STL': 'America/Chicago',\n",
       " 'STT': 'America/St_Thomas',\n",
       " 'STX': 'America/St_Thomas',\n",
       " 'SUN': 'America/Boise',\n",
       " 'SUX': 'America/Chicago',\n",
       " 'SWF': 'America/New_York',\n",
       " 'SYR': 'America/New_York',\n",
       " 'TLH': 'America/New_York',\n",
       " 'TOL': 'America/New_York',\n",
       " 'TPA': 'America/New_York',\n",
       " 'TRI': 'America/New_York',\n",
       " 'TTN': 'America/New_York',\n",
       " 'TUL': 'America/Chicago',\n",
       " 'TUS': 'America/Phoenix',\n",
       " 'TVC': 'America/Detroit',\n",
       " 'TWF': 'America/Boise',\n",
       " 'TXK': 'America/Chicago',\n",
       " 'TYR': 'America/Chicago',\n",
       " 'TYS': 'America/New_York',\n",
       " 'UST': 'America/New_York',\n",
       " 'VEL': 'America/Denver',\n",
       " 'VLD': 'America/New_York',\n",
       " 'VPS': 'America/Chicago',\n",
       " 'WRG': 'America/Sitka',\n",
       " 'WYS': 'America/Denver',\n",
       " 'XNA': 'America/Chicago',\n",
       " 'YAK': 'America/Yakutat',\n",
       " 'YUM': 'America/Phoenix'}"
      ]
     },
     "execution_count": 4,
     "metadata": {},
     "output_type": "execute_result"
    }
   ],
   "source": [
    "airportTimezoneMapping = dict()\n",
    "for index in range(len(airports)):\n",
    "    airportTimezoneMapping[airports[\"IATA_CODE\"][index]] = airports[\"Timezone\"][index]\n",
    "airportTimezoneMapping\n",
    "\n",
    "    "
   ]
  },
  {
   "cell_type": "code",
   "execution_count": 5,
   "metadata": {
    "collapsed": false
   },
   "outputs": [
    {
     "data": {
      "text/html": [
       "<div>\n",
       "<table border=\"1\" class=\"dataframe\">\n",
       "  <thead>\n",
       "    <tr style=\"text-align: right;\">\n",
       "      <th></th>\n",
       "      <th>MONTH_NAME</th>\n",
       "      <th>DOW_NAME</th>\n",
       "      <th>AIRLINE_NAME</th>\n",
       "      <th>AIRLINE</th>\n",
       "      <th>ORIGIN_AIRPORT</th>\n",
       "      <th>DESTINATION_AIRPORT</th>\n",
       "      <th>DEPARTURE_SCHEDULED</th>\n",
       "      <th>DISTANCE</th>\n",
       "      <th>ARRIVAL_SCHEDULED</th>\n",
       "      <th>ARRIVAL_DELAY</th>\n",
       "      <th>DIVERTED</th>\n",
       "      <th>CANCELLED</th>\n",
       "    </tr>\n",
       "  </thead>\n",
       "  <tbody>\n",
       "    <tr>\n",
       "      <th>0</th>\n",
       "      <td>01- January</td>\n",
       "      <td>Thursday</td>\n",
       "      <td>Alaska Airlines Inc.</td>\n",
       "      <td>AS</td>\n",
       "      <td>ANC</td>\n",
       "      <td>SEA</td>\n",
       "      <td>2015-01-01 09:05:00</td>\n",
       "      <td>1448</td>\n",
       "      <td>2015-01-01 13:30:00</td>\n",
       "      <td>-22.0</td>\n",
       "      <td>0</td>\n",
       "      <td>0</td>\n",
       "    </tr>\n",
       "    <tr>\n",
       "      <th>1</th>\n",
       "      <td>01- January</td>\n",
       "      <td>Thursday</td>\n",
       "      <td>American Airlines Inc.</td>\n",
       "      <td>AA</td>\n",
       "      <td>LAX</td>\n",
       "      <td>PBI</td>\n",
       "      <td>2015-01-01 08:10:00</td>\n",
       "      <td>2330</td>\n",
       "      <td>2015-01-01 15:50:00</td>\n",
       "      <td>-9.0</td>\n",
       "      <td>0</td>\n",
       "      <td>0</td>\n",
       "    </tr>\n",
       "    <tr>\n",
       "      <th>2</th>\n",
       "      <td>01- January</td>\n",
       "      <td>Thursday</td>\n",
       "      <td>US Airways Inc.</td>\n",
       "      <td>US</td>\n",
       "      <td>SFO</td>\n",
       "      <td>CLT</td>\n",
       "      <td>2015-01-01 08:20:00</td>\n",
       "      <td>2296</td>\n",
       "      <td>2015-01-01 16:06:00</td>\n",
       "      <td>5.0</td>\n",
       "      <td>0</td>\n",
       "      <td>0</td>\n",
       "    </tr>\n",
       "    <tr>\n",
       "      <th>3</th>\n",
       "      <td>01- January</td>\n",
       "      <td>Thursday</td>\n",
       "      <td>American Airlines Inc.</td>\n",
       "      <td>AA</td>\n",
       "      <td>LAX</td>\n",
       "      <td>MIA</td>\n",
       "      <td>2015-01-01 08:20:00</td>\n",
       "      <td>2342</td>\n",
       "      <td>2015-01-01 16:05:00</td>\n",
       "      <td>-9.0</td>\n",
       "      <td>0</td>\n",
       "      <td>0</td>\n",
       "    </tr>\n",
       "    <tr>\n",
       "      <th>4</th>\n",
       "      <td>01- January</td>\n",
       "      <td>Thursday</td>\n",
       "      <td>Alaska Airlines Inc.</td>\n",
       "      <td>AS</td>\n",
       "      <td>SEA</td>\n",
       "      <td>ANC</td>\n",
       "      <td>2015-01-01 08:25:00</td>\n",
       "      <td>1448</td>\n",
       "      <td>2015-01-01 11:20:00</td>\n",
       "      <td>-21.0</td>\n",
       "      <td>0</td>\n",
       "      <td>0</td>\n",
       "    </tr>\n",
       "  </tbody>\n",
       "</table>\n",
       "</div>"
      ],
      "text/plain": [
       "    MONTH_NAME  DOW_NAME            AIRLINE_NAME AIRLINE ORIGIN_AIRPORT  \\\n",
       "0  01- January  Thursday    Alaska Airlines Inc.      AS            ANC   \n",
       "1  01- January  Thursday  American Airlines Inc.      AA            LAX   \n",
       "2  01- January  Thursday         US Airways Inc.      US            SFO   \n",
       "3  01- January  Thursday  American Airlines Inc.      AA            LAX   \n",
       "4  01- January  Thursday    Alaska Airlines Inc.      AS            SEA   \n",
       "\n",
       "  DESTINATION_AIRPORT  DEPARTURE_SCHEDULED  DISTANCE    ARRIVAL_SCHEDULED  \\\n",
       "0                 SEA  2015-01-01 09:05:00      1448  2015-01-01 13:30:00   \n",
       "1                 PBI  2015-01-01 08:10:00      2330  2015-01-01 15:50:00   \n",
       "2                 CLT  2015-01-01 08:20:00      2296  2015-01-01 16:06:00   \n",
       "3                 MIA  2015-01-01 08:20:00      2342  2015-01-01 16:05:00   \n",
       "4                 ANC  2015-01-01 08:25:00      1448  2015-01-01 11:20:00   \n",
       "\n",
       "   ARRIVAL_DELAY  DIVERTED  CANCELLED  \n",
       "0          -22.0         0          0  \n",
       "1           -9.0         0          0  \n",
       "2            5.0         0          0  \n",
       "3           -9.0         0          0  \n",
       "4          -21.0         0          0  "
      ]
     },
     "execution_count": 5,
     "metadata": {},
     "output_type": "execute_result"
    }
   ],
   "source": [
    "flights.head()"
   ]
  },
  {
   "cell_type": "code",
   "execution_count": 6,
   "metadata": {
    "collapsed": true
   },
   "outputs": [],
   "source": [
    "flights['DEPARTURE_SCHEDULED'] = pd.to_datetime(flights['DEPARTURE_SCHEDULED'])\n",
    "flights['ARRIVAL_SCHEDULED'] = pd.to_datetime(flights['ARRIVAL_SCHEDULED'])"
   ]
  },
  {
   "cell_type": "code",
   "execution_count": 7,
   "metadata": {
    "collapsed": false
   },
   "outputs": [
    {
     "name": "stdout",
     "output_type": "stream",
     "text": [
      "0\n",
      "500000\n"
     ]
    },
    {
     "ename": "KeyboardInterrupt",
     "evalue": "",
     "output_type": "error",
     "traceback": [
      "\u001b[1;31m\u001b[0m",
      "\u001b[1;31mKeyboardInterrupt\u001b[0mTraceback (most recent call last)",
      "\u001b[1;32m<ipython-input-7-c0f5a5887095>\u001b[0m in \u001b[0;36m<module>\u001b[1;34m()\u001b[0m\n\u001b[0;32m      4\u001b[0m     \u001b[1;32mif\u001b[0m \u001b[1;33m(\u001b[0m\u001b[0mi\u001b[0m \u001b[1;33m%\u001b[0m \u001b[1;36m500000\u001b[0m \u001b[1;33m==\u001b[0m \u001b[1;36m0\u001b[0m\u001b[1;33m)\u001b[0m\u001b[1;33m:\u001b[0m\u001b[1;33m\u001b[0m\u001b[0m\n\u001b[0;32m      5\u001b[0m         \u001b[0mprint\u001b[0m\u001b[1;33m(\u001b[0m\u001b[0mi\u001b[0m\u001b[1;33m)\u001b[0m\u001b[1;33m\u001b[0m\u001b[0m\n\u001b[1;32m----> 6\u001b[1;33m     \u001b[0moriginAirport\u001b[0m \u001b[1;33m=\u001b[0m \u001b[0mflights\u001b[0m\u001b[1;33m[\u001b[0m\u001b[1;34m\"ORIGIN_AIRPORT\"\u001b[0m\u001b[1;33m]\u001b[0m\u001b[1;33m[\u001b[0m\u001b[0mi\u001b[0m\u001b[1;33m]\u001b[0m\u001b[1;33m\u001b[0m\u001b[0m\n\u001b[0m\u001b[0;32m      7\u001b[0m     \u001b[0mdestinationAirport\u001b[0m \u001b[1;33m=\u001b[0m \u001b[0mflights\u001b[0m\u001b[1;33m[\u001b[0m\u001b[1;34m\"DESTINATION_AIRPORT\"\u001b[0m\u001b[1;33m]\u001b[0m\u001b[1;33m[\u001b[0m\u001b[0mi\u001b[0m\u001b[1;33m]\u001b[0m\u001b[1;33m\u001b[0m\u001b[0m\n\u001b[0;32m      8\u001b[0m     \u001b[0mtimezone\u001b[0m \u001b[1;33m=\u001b[0m \u001b[0mpytz\u001b[0m\u001b[1;33m.\u001b[0m\u001b[0mtimezone\u001b[0m\u001b[1;33m(\u001b[0m\u001b[0mairportTimezoneMapping\u001b[0m\u001b[1;33m[\u001b[0m\u001b[0moriginAirport\u001b[0m\u001b[1;33m]\u001b[0m\u001b[1;33m)\u001b[0m\u001b[1;33m\u001b[0m\u001b[0m\n",
      "\u001b[1;32mC:\\Users\\andre_000\\Anaconda3\\lib\\site-packages\\pandas\\core\\series.py\u001b[0m in \u001b[0;36m__getitem__\u001b[1;34m(self, key)\u001b[0m\n\u001b[0;32m    581\u001b[0m         \u001b[0mkey\u001b[0m \u001b[1;33m=\u001b[0m \u001b[0mcom\u001b[0m\u001b[1;33m.\u001b[0m\u001b[0m_apply_if_callable\u001b[0m\u001b[1;33m(\u001b[0m\u001b[0mkey\u001b[0m\u001b[1;33m,\u001b[0m \u001b[0mself\u001b[0m\u001b[1;33m)\u001b[0m\u001b[1;33m\u001b[0m\u001b[0m\n\u001b[0;32m    582\u001b[0m         \u001b[1;32mtry\u001b[0m\u001b[1;33m:\u001b[0m\u001b[1;33m\u001b[0m\u001b[0m\n\u001b[1;32m--> 583\u001b[1;33m             \u001b[0mresult\u001b[0m \u001b[1;33m=\u001b[0m \u001b[0mself\u001b[0m\u001b[1;33m.\u001b[0m\u001b[0mindex\u001b[0m\u001b[1;33m.\u001b[0m\u001b[0mget_value\u001b[0m\u001b[1;33m(\u001b[0m\u001b[0mself\u001b[0m\u001b[1;33m,\u001b[0m \u001b[0mkey\u001b[0m\u001b[1;33m)\u001b[0m\u001b[1;33m\u001b[0m\u001b[0m\n\u001b[0m\u001b[0;32m    584\u001b[0m \u001b[1;33m\u001b[0m\u001b[0m\n\u001b[0;32m    585\u001b[0m             \u001b[1;32mif\u001b[0m \u001b[1;32mnot\u001b[0m \u001b[0mlib\u001b[0m\u001b[1;33m.\u001b[0m\u001b[0misscalar\u001b[0m\u001b[1;33m(\u001b[0m\u001b[0mresult\u001b[0m\u001b[1;33m)\u001b[0m\u001b[1;33m:\u001b[0m\u001b[1;33m\u001b[0m\u001b[0m\n",
      "\u001b[1;32mC:\\Users\\andre_000\\Anaconda3\\lib\\site-packages\\pandas\\indexes\\base.py\u001b[0m in \u001b[0;36mget_value\u001b[1;34m(self, series, key)\u001b[0m\n\u001b[0;32m   1972\u001b[0m                 \u001b[1;32mpass\u001b[0m\u001b[1;33m\u001b[0m\u001b[0m\n\u001b[0;32m   1973\u001b[0m \u001b[1;33m\u001b[0m\u001b[0m\n\u001b[1;32m-> 1974\u001b[1;33m         \u001b[0ms\u001b[0m \u001b[1;33m=\u001b[0m \u001b[0m_values_from_object\u001b[0m\u001b[1;33m(\u001b[0m\u001b[0mseries\u001b[0m\u001b[1;33m)\u001b[0m\u001b[1;33m\u001b[0m\u001b[0m\n\u001b[0m\u001b[0;32m   1975\u001b[0m         \u001b[0mk\u001b[0m \u001b[1;33m=\u001b[0m \u001b[0m_values_from_object\u001b[0m\u001b[1;33m(\u001b[0m\u001b[0mkey\u001b[0m\u001b[1;33m)\u001b[0m\u001b[1;33m\u001b[0m\u001b[0m\n\u001b[0;32m   1976\u001b[0m \u001b[1;33m\u001b[0m\u001b[0m\n",
      "\u001b[1;32mpandas\\lib.pyx\u001b[0m in \u001b[0;36mpandas.lib.values_from_object (pandas\\lib.c:4435)\u001b[1;34m()\u001b[0m\n",
      "\u001b[1;32mC:\\Users\\andre_000\\Anaconda3\\lib\\site-packages\\pandas\\core\\series.py\u001b[0m in \u001b[0;36mget_values\u001b[1;34m(self)\u001b[0m\n\u001b[0;32m    371\u001b[0m     \u001b[1;32mdef\u001b[0m \u001b[0mget_values\u001b[0m\u001b[1;33m(\u001b[0m\u001b[0mself\u001b[0m\u001b[1;33m)\u001b[0m\u001b[1;33m:\u001b[0m\u001b[1;33m\u001b[0m\u001b[0m\n\u001b[0;32m    372\u001b[0m         \u001b[1;34m\"\"\" same as values (but handles sparseness conversions); is a view \"\"\"\u001b[0m\u001b[1;33m\u001b[0m\u001b[0m\n\u001b[1;32m--> 373\u001b[1;33m         \u001b[1;32mreturn\u001b[0m \u001b[0mself\u001b[0m\u001b[1;33m.\u001b[0m\u001b[0m_data\u001b[0m\u001b[1;33m.\u001b[0m\u001b[0mget_values\u001b[0m\u001b[1;33m(\u001b[0m\u001b[1;33m)\u001b[0m\u001b[1;33m\u001b[0m\u001b[0m\n\u001b[0m\u001b[0;32m    374\u001b[0m \u001b[1;33m\u001b[0m\u001b[0m\n\u001b[0;32m    375\u001b[0m     \u001b[1;33m@\u001b[0m\u001b[0mproperty\u001b[0m\u001b[1;33m\u001b[0m\u001b[0m\n",
      "\u001b[1;32mC:\\Users\\andre_000\\Anaconda3\\lib\\site-packages\\pandas\\core\\internals.py\u001b[0m in \u001b[0;36mget_values\u001b[1;34m(self)\u001b[0m\n\u001b[0;32m   3914\u001b[0m     \u001b[1;32mdef\u001b[0m \u001b[0mget_values\u001b[0m\u001b[1;33m(\u001b[0m\u001b[0mself\u001b[0m\u001b[1;33m)\u001b[0m\u001b[1;33m:\u001b[0m\u001b[1;33m\u001b[0m\u001b[0m\n\u001b[0;32m   3915\u001b[0m         \u001b[1;34m\"\"\" return a dense type view \"\"\"\u001b[0m\u001b[1;33m\u001b[0m\u001b[0m\n\u001b[1;32m-> 3916\u001b[1;33m         \u001b[1;32mreturn\u001b[0m \u001b[0mnp\u001b[0m\u001b[1;33m.\u001b[0m\u001b[0marray\u001b[0m\u001b[1;33m(\u001b[0m\u001b[0mself\u001b[0m\u001b[1;33m.\u001b[0m\u001b[0m_block\u001b[0m\u001b[1;33m.\u001b[0m\u001b[0mto_dense\u001b[0m\u001b[1;33m(\u001b[0m\u001b[1;33m)\u001b[0m\u001b[1;33m,\u001b[0m \u001b[0mcopy\u001b[0m\u001b[1;33m=\u001b[0m\u001b[1;32mFalse\u001b[0m\u001b[1;33m)\u001b[0m\u001b[1;33m\u001b[0m\u001b[0m\n\u001b[0m\u001b[0;32m   3917\u001b[0m \u001b[1;33m\u001b[0m\u001b[0m\n\u001b[0;32m   3918\u001b[0m     \u001b[1;33m@\u001b[0m\u001b[0mproperty\u001b[0m\u001b[1;33m\u001b[0m\u001b[0m\n",
      "\u001b[1;32mC:\\Users\\andre_000\\Anaconda3\\lib\\site-packages\\pandas\\core\\internals.py\u001b[0m in \u001b[0;36m_block\u001b[1;34m(self)\u001b[0m\n\u001b[0;32m   3822\u001b[0m         \u001b[1;32mpass\u001b[0m\u001b[1;33m\u001b[0m\u001b[0m\n\u001b[0;32m   3823\u001b[0m \u001b[1;33m\u001b[0m\u001b[0m\n\u001b[1;32m-> 3824\u001b[1;33m     \u001b[1;33m@\u001b[0m\u001b[0mproperty\u001b[0m\u001b[1;33m\u001b[0m\u001b[0m\n\u001b[0m\u001b[0;32m   3825\u001b[0m     \u001b[1;32mdef\u001b[0m \u001b[0m_block\u001b[0m\u001b[1;33m(\u001b[0m\u001b[0mself\u001b[0m\u001b[1;33m)\u001b[0m\u001b[1;33m:\u001b[0m\u001b[1;33m\u001b[0m\u001b[0m\n\u001b[0;32m   3826\u001b[0m         \u001b[1;32mreturn\u001b[0m \u001b[0mself\u001b[0m\u001b[1;33m.\u001b[0m\u001b[0mblocks\u001b[0m\u001b[1;33m[\u001b[0m\u001b[1;36m0\u001b[0m\u001b[1;33m]\u001b[0m\u001b[1;33m\u001b[0m\u001b[0m\n",
      "\u001b[1;31mKeyboardInterrupt\u001b[0m: "
     ]
    }
   ],
   "source": [
    "departureUTC = []\n",
    "arrivalUTC = []\n",
    "for i in range(len(flights)): \n",
    "    if (i % 500000 == 0):\n",
    "        print(i)\n",
    "    originAirport = flights[\"ORIGIN_AIRPORT\"][i]\n",
    "    destinationAirport = flights[\"DESTINATION_AIRPORT\"][i]\n",
    "    timezone = pytz.timezone(airportTimezoneMapping[originAirport])\n",
    "    dtOrigin = flights[\"DEPARTURE_SCHEDULED\"][i]\n",
    "    currentOrigin = timezone.localize(dtOrigin)\n",
    "    departureUTC.append(str(currentOrigin.astimezone(pytz.utc))[:-6])\n",
    "    \n",
    "    timezoneD = pytz.timezone(airportTimezoneMapping[destinationAirport])\n",
    "    dtD = flights[\"ARRIVAL_SCHEDULED\"][i]\n",
    "    currentD = timezone.localize(dtD)\n",
    "    arrivalUTC.append(str(currentD.astimezone(pytz.utc))[:-6])\n",
    "    \n",
    "\n",
    "    \n",
    "    "
   ]
  },
  {
   "cell_type": "code",
   "execution_count": 9,
   "metadata": {
    "collapsed": true
   },
   "outputs": [],
   "source": [
    "flights['DEPARTURE_SCHEDULED'] = departureUTC\n",
    "flights['ARRIVAL_SCHEDULED'] = arrivalUTC"
   ]
  },
  {
   "cell_type": "code",
   "execution_count": 15,
   "metadata": {
    "collapsed": false
   },
   "outputs": [],
   "source": [
    "flights.to_csv(\"Flights_Modified_V5.csv\", index = False)"
   ]
  },
  {
   "cell_type": "code",
   "execution_count": 16,
   "metadata": {
    "collapsed": true
   },
   "outputs": [],
   "source": [
    "flights['DEPARTURE_SCHEDULED'] = pd.to_datetime(flights['DEPARTURE_SCHEDULED'])\n",
    "flights['ARRIVAL_SCHEDULED'] = pd.to_datetime(flights['ARRIVAL_SCHEDULED'])"
   ]
  },
  {
   "cell_type": "code",
   "execution_count": 8,
   "metadata": {
    "collapsed": false
   },
   "outputs": [
    {
     "name": "stdout",
     "output_type": "stream",
     "text": [
      "0\n"
     ]
    },
    {
     "name": "stderr",
     "output_type": "stream",
     "text": [
      "C:\\Users\\andre_000\\Anaconda3\\lib\\site-packages\\ipykernel\\__main__.py:6: SettingWithCopyWarning: \n",
      "A value is trying to be set on a copy of a slice from a DataFrame\n",
      "\n",
      "See the caveats in the documentation: http://pandas.pydata.org/pandas-docs/stable/indexing.html#indexing-view-versus-copy\n"
     ]
    },
    {
     "name": "stdout",
     "output_type": "stream",
     "text": [
      "500000\n",
      "1000000\n",
      "1500000\n",
      "2000000\n",
      "2500000\n",
      "3000000\n",
      "3500000\n",
      "4000000\n",
      "4500000\n",
      "5000000\n",
      "5500000\n"
     ]
    }
   ],
   "source": [
    "count = 0\n",
    "for i in range(len(flights)):\n",
    "    if (i % 500000 == 0):\n",
    "        print(i)\n",
    "    if flights['ARRIVAL_SCHEDULED'][i] <= flights['DEPARTURE_SCHEDULED'][i]:\n",
    "        flights['ARRIVAL_SCHEDULED'][i] = flights['ARRIVAL_SCHEDULED'][i] + datetime.timedelta(days=1)\n",
    "        count += 1"
   ]
  },
  {
   "cell_type": "code",
   "execution_count": 9,
   "metadata": {
    "collapsed": false
   },
   "outputs": [
    {
     "data": {
      "text/plain": [
       "185737"
      ]
     },
     "execution_count": 9,
     "metadata": {},
     "output_type": "execute_result"
    }
   ],
   "source": [
    "count"
   ]
  },
  {
   "cell_type": "code",
   "execution_count": 10,
   "metadata": {
    "collapsed": true
   },
   "outputs": [],
   "source": [
    "flights.to_csv(\"Flights_Modified_V6.csv\", index = False)"
   ]
  },
  {
   "cell_type": "code",
   "execution_count": 33,
   "metadata": {
    "collapsed": false
   },
   "outputs": [
    {
     "data": {
      "text/html": [
       "<div>\n",
       "<table border=\"1\" class=\"dataframe\">\n",
       "  <thead>\n",
       "    <tr style=\"text-align: right;\">\n",
       "      <th></th>\n",
       "      <th>MONTH_NAME</th>\n",
       "      <th>DOW_NAME</th>\n",
       "      <th>AIRLINE_NAME</th>\n",
       "      <th>AIRLINE</th>\n",
       "      <th>ORIGIN_AIRPORT</th>\n",
       "      <th>DESTINATION_AIRPORT</th>\n",
       "      <th>DEPARTURE_SCHEDULED</th>\n",
       "      <th>DISTANCE</th>\n",
       "      <th>ARRIVAL_SCHEDULED</th>\n",
       "      <th>ARRIVAL_DELAY</th>\n",
       "      <th>DIVERTED</th>\n",
       "      <th>CANCELLED</th>\n",
       "    </tr>\n",
       "  </thead>\n",
       "  <tbody>\n",
       "    <tr>\n",
       "      <th>0</th>\n",
       "      <td>01- January</td>\n",
       "      <td>Thursday</td>\n",
       "      <td>Alaska Airlines Inc.</td>\n",
       "      <td>AS</td>\n",
       "      <td>ANC</td>\n",
       "      <td>SEA</td>\n",
       "      <td>2015-01-01 08:10:00</td>\n",
       "      <td>1448</td>\n",
       "      <td>2015-01-01 13:30:00</td>\n",
       "      <td>-22.0</td>\n",
       "      <td>0</td>\n",
       "      <td>0</td>\n",
       "    </tr>\n",
       "    <tr>\n",
       "      <th>1</th>\n",
       "      <td>01- January</td>\n",
       "      <td>Thursday</td>\n",
       "      <td>American Airlines Inc.</td>\n",
       "      <td>AA</td>\n",
       "      <td>LAX</td>\n",
       "      <td>PBI</td>\n",
       "      <td>2015-01-01 08:10:00</td>\n",
       "      <td>2330</td>\n",
       "      <td>2015-01-01 15:50:00</td>\n",
       "      <td>-9.0</td>\n",
       "      <td>0</td>\n",
       "      <td>0</td>\n",
       "    </tr>\n",
       "    <tr>\n",
       "      <th>2</th>\n",
       "      <td>01- January</td>\n",
       "      <td>Thursday</td>\n",
       "      <td>US Airways Inc.</td>\n",
       "      <td>US</td>\n",
       "      <td>SFO</td>\n",
       "      <td>CLT</td>\n",
       "      <td>2015-01-01 08:10:00</td>\n",
       "      <td>2296</td>\n",
       "      <td>2015-01-01 16:06:00</td>\n",
       "      <td>5.0</td>\n",
       "      <td>0</td>\n",
       "      <td>0</td>\n",
       "    </tr>\n",
       "    <tr>\n",
       "      <th>3</th>\n",
       "      <td>01- January</td>\n",
       "      <td>Thursday</td>\n",
       "      <td>American Airlines Inc.</td>\n",
       "      <td>AA</td>\n",
       "      <td>LAX</td>\n",
       "      <td>MIA</td>\n",
       "      <td>2015-01-01 08:10:00</td>\n",
       "      <td>2342</td>\n",
       "      <td>2015-01-01 16:05:00</td>\n",
       "      <td>-9.0</td>\n",
       "      <td>0</td>\n",
       "      <td>0</td>\n",
       "    </tr>\n",
       "    <tr>\n",
       "      <th>4</th>\n",
       "      <td>01- January</td>\n",
       "      <td>Thursday</td>\n",
       "      <td>Alaska Airlines Inc.</td>\n",
       "      <td>AS</td>\n",
       "      <td>SEA</td>\n",
       "      <td>ANC</td>\n",
       "      <td>2015-01-01 08:10:00</td>\n",
       "      <td>1448</td>\n",
       "      <td>2015-01-01 11:20:00</td>\n",
       "      <td>-21.0</td>\n",
       "      <td>0</td>\n",
       "      <td>0</td>\n",
       "    </tr>\n",
       "  </tbody>\n",
       "</table>\n",
       "</div>"
      ],
      "text/plain": [
       "    MONTH_NAME  DOW_NAME            AIRLINE_NAME AIRLINE ORIGIN_AIRPORT  \\\n",
       "0  01- January  Thursday    Alaska Airlines Inc.      AS            ANC   \n",
       "1  01- January  Thursday  American Airlines Inc.      AA            LAX   \n",
       "2  01- January  Thursday         US Airways Inc.      US            SFO   \n",
       "3  01- January  Thursday  American Airlines Inc.      AA            LAX   \n",
       "4  01- January  Thursday    Alaska Airlines Inc.      AS            SEA   \n",
       "\n",
       "  DESTINATION_AIRPORT DEPARTURE_SCHEDULED  DISTANCE   ARRIVAL_SCHEDULED  \\\n",
       "0                 SEA 2015-01-01 08:10:00      1448 2015-01-01 13:30:00   \n",
       "1                 PBI 2015-01-01 08:10:00      2330 2015-01-01 15:50:00   \n",
       "2                 CLT 2015-01-01 08:10:00      2296 2015-01-01 16:06:00   \n",
       "3                 MIA 2015-01-01 08:10:00      2342 2015-01-01 16:05:00   \n",
       "4                 ANC 2015-01-01 08:10:00      1448 2015-01-01 11:20:00   \n",
       "\n",
       "   ARRIVAL_DELAY  DIVERTED  CANCELLED  \n",
       "0          -22.0         0          0  \n",
       "1           -9.0         0          0  \n",
       "2            5.0         0          0  \n",
       "3           -9.0         0          0  \n",
       "4          -21.0         0          0  "
      ]
     },
     "execution_count": 33,
     "metadata": {},
     "output_type": "execute_result"
    }
   ],
   "source": [
    "flights.head()"
   ]
  },
  {
   "cell_type": "code",
   "execution_count": 23,
   "metadata": {
    "collapsed": false
   },
   "outputs": [
    {
     "data": {
      "text/html": [
       "<div>\n",
       "<table border=\"1\" class=\"dataframe\">\n",
       "  <thead>\n",
       "    <tr style=\"text-align: right;\">\n",
       "      <th></th>\n",
       "      <th>MONTH_NAME</th>\n",
       "      <th>DOW_NAME</th>\n",
       "      <th>AIRLINE_NAME</th>\n",
       "      <th>AIRLINE</th>\n",
       "      <th>ORIGIN_AIRPORT</th>\n",
       "      <th>DESTINATION_AIRPORT</th>\n",
       "      <th>DEPARTURE_SCHEDULED</th>\n",
       "      <th>DISTANCE</th>\n",
       "      <th>ARRIVAL_SCHEDULED</th>\n",
       "      <th>ARRIVAL_DELAY</th>\n",
       "      <th>DIVERTED</th>\n",
       "      <th>CANCELLED</th>\n",
       "    </tr>\n",
       "  </thead>\n",
       "  <tbody>\n",
       "    <tr>\n",
       "      <th>0</th>\n",
       "      <td>01- January</td>\n",
       "      <td>Thursday</td>\n",
       "      <td>Alaska Airlines Inc.</td>\n",
       "      <td>AS</td>\n",
       "      <td>ANC</td>\n",
       "      <td>SEA</td>\n",
       "      <td>2015-01-01 08:10:00</td>\n",
       "      <td>1448</td>\n",
       "      <td>2015-01-01 13:30:00</td>\n",
       "      <td>-22.0</td>\n",
       "      <td>0</td>\n",
       "      <td>0</td>\n",
       "    </tr>\n",
       "    <tr>\n",
       "      <th>1</th>\n",
       "      <td>01- January</td>\n",
       "      <td>Thursday</td>\n",
       "      <td>American Airlines Inc.</td>\n",
       "      <td>AA</td>\n",
       "      <td>LAX</td>\n",
       "      <td>PBI</td>\n",
       "      <td>2015-01-01 08:10:00</td>\n",
       "      <td>2330</td>\n",
       "      <td>2015-01-01 15:50:00</td>\n",
       "      <td>-9.0</td>\n",
       "      <td>0</td>\n",
       "      <td>0</td>\n",
       "    </tr>\n",
       "    <tr>\n",
       "      <th>2</th>\n",
       "      <td>01- January</td>\n",
       "      <td>Thursday</td>\n",
       "      <td>US Airways Inc.</td>\n",
       "      <td>US</td>\n",
       "      <td>SFO</td>\n",
       "      <td>CLT</td>\n",
       "      <td>2015-01-01 08:10:00</td>\n",
       "      <td>2296</td>\n",
       "      <td>2015-01-01 16:06:00</td>\n",
       "      <td>5.0</td>\n",
       "      <td>0</td>\n",
       "      <td>0</td>\n",
       "    </tr>\n",
       "    <tr>\n",
       "      <th>3</th>\n",
       "      <td>01- January</td>\n",
       "      <td>Thursday</td>\n",
       "      <td>American Airlines Inc.</td>\n",
       "      <td>AA</td>\n",
       "      <td>LAX</td>\n",
       "      <td>MIA</td>\n",
       "      <td>2015-01-01 08:10:00</td>\n",
       "      <td>2342</td>\n",
       "      <td>2015-01-01 16:05:00</td>\n",
       "      <td>-9.0</td>\n",
       "      <td>0</td>\n",
       "      <td>0</td>\n",
       "    </tr>\n",
       "    <tr>\n",
       "      <th>4</th>\n",
       "      <td>01- January</td>\n",
       "      <td>Thursday</td>\n",
       "      <td>Alaska Airlines Inc.</td>\n",
       "      <td>AS</td>\n",
       "      <td>SEA</td>\n",
       "      <td>ANC</td>\n",
       "      <td>2015-01-01 08:10:00</td>\n",
       "      <td>1448</td>\n",
       "      <td>2015-01-01 11:20:00</td>\n",
       "      <td>-21.0</td>\n",
       "      <td>0</td>\n",
       "      <td>0</td>\n",
       "    </tr>\n",
       "  </tbody>\n",
       "</table>\n",
       "</div>"
      ],
      "text/plain": [
       "    MONTH_NAME  DOW_NAME            AIRLINE_NAME AIRLINE ORIGIN_AIRPORT  \\\n",
       "0  01- January  Thursday    Alaska Airlines Inc.      AS            ANC   \n",
       "1  01- January  Thursday  American Airlines Inc.      AA            LAX   \n",
       "2  01- January  Thursday         US Airways Inc.      US            SFO   \n",
       "3  01- January  Thursday  American Airlines Inc.      AA            LAX   \n",
       "4  01- January  Thursday    Alaska Airlines Inc.      AS            SEA   \n",
       "\n",
       "  DESTINATION_AIRPORT  DEPARTURE_SCHEDULED  DISTANCE    ARRIVAL_SCHEDULED  \\\n",
       "0                 SEA  2015-01-01 08:10:00      1448  2015-01-01 13:30:00   \n",
       "1                 PBI  2015-01-01 08:10:00      2330  2015-01-01 15:50:00   \n",
       "2                 CLT  2015-01-01 08:10:00      2296  2015-01-01 16:06:00   \n",
       "3                 MIA  2015-01-01 08:10:00      2342  2015-01-01 16:05:00   \n",
       "4                 ANC  2015-01-01 08:10:00      1448  2015-01-01 11:20:00   \n",
       "\n",
       "   ARRIVAL_DELAY  DIVERTED  CANCELLED  \n",
       "0          -22.0         0          0  \n",
       "1           -9.0         0          0  \n",
       "2            5.0         0          0  \n",
       "3           -9.0         0          0  \n",
       "4          -21.0         0          0  "
      ]
     },
     "execution_count": 23,
     "metadata": {},
     "output_type": "execute_result"
    }
   ],
   "source": [
    "flights.head()"
   ]
  },
  {
   "cell_type": "code",
   "execution_count": null,
   "metadata": {
    "collapsed": true
   },
   "outputs": [],
   "source": []
  },
  {
   "cell_type": "code",
   "execution_count": 19,
   "metadata": {
    "collapsed": false
   },
   "outputs": [
    {
     "data": {
      "text/html": [
       "<div>\n",
       "<table border=\"1\" class=\"dataframe\">\n",
       "  <thead>\n",
       "    <tr style=\"text-align: right;\">\n",
       "      <th></th>\n",
       "      <th>MONTH_NAME</th>\n",
       "      <th>DOW_NAME</th>\n",
       "      <th>AIRLINE_NAME</th>\n",
       "      <th>AIRLINE</th>\n",
       "      <th>ORIGIN_AIRPORT</th>\n",
       "      <th>DESTINATION_AIRPORT</th>\n",
       "      <th>DEPARTURE_SCHEDULED</th>\n",
       "      <th>DISTANCE</th>\n",
       "      <th>ARRIVAL_SCHEDULED</th>\n",
       "      <th>ARRIVAL_DELAY</th>\n",
       "      <th>DIVERTED</th>\n",
       "      <th>CANCELLED</th>\n",
       "    </tr>\n",
       "  </thead>\n",
       "  <tbody>\n",
       "    <tr>\n",
       "      <th>0</th>\n",
       "      <td>01- January</td>\n",
       "      <td>Thursday</td>\n",
       "      <td>Alaska Airlines Inc.</td>\n",
       "      <td>AS</td>\n",
       "      <td>ANC</td>\n",
       "      <td>SEA</td>\n",
       "      <td>2015-01-01 00:05:00</td>\n",
       "      <td>1448</td>\n",
       "      <td>2015-01-01 04:30:00</td>\n",
       "      <td>-22.0</td>\n",
       "      <td>0</td>\n",
       "      <td>0</td>\n",
       "    </tr>\n",
       "    <tr>\n",
       "      <th>1</th>\n",
       "      <td>01- January</td>\n",
       "      <td>Thursday</td>\n",
       "      <td>American Airlines Inc.</td>\n",
       "      <td>AA</td>\n",
       "      <td>LAX</td>\n",
       "      <td>PBI</td>\n",
       "      <td>2015-01-01 00:10:00</td>\n",
       "      <td>2330</td>\n",
       "      <td>2015-01-01 07:50:00</td>\n",
       "      <td>-9.0</td>\n",
       "      <td>0</td>\n",
       "      <td>0</td>\n",
       "    </tr>\n",
       "    <tr>\n",
       "      <th>2</th>\n",
       "      <td>01- January</td>\n",
       "      <td>Thursday</td>\n",
       "      <td>US Airways Inc.</td>\n",
       "      <td>US</td>\n",
       "      <td>SFO</td>\n",
       "      <td>CLT</td>\n",
       "      <td>2015-01-01 00:20:00</td>\n",
       "      <td>2296</td>\n",
       "      <td>2015-01-01 08:06:00</td>\n",
       "      <td>5.0</td>\n",
       "      <td>0</td>\n",
       "      <td>0</td>\n",
       "    </tr>\n",
       "    <tr>\n",
       "      <th>3</th>\n",
       "      <td>01- January</td>\n",
       "      <td>Thursday</td>\n",
       "      <td>American Airlines Inc.</td>\n",
       "      <td>AA</td>\n",
       "      <td>LAX</td>\n",
       "      <td>MIA</td>\n",
       "      <td>2015-01-01 00:20:00</td>\n",
       "      <td>2342</td>\n",
       "      <td>2015-01-01 08:05:00</td>\n",
       "      <td>-9.0</td>\n",
       "      <td>0</td>\n",
       "      <td>0</td>\n",
       "    </tr>\n",
       "    <tr>\n",
       "      <th>4</th>\n",
       "      <td>01- January</td>\n",
       "      <td>Thursday</td>\n",
       "      <td>Alaska Airlines Inc.</td>\n",
       "      <td>AS</td>\n",
       "      <td>SEA</td>\n",
       "      <td>ANC</td>\n",
       "      <td>2015-01-01 00:25:00</td>\n",
       "      <td>1448</td>\n",
       "      <td>2015-01-01 03:20:00</td>\n",
       "      <td>-21.0</td>\n",
       "      <td>0</td>\n",
       "      <td>0</td>\n",
       "    </tr>\n",
       "  </tbody>\n",
       "</table>\n",
       "</div>"
      ],
      "text/plain": [
       "    MONTH_NAME  DOW_NAME            AIRLINE_NAME AIRLINE ORIGIN_AIRPORT  \\\n",
       "0  01- January  Thursday    Alaska Airlines Inc.      AS            ANC   \n",
       "1  01- January  Thursday  American Airlines Inc.      AA            LAX   \n",
       "2  01- January  Thursday         US Airways Inc.      US            SFO   \n",
       "3  01- January  Thursday  American Airlines Inc.      AA            LAX   \n",
       "4  01- January  Thursday    Alaska Airlines Inc.      AS            SEA   \n",
       "\n",
       "  DESTINATION_AIRPORT DEPARTURE_SCHEDULED  DISTANCE   ARRIVAL_SCHEDULED  \\\n",
       "0                 SEA 2015-01-01 00:05:00      1448 2015-01-01 04:30:00   \n",
       "1                 PBI 2015-01-01 00:10:00      2330 2015-01-01 07:50:00   \n",
       "2                 CLT 2015-01-01 00:20:00      2296 2015-01-01 08:06:00   \n",
       "3                 MIA 2015-01-01 00:20:00      2342 2015-01-01 08:05:00   \n",
       "4                 ANC 2015-01-01 00:25:00      1448 2015-01-01 03:20:00   \n",
       "\n",
       "   ARRIVAL_DELAY  DIVERTED  CANCELLED  \n",
       "0          -22.0         0          0  \n",
       "1           -9.0         0          0  \n",
       "2            5.0         0          0  \n",
       "3           -9.0         0          0  \n",
       "4          -21.0         0          0  "
      ]
     },
     "execution_count": 19,
     "metadata": {},
     "output_type": "execute_result"
    }
   ],
   "source": [
    "flights.head()"
   ]
  },
  {
   "cell_type": "code",
   "execution_count": null,
   "metadata": {
    "collapsed": true
   },
   "outputs": [],
   "source": [
    "flights_original = pd.read_csv('flights.csv', low_memory=False)"
   ]
  },
  {
   "cell_type": "code",
   "execution_count": null,
   "metadata": {
    "collapsed": false
   },
   "outputs": [],
   "source": [
    "flights_original.head()"
   ]
  },
  {
   "cell_type": "code",
   "execution_count": null,
   "metadata": {
    "collapsed": false
   },
   "outputs": [],
   "source": [
    "flights['DATE_DEPARTURE'] = pd.to_datetime(flights_original[['YEAR','MONTH','DAY']], yearfirst=True)"
   ]
  },
  {
   "cell_type": "code",
   "execution_count": null,
   "metadata": {
    "collapsed": true
   },
   "outputs": [],
   "source": [
    "flights['DEPARTURE_SCHEDULED'] = pd.to_datetime(flights['DEPARTURE_SCHEDULED'])"
   ]
  },
  {
   "cell_type": "code",
   "execution_count": null,
   "metadata": {
    "collapsed": true
   },
   "outputs": [],
   "source": [
    "flights['ARRIVAL_SCHEDULED'] = pd.to_datetime(flights['ARRIVAL_SCHEDULED'])"
   ]
  },
  {
   "cell_type": "code",
   "execution_count": null,
   "metadata": {
    "collapsed": false
   },
   "outputs": [],
   "source": [
    "flights[\"DEPARTURE_SCHEDULED\"][0][10:]"
   ]
  },
  {
   "cell_type": "code",
   "execution_count": null,
   "metadata": {
    "collapsed": false
   },
   "outputs": [],
   "source": [
    "flights.head()"
   ]
  },
  {
   "cell_type": "code",
   "execution_count": null,
   "metadata": {
    "collapsed": false
   },
   "outputs": [],
   "source": [
    "departure = []\n",
    "arrival = []\n",
    "\n",
    "for i in range(len(flights)):\n",
    "    if i % 1000000 == 0:\n",
    "        print (i)\n",
    "    precursor = str(flights['DATE_DEPARTURE'][i])\n",
    "    departure.append( precursor + flights[\"DEPARTURE_SCHEDULED\"][i][10:])\n",
    "    arrival.append(precursor + flights[\"ARRIVAL_SCHEDULED\"][i][10:])\n"
   ]
  },
  {
   "cell_type": "code",
   "execution_count": null,
   "metadata": {
    "collapsed": false
   },
   "outputs": [],
   "source": [
    "departure[0][:11] + departure[0][-8:]"
   ]
  },
  {
   "cell_type": "code",
   "execution_count": null,
   "metadata": {
    "collapsed": false
   },
   "outputs": [],
   "source": [
    "for i in range(len(departure)):\n",
    "    departure[i] = departure[i][:11] + departure[i][-8:]\n",
    "    arrival[i] = arrival[i][:11] + arrival[i][-8:]"
   ]
  },
  {
   "cell_type": "code",
   "execution_count": null,
   "metadata": {
    "collapsed": false
   },
   "outputs": [],
   "source": [
    "arrival[0]"
   ]
  },
  {
   "cell_type": "code",
   "execution_count": null,
   "metadata": {
    "collapsed": true
   },
   "outputs": [],
   "source": [
    "flights[\"DEPARTURE_SCHEDULED\"] = departure\n",
    "flights[\"ARRIVAL_SCHEDULED\"] = arrival\n"
   ]
  },
  {
   "cell_type": "code",
   "execution_count": null,
   "metadata": {
    "collapsed": false
   },
   "outputs": [],
   "source": [
    "cols = flights.columns.values.tolist()\n",
    "cols"
   ]
  },
  {
   "cell_type": "code",
   "execution_count": null,
   "metadata": {
    "collapsed": false
   },
   "outputs": [],
   "source": [
    "del flights['DATE_DEPARTURE']"
   ]
  },
  {
   "cell_type": "code",
   "execution_count": null,
   "metadata": {
    "collapsed": false
   },
   "outputs": [],
   "source": [
    "cols = flights.columns.values.tolist()\n",
    "cols"
   ]
  },
  {
   "cell_type": "code",
   "execution_count": null,
   "metadata": {
    "collapsed": true
   },
   "outputs": [],
   "source": [
    "flights.to_csv(\"Flights_Modified_V3.csv\", index = False)"
   ]
  },
  {
   "cell_type": "code",
   "execution_count": null,
   "metadata": {
    "collapsed": true
   },
   "outputs": [],
   "source": [
    "flights2 = pd.read_csv('Flights_Modified_V2.csv', low_memory=False)"
   ]
  },
  {
   "cell_type": "code",
   "execution_count": null,
   "metadata": {
    "collapsed": true
   },
   "outputs": [],
   "source": [
    "flights2.head()"
   ]
  },
  {
   "cell_type": "code",
   "execution_count": null,
   "metadata": {
    "collapsed": true
   },
   "outputs": [],
   "source": [
    "for i in range(len(flights)):\n",
    "    if flights2[\"ARRIVAL_SCHEDULED\"] !"
   ]
  }
 ],
 "metadata": {
  "anaconda-cloud": {},
  "kernelspec": {
   "display_name": "Python 3",
   "language": "python",
   "name": "python3"
  },
  "language_info": {
   "codemirror_mode": {
    "name": "ipython",
    "version": 3
   },
   "file_extension": ".py",
   "mimetype": "text/x-python",
   "name": "python",
   "nbconvert_exporter": "python",
   "pygments_lexer": "ipython3",
   "version": "3.6.0"
  }
 },
 "nbformat": 4,
 "nbformat_minor": 0
}
